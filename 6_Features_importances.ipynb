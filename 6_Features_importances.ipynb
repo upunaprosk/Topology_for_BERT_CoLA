{
 "cells": [
  {
   "cell_type": "markdown",
   "metadata": {
    "id": "pnnygZNLcghj"
   },
   "source": [
    "__Short summary__\n",
    "\n",
    "In this notebook:\n",
    "- [logreg result on 1 feature_metrics calculated WITH roc thr selection (balanced accuracy, f1-score, mcc)](#logreg_selection_roc);\n",
    "- [logreg result on 1 feature_metrics calculated without roc thr selection](#without_roc_thr);\n",
    "- [rule-based selection](#rule_based_thrs).\n",
    "\n",
    "Result:  \n",
    "\n",
    "CSV table with log_reg mcc and acc for each feature that can be used for further feature selection.\n",
    "\n"
   ]
  },
  {
   "cell_type": "markdown",
   "metadata": {
    "id": "ncr51dD7-IeC"
   },
   "source": [
    "# LogRegression Threshold best based on ROC curve (balanced acc)"
   ]
  },
  {
   "cell_type": "markdown",
   "metadata": {
    "id": "5298h0bIikDB"
   },
   "source": [
    "Для каждой фичи - LogReg на in_domain_train, затем - по max balanced Accuracy определяется оптимальный порог по roc-кривой. Найденный порог используется для классификации предложений."
   ]
  },
  {
   "cell_type": "code",
   "execution_count": null,
   "metadata": {},
   "outputs": [],
   "source": [
    "import pandas as pd\n",
    "import numpy as np\n",
    "import warnings\n",
    "from sklearn.model_selection import train_test_split\n",
    "from sklearn.linear_model import LogisticRegression\n",
    "from sklearn.metrics import roc_curve\n",
    "import matplotlib.pyplot as plt\n",
    "from sklearn.metrics import matthews_corrcoef\n",
    "from sklearn.metrics import accuracy_score\n",
    "from sklearn.metrics import precision_recall_curve\n",
    "from sklearn.metrics import f1_score\n",
    "from sklearn.metrics import make_scorer\n",
    "from sklearn.model_selection import StratifiedKFold\n",
    "from sklearn.model_selection import cross_val_score, GridSearchCV\n",
    "from sklearn.base import BaseEstimator, ClassifierMixin\n",
    "from tqdm.notebook import tqdm\n",
    "from collections import defaultdict"
   ]
  },
  {
   "cell_type": "markdown",
   "metadata": {},
   "source": [
    "___\n",
    "# Settings"
   ]
  },
  {
   "cell_type": "code",
   "execution_count": null,
   "metadata": {},
   "outputs": [],
   "source": [
    "subset =  \"in_domain_train\" \n",
    "model_name =   \"nt\"\n",
    "tables_dir = './tables/'"
   ]
  },
  {
   "cell_type": "code",
   "execution_count": null,
   "metadata": {},
   "outputs": [],
   "source": [
    "features_values = pd.read_csv(f\"{tables_dir}all_features_{subset}_{model_name}.csv\")\n",
    "features_metrics = pd.read_csv(f\"{tables_dir}{subset}_{model_name}.csv\")\n",
    "df = pd.read_csv(\"./data/cola_public/raw/\" + subset + \".tsv\", delimiter='\\t', header=None, names=['sentence_source', 'label', 'label_notes', 'sentence'])\n",
    "y = df['label'].values\n",
    "df.head(2)"
   ]
  },
  {
   "cell_type": "code",
   "execution_count": null,
   "metadata": {},
   "outputs": [],
   "source": [
    "df_in_domain = pd.read_csv(\"./data/cola_public/raw/in_domain_dev.tsv\", delimiter='\\t', header=None, names=['sentence_source', 'label', 'label_notes', 'sentence'])\n",
    "X_in_domain = pd.read_csv(f\"{tables_dir}all_features_in_domain_dev_{model_name}.csv\")\n",
    "y_in_domain = df_in_domain['label'].values\n",
    "X_in_domain.head(2)"
   ]
  },
  {
   "cell_type": "code",
   "execution_count": null,
   "metadata": {},
   "outputs": [],
   "source": [
    "df_out_domain = pd.read_csv(\"./data/cola_public/raw/out_of_domain_dev.tsv\", delimiter='\\t', header=None, names=['sentence_source', 'label', 'label_notes', 'sentence'])\n",
    "y_out_domain = df_out_domain['label'].values\n",
    "X_out_domain = pd.read_csv(f\"{tables_dir}all_features_out_of_domain_dev_{model_name}.csv\")\n",
    "X_out_domain.head(2)"
   ]
  },
  {
   "cell_type": "markdown",
   "metadata": {},
   "source": [
    "___"
   ]
  },
  {
   "cell_type": "code",
   "execution_count": null,
   "metadata": {},
   "outputs": [],
   "source": [
    "def confusion_matrix_curve(y, yhat):\n",
    "    p = np.sum(y)\n",
    "    n = y.shape[0] - p\n",
    "    fpr, tpr, threshold = roc_curve(y, yhat)\n",
    "    tns = []\n",
    "    fps = []\n",
    "    fns = []\n",
    "    tps = []\n",
    "    for i in range(len(fpr)):\n",
    "        fp = fpr[i] * n\n",
    "        tp = tpr[i] * p\n",
    "        tn = n - fp\n",
    "        fn = p - tp\n",
    "        tns.append(tn)\n",
    "        fps.append(fp)\n",
    "        fns.append(fn)\n",
    "        tps.append(tp)\n",
    "    return np.array(tns), np.array(fps), np.array(fns), np.array(tps), threshold\n",
    "def find_best_threshold(y, yhat, scoring='balanced_accuracy'):\n",
    "    if scoring == 'balanced_accuracy':\n",
    "        fpr, tpr, threshold = roc_curve(y, yhat)\n",
    "        thr = threshold[np.argmax(tpr - fpr)] # max. tpr - fpr => max. balanced accuracy\n",
    "        y_pred = np.array([1 if i > thr else 0 for i in yhat])\n",
    "    elif scoring == 'matthews_corrcoef':\n",
    "        tns, fps, fns, tps, threshold = confusion_matrix_curve(y, yhat)\n",
    "        mccs = compute_mcc(tns, fps, fns, tps)\n",
    "        thr = threshold[np.argmax(mccs)]\n",
    "        y_pred = np.array([1 if i > thr else 0 for i in yhat])\n",
    "    else:\n",
    "        print('Unknown scoring', file=sys.stderr)\n",
    "        assert 0\n",
    "    return thr, y_pred\n",
    "\n",
    "def compute_mcc(tns, fps, fns, tps):\n",
    "    a = []\n",
    "    for i in range(len(tns)):\n",
    "        top = tps[i] * tns[i] - fps[i] * fns[i]\n",
    "        if top == 0:\n",
    "            a.append(0)\n",
    "        else:\n",
    "            bottom = np.sqrt((tps[i] + fps[i]) * (tps[i] + fns[i]) * (tns[i] + fps[i]) * (tns[i] + fns[i]))\n",
    "            a.append(top / bottom)\n",
    "    return np.array(a)"
   ]
  },
  {
   "cell_type": "code",
   "execution_count": 18,
   "metadata": {
    "id": "UP_e3rABETAW"
   },
   "outputs": [],
   "source": [
    "# Список фич отсортированных по P_vaue\n",
    "features_metrics = features_metrics.sort_values(by = ['p_value']).reset_index(drop = True).copy()"
   ]
  },
  {
   "cell_type": "code",
   "execution_count": 19,
   "metadata": {
    "id": "sL5kYdfz5gz-"
   },
   "outputs": [
    {
     "data": {
      "text/html": [
       "<div>\n",
       "<style scoped>\n",
       "    .dataframe tbody tr th:only-of-type {\n",
       "        vertical-align: middle;\n",
       "    }\n",
       "\n",
       "    .dataframe tbody tr th {\n",
       "        vertical-align: top;\n",
       "    }\n",
       "\n",
       "    .dataframe thead th {\n",
       "        text-align: right;\n",
       "    }\n",
       "</style>\n",
       "<table border=\"1\" class=\"dataframe\">\n",
       "  <thead>\n",
       "    <tr style=\"text-align: right;\">\n",
       "      <th></th>\n",
       "      <th>feature</th>\n",
       "      <th>type</th>\n",
       "      <th>corr</th>\n",
       "      <th>p_value</th>\n",
       "    </tr>\n",
       "  </thead>\n",
       "  <tbody>\n",
       "    <tr>\n",
       "      <th>0</th>\n",
       "      <td>v_t0.75_8_6</td>\n",
       "      <td>topological</td>\n",
       "      <td>0.254270</td>\n",
       "      <td>1.684520e-120</td>\n",
       "    </tr>\n",
       "    <tr>\n",
       "      <th>1</th>\n",
       "      <td>v_t0.1_8_6</td>\n",
       "      <td>topological</td>\n",
       "      <td>-0.253402</td>\n",
       "      <td>4.047799e-118</td>\n",
       "    </tr>\n",
       "  </tbody>\n",
       "</table>\n",
       "</div>"
      ],
      "text/plain": [
       "       feature         type      corr        p_value\n",
       "0  v_t0.75_8_6  topological  0.254270  1.684520e-120\n",
       "1   v_t0.1_8_6  topological -0.253402  4.047799e-118"
      ]
     },
     "execution_count": 19,
     "metadata": {},
     "output_type": "execute_result"
    }
   ],
   "source": [
    "features_metrics.head(2)"
   ]
  },
  {
   "cell_type": "markdown",
   "metadata": {},
   "source": [
    "<a id='logreg_selection_roc'></a>"
   ]
  },
  {
   "cell_type": "code",
   "execution_count": 75,
   "metadata": {},
   "outputs": [],
   "source": [
    "def log_reg_thr_search(metrics_dict, scoring_funsction_name = 'balanced_accuracy', roc_thr_search = True):\n",
    "    for i in tqdm(range(features_metrics.shape[0])): # features_metrics - отсортированный список фич по p_value\n",
    "    \n",
    "        feature_ = features_metrics.feature.values[i] # один i-ый признак\n",
    "        X = features_values.loc[:, feature_].values\n",
    "        X_train, X_test, y_train, y_test = train_test_split(X, y, \n",
    "                                                            test_size=0.25, random_state=1)\n",
    "        model = LogisticRegression(max_iter=10000)\n",
    "        model.fit(X_train.reshape(-1, 1), y_train)\n",
    "\n",
    "        yhat = model.predict_proba(X_test.reshape(-1, 1))\n",
    "        yhat = yhat[:, 1]\n",
    "        if roc_thr_search:\n",
    "            best_thresh,_ = find_best_threshold(y_test, yhat, scoring = scoring_funsction_name)\n",
    "            \n",
    "        # ГРАФИК ROC с лучшим значением ROC\n",
    "\n",
    "        # # plot the roc curve for the model\n",
    "        # plt.plot([0,1], [0,1], linestyle='--', label='No Skill')\n",
    "        # plt.plot(fpr, tpr, marker='.', label='Logistic')\n",
    "        # plt.scatter(fpr[ix], tpr[ix], marker='o', color='black', label='Best')\n",
    "        # # axis labels\n",
    "        # plt.xlabel('False Positive Rate')\n",
    "        # plt.ylabel('True Positive Rate')\n",
    "        # plt.legend()\n",
    "        # # show the plot\n",
    "        # plt.show()\n",
    "\n",
    "        acc, mcc = 0, 0\n",
    "        skf = StratifiedKFold(n_splits=3, random_state = 1, shuffle=True, )\n",
    "        skf.get_n_splits(X, y)  \n",
    "\n",
    "        acc_str, mcc_str = [], []\n",
    "        acc_in_domain, mcc_in_domain = [], []\n",
    "        acc_out_domain, mcc_out_domain = [], []\n",
    "        list_sets = [(X_in_domain.loc[:, feature_].values, y_in_domain, acc_in_domain, mcc_in_domain),\n",
    "                    (X_out_domain.loc[:, feature_].values, y_out_domain, acc_out_domain, mcc_out_domain)]\n",
    "        for train_index, test_index in skf.split(X, y):\n",
    "            X_train, X_test = X[train_index], X[test_index]\n",
    "            y_train, y_test = y[train_index], y[test_index]\n",
    "            model_str = LogisticRegression(max_iter=10000)\n",
    "            model_str.fit(X_train.reshape(-1, 1), y_train)\n",
    "            yhat, y_pred = [], []\n",
    "            \n",
    "            if roc_thr_search:\n",
    "                yhat = model_str.predict_proba(X_test.reshape(-1, 1))\n",
    "                yhat = yhat[:, 1]\n",
    "                y_pred = np.array([1 if i>best_thresh else 0 for i in yhat])\n",
    "            else:\n",
    "                y_pred = model_str.predict(X_test.reshape(-1, 1))\n",
    "            acc, mcc = accuracy_score(y_test, y_pred), matthews_corrcoef(y_test, y_pred)\n",
    "            acc_str.append(acc)\n",
    "            mcc_str.append(mcc)\n",
    "            for sets in list_sets:\n",
    "                X_test_, y_test_, aucs_, mccs_ = sets\n",
    "                yhat = model_str.predict_proba(X_test_.reshape(-1, 1))\n",
    "                yhat = yhat[:, 1]\n",
    "                y_pred = np.array([1 if i>best_thresh else 0 for i in yhat])\n",
    "                acc, mcc = accuracy_score(y_test_, y_pred), matthews_corrcoef(y_test_, y_pred)\n",
    "                aucs_.append(acc)\n",
    "                mccs_.append(mcc)\n",
    "        for key, list_ in zip(['in_train_acc', 'in_dev_acc', 'out_dev_acc'], \n",
    "                              [acc_str, acc_in_domain, acc_out_domain]):\n",
    "            metrics_dict[key].append(np.mean(list_))\n",
    "        for key, list_ in zip(['in_train_mcc', 'in_dev_mcc', 'out_dev_mcc'], \n",
    "                              [mcc_str, mcc_in_domain, mcc_out_domain]):\n",
    "            metrics_dict[key].append(np.mean(list_))\n",
    "    return metrics_dict"
   ]
  },
  {
   "cell_type": "code",
   "execution_count": 76,
   "metadata": {
    "id": "EdMNGHKEdXT3"
   },
   "outputs": [
    {
     "data": {
      "application/vnd.jupyter.widget-view+json": {
       "model_id": "6dd2a47c81cd48639c73bc99c4b253d7",
       "version_major": 2,
       "version_minor": 0
      },
      "text/plain": [
       "HBox(children=(FloatProgress(value=0.0, max=8928.0), HTML(value='')))"
      ]
     },
     "metadata": {},
     "output_type": "display_data"
    },
    {
     "name": "stdout",
     "output_type": "stream",
     "text": [
      "\n"
     ]
    }
   ],
   "source": [
    "# для константных предсказаний ошибка при расчете MCC\n",
    "warnings.filterwarnings(\"ignore\", category=RuntimeWarning) \n",
    "metrics_dict = log_reg_thr_search(defaultdict(list), scoring_funsction_name = 'balanced_accuracy')"
   ]
  },
  {
   "cell_type": "code",
   "execution_count": 77,
   "metadata": {},
   "outputs": [
    {
     "data": {
      "text/plain": [
       "dict_keys(['in_train_acc', 'in_dev_acc', 'out_dev_acc', 'in_train_mcc', 'in_dev_mcc', 'out_dev_mcc'])"
      ]
     },
     "execution_count": 77,
     "metadata": {},
     "output_type": "execute_result"
    }
   ],
   "source": [
    "metrics_dict.keys()"
   ]
  },
  {
   "cell_type": "code",
   "execution_count": null,
   "metadata": {
    "id": "5vQuRWr3gJIi"
   },
   "outputs": [],
   "source": [
    "for i in metrics_dict.keys():\n",
    "    features_metrics[i+'_roc_acc'] = metrics_dict[i]"
   ]
  },
  {
   "cell_type": "markdown",
   "metadata": {},
   "source": [
    "**Max MCCs and accuracies**"
   ]
  },
  {
   "cell_type": "code",
   "execution_count": null,
   "metadata": {
    "colab": {
     "base_uri": "https://localhost:8080/"
    },
    "executionInfo": {
     "elapsed": 33,
     "status": "ok",
     "timestamp": 1632936894235,
     "user": {
      "displayName": "Irina Proskurina",
      "photoUrl": "https://lh3.googleusercontent.com/a/default-user=s64",
      "userId": "01108725925562890305"
     },
     "user_tz": -120
    },
    "id": "PNqDFUNQl0TU",
    "outputId": "5ec3d534-fca6-4166-e649-26cffa67c2f9"
   },
   "outputs": [],
   "source": [
    "max(metrics_dict['in_train_mcc']), max(metrics_dict['in_dev_mcc']), max(metrics_dict['out_dev_mcc'])"
   ]
  },
  {
   "cell_type": "code",
   "execution_count": null,
   "metadata": {
    "colab": {
     "base_uri": "https://localhost:8080/"
    },
    "executionInfo": {
     "elapsed": 29,
     "status": "ok",
     "timestamp": 1632936894238,
     "user": {
      "displayName": "Irina Proskurina",
      "photoUrl": "https://lh3.googleusercontent.com/a/default-user=s64",
      "userId": "01108725925562890305"
     },
     "user_tz": -120
    },
    "id": "NH3LO6ADl0vs",
    "outputId": "a7751ae5-cd58-48da-bb95-7317b0178fb3"
   },
   "outputs": [],
   "source": [
    "max(metrics_dict['in_dev_acc']), max(metrics_dict['out_dev_acc']),  max(metrics_dict['in_train_acc'])"
   ]
  },
  {
   "cell_type": "markdown",
   "metadata": {
    "id": "lHfrXM3-fbf6"
   },
   "source": [
    "# Результаты без отбора thr по ROC кривой\n",
    "<a id='without_roc_thr'></a>"
   ]
  },
  {
   "cell_type": "code",
   "execution_count": 34,
   "metadata": {
    "colab": {
     "base_uri": "https://localhost:8080/",
     "height": 49,
     "referenced_widgets": [
      "1247ade11bff4fb79393b2bdd6913ee4",
      "c71b3943e2444bce9f4183c861907041",
      "8c586c9c65964a349c096ff4482d0514",
      "260637206c6d433f9d2458c7cf7c681e",
      "d8c71d3b31704bfb82567a3db66bae57",
      "1f2df4a5240d48589ca95004df0c0e4e",
      "ee974812ef9445a8b071fb1c4ae35c8b",
      "997173025dc04dbf90f841f0616026b2",
      "25211da1df984596b9ee535d3ae00983",
      "a6492fcde3884076bee8bb6efcbe8954",
      "85857866e2e049bc8621fe9630839792"
     ]
    },
    "executionInfo": {
     "elapsed": 498330,
     "status": "ok",
     "timestamp": 1632936237051,
     "user": {
      "displayName": "Irina Proskurina",
      "photoUrl": "https://lh3.googleusercontent.com/a/default-user=s64",
      "userId": "01108725925562890305"
     },
     "user_tz": -120
    },
    "id": "vK9lO0nYZ-ox",
    "outputId": "eb61ea54-4839-4b26-b2ac-960160b688ad"
   },
   "outputs": [
    {
     "data": {
      "application/vnd.jupyter.widget-view+json": {
       "model_id": "209b6300a08345b4af1bb6626226299c",
       "version_major": 2,
       "version_minor": 0
      },
      "text/plain": [
       "HBox(children=(FloatProgress(value=0.0, max=8928.0), HTML(value='')))"
      ]
     },
     "metadata": {},
     "output_type": "display_data"
    },
    {
     "name": "stdout",
     "output_type": "stream",
     "text": [
      "\n"
     ]
    }
   ],
   "source": [
    "metrics_dict = log_reg_thr_search(defaultdict(list), scoring_funsction_name = 'balanced_accuracy', roc_thr_search = False)"
   ]
  },
  {
   "cell_type": "code",
   "execution_count": 35,
   "metadata": {
    "colab": {
     "base_uri": "https://localhost:8080/"
    },
    "executionInfo": {
     "elapsed": 10,
     "status": "ok",
     "timestamp": 1632936237951,
     "user": {
      "displayName": "Irina Proskurina",
      "photoUrl": "https://lh3.googleusercontent.com/a/default-user=s64",
      "userId": "01108725925562890305"
     },
     "user_tz": -120
    },
    "id": "6zJ_ZfCQeEO8",
    "outputId": "27e08dfb-05a1-4d4c-cd9f-db45169fd30b"
   },
   "outputs": [
    {
     "data": {
      "text/plain": [
       "(0.19352888608236193, 0.1676392461660993, 0.20722752599958982)"
      ]
     },
     "execution_count": 35,
     "metadata": {},
     "output_type": "execute_result"
    }
   ],
   "source": [
    "max(metrics_dict['in_train_mcc']), max(metrics_dict['in_dev_mcc']), max(metrics_dict['out_dev_mcc'])"
   ]
  },
  {
   "cell_type": "code",
   "execution_count": 36,
   "metadata": {
    "colab": {
     "base_uri": "https://localhost:8080/"
    },
    "executionInfo": {
     "elapsed": 6,
     "status": "ok",
     "timestamp": 1632936237952,
     "user": {
      "displayName": "Irina Proskurina",
      "photoUrl": "https://lh3.googleusercontent.com/a/default-user=s64",
      "userId": "01108725925562890305"
     },
     "user_tz": -120
    },
    "id": "IWhW_WsTf3Ir",
    "outputId": "bf50c6a3-82d0-423e-8fdd-f7ed56a46659"
   },
   "outputs": [
    {
     "data": {
      "text/plain": [
       "(0.7065148640101202, 0.7093023255813954, 0.7136010551340353)"
      ]
     },
     "execution_count": 36,
     "metadata": {},
     "output_type": "execute_result"
    }
   ],
   "source": [
    "max(metrics_dict['in_dev_acc']), max(metrics_dict['out_dev_acc']),  max(metrics_dict['in_train_acc'])"
   ]
  },
  {
   "cell_type": "markdown",
   "metadata": {
    "id": "NAurdqsE-NpV"
   },
   "source": [
    "# Threshold best based on Precision-recall curve \n",
    "\n",
    "- Bad results"
   ]
  },
  {
   "cell_type": "code",
   "execution_count": 39,
   "metadata": {
    "cellView": "form",
    "id": "h5wcwzo_-SvW"
   },
   "outputs": [],
   "source": [
    "#@title Bad results\n",
    "# thresholds = []\n",
    "# metrics_dict = defaultdict(list)\n",
    "# for i in tqdm(range(features_metrics.shape[0])):\n",
    "#     feature_ = features_metrics.feature.values[i]\n",
    "#     X = features_values.loc[:, feature_].values\n",
    "#     X_train, X_test, y_train, y_test = train_test_split(X, y, \n",
    "#                                                         test_size=0.25, random_state=1)\n",
    "#     model = LogisticRegression(max_iter=10000, random_state = 1)\n",
    "#     # fit a model\n",
    "#     model.fit(X_train.reshape(-1, 1), y_train)\n",
    "#     # predict probabilities\n",
    "#     yhat = model.predict_proba(X_test.reshape(-1, 1))\n",
    "#     # keep probabilities for the positive outcome only\n",
    "#     yhat = yhat[:, 1]\n",
    "#     # calculate roc curves\n",
    "#     precision, recall, threshold = precision_recall_curve(y_test, yhat)\n",
    "#     fscore = (2 * precision * recall) / (precision + recall)\n",
    "#     # locate the index of the largest f score\n",
    "#     ix = np.argmax(fscore)\n",
    "#     # J = tpr - fpr\n",
    "#     # ix = np.argmax(J)\n",
    "#     best_thresh = threshold[ix]\n",
    "#     thresholds.append(best_thresh)\n",
    "#     acc, mcc = 0, 0\n",
    "#     skf = StratifiedKFold(n_splits=3, random_state = 1, shuffle=True, )\n",
    "#     skf.get_n_splits(X, y)  \n",
    "    \n",
    "#     acc_str, mcc_str = [], []\n",
    "#     acc_in_domain, mcc_in_domain = [], []\n",
    "#     acc_out_domain, mcc_out_domain = [], []\n",
    "#     list_sets = [(X_in_domain.loc[:, feature_].values, y_in_domain, acc_in_domain, mcc_in_domain),\n",
    "#                 (X_out_domain.loc[:, feature_].values, y_out_domain, acc_out_domain, mcc_out_domain)]\n",
    "#     for train_index, test_index in skf.split(X, y):\n",
    "#         X_train, X_test = X[train_index], X[test_index]\n",
    "#         y_train, y_test = y[train_index], y[test_index]\n",
    "#         model_str = LogisticRegression(max_iter=10000)\n",
    "#         model_str.fit(X_train.reshape(-1, 1), y_train)\n",
    "#         yhat = model.predict_proba(X_test.reshape(-1, 1))\n",
    "#         yhat = yhat[:, 1]\n",
    "#         y_pred = np.array([1 if i>best_thresh else 0 for i in yhat])\n",
    "#         acc, mcc = 0, 0\n",
    "#         if np.unique(y_pred).shape[0]>1:\n",
    "#             acc, mcc = accuracy_score(y_test, y_pred), matthews_corrcoef(y_test, y_pred)\n",
    "#         acc_str.append(acc)\n",
    "#         mcc_str.append(mcc)\n",
    "#         for sets in list_sets:\n",
    "#             X_test_, y_test_, aucs_, mccs_ = sets\n",
    "#             yhat = model.predict_proba(X_test_.reshape(-1, 1))\n",
    "#             yhat = yhat[:, 1]\n",
    "#             y_pred = np.array([1 if i>best_thresh else 0 for i in yhat])\n",
    "#             acc, mcc = 0, 0\n",
    "#             if np.unique(y_pred).shape[0]>1:\n",
    "#                 acc, mcc = accuracy_score(y_test_, y_pred), matthews_corrcoef(y_test_, y_pred)\n",
    "#             aucs_.append(acc)\n",
    "#             mccs_.append(mcc)\n",
    "\n",
    "#     aucs.append(np.mean(acc_in_domain))\n",
    "#     for key, list_ in zip(['in_train_acc', 'in_dev_acc', 'out_dev_acc'], \n",
    "#                           [acc_str, acc_in_domain, acc_out_domain]):\n",
    "#         metrics_dict[key].append(np.mean(list_))\n",
    "\n",
    "\n",
    "#     for key, list_ in zip(['in_train_mcc', 'in_dev_mcc', 'out_dev_mcc'], \n",
    "#                           [mcc_str, mcc_in_domain, mcc_out_domain]):\n",
    "#         metrics_dict[key].append(np.mean(list_))"
   ]
  },
  {
   "cell_type": "code",
   "execution_count": 40,
   "metadata": {
    "id": "5T6tP5HlHa0j"
   },
   "outputs": [],
   "source": [
    "# for i in metrics_dict.keys():\n",
    "#     features_metrics[i+'_prec'] = metrics_dict[i]"
   ]
  },
  {
   "cell_type": "markdown",
   "metadata": {
    "id": "tfzDc3qC6Cpr"
   },
   "source": [
    "# Rule-based GridSearch features' thrs\n",
    "\n",
    "<a id='rule_based_thrs'></a>"
   ]
  },
  {
   "cell_type": "markdown",
   "metadata": {
    "id": "76Le9tUc57KN"
   },
   "source": [
    "Поиск rule-based порогов для **значений** признака:\n",
    "\n",
    "(if feature value>=thr predicted_value = 1 else 0)"
   ]
  },
  {
   "cell_type": "code",
   "execution_count": 41,
   "metadata": {
    "id": "SqWLjj36PgZm"
   },
   "outputs": [],
   "source": [
    "class Basic_classifier_thr(BaseEstimator, ClassifierMixin):\n",
    "    # basic constructor containing threshold param\n",
    "    def __init__(self, thr=0.72):\n",
    "        self.thr = thr\n",
    "    # fitting X - np.array of features'values\n",
    "    # and y - target feature's values\n",
    "    def fit(self, X, y):\n",
    "        self.X_ = X\n",
    "        self.y_ = y\n",
    "        return self\n",
    "\n",
    "    def predict(self, X):\n",
    "        y_pred = []\n",
    "        parameter = self.thr\n",
    "        for x in X:\n",
    "            if x > parameter:\n",
    "                y_pred.append(1)\n",
    "            else:\n",
    "                y_pred.append(0)\n",
    "        y_pred = np.array(y_pred)\n",
    "        return y_pred"
   ]
  },
  {
   "cell_type": "code",
   "execution_count": 42,
   "metadata": {
    "colab": {
     "base_uri": "https://localhost:8080/",
     "height": 49,
     "referenced_widgets": [
      "57b73a00dccd48dba87148ac09b2ffc9",
      "0644d919cca64203b190c32d172b3618",
      "39ac2a3c1c8f4b788ea27fbbcf0ca846",
      "2964bf090bbb49a3a796d0ddc4b49d96",
      "42c4fbeabfa044098e589407f192da29",
      "3cf98b16434a4ff2ae6ca89f8d637e34",
      "4fa668d10b1749aabc2d2759505ebe83",
      "c7b3f8ab1f1640caa9379c6891903fb0",
      "2e5ce53c37df484294a7344c523e2913",
      "119a9251a55a4320a301bd223a2963d9",
      "dd75b4021087417fa2341e442031fdae"
     ]
    },
    "executionInfo": {
     "elapsed": 273752,
     "status": "ok",
     "timestamp": 1632841386461,
     "user": {
      "displayName": "Irina Proskurina",
      "photoUrl": "https://lh3.googleusercontent.com/a/default-user=s64",
      "userId": "01108725925562890305"
     },
     "user_tz": -120
    },
    "id": "Coa2LmF79Jt1",
    "outputId": "8aea65f1-6271-4d9a-b2ff-98d6d769393c"
   },
   "outputs": [
    {
     "data": {
      "application/vnd.jupyter.widget-view+json": {
       "model_id": "74d698da3dec4eae9aa1d1dc400fc9f4",
       "version_major": 2,
       "version_minor": 0
      },
      "text/plain": [
       "HBox(children=(FloatProgress(value=0.0, max=8928.0), HTML(value='')))"
      ]
     },
     "metadata": {},
     "output_type": "display_data"
    },
    {
     "name": "stdout",
     "output_type": "stream",
     "text": [
      "\n"
     ]
    }
   ],
   "source": [
    "metrics_dict_rule = defaultdict(list)\n",
    "for i in tqdm(range(features_metrics.shape[0])):\n",
    "    feature_ = features_metrics.sort_values(by = ['p_value']).feature.values[i]\n",
    "    X_train, X_test, y_train, y_test = train_test_split(features_values.loc[:, feature_].values, y, \n",
    "                                                        test_size=0.25, random_state=1)\n",
    "    mi, ma = features_values.loc[:, feature_].values.min(), features_values.loc[:, feature_].values.max()\n",
    "    grid_search = GridSearchCV(Basic_classifier_thr(), {'thr': np.linspace(mi, ma,100)})\n",
    "    grid_search.fit(X_train, y_train)\n",
    "    best_thresh = grid_search.best_estimator_.thr\n",
    "    y_pred = np.array([1 if i> best_thresh else 0 for i in X_test])\n",
    "    # if feature is bigger than that thr - 1 predicted\n",
    "    # acc, mcc = 0, 0\n",
    "    skf = StratifiedKFold(n_splits=3, random_state = 1, shuffle=True, )\n",
    "    skf.get_n_splits(X, y)  \n",
    "    \n",
    "    acc_str, mcc_str = [], []\n",
    "    acc_in_domain, mcc_in_domain = [], []\n",
    "    acc_out_domain, mcc_out_domain = [], []\n",
    "    list_sets = [(X_in_domain.loc[:, feature_].values, y_in_domain, acc_in_domain, mcc_in_domain),\n",
    "                (X_out_domain.loc[:, feature_].values, y_out_domain, acc_out_domain, mcc_out_domain)]\n",
    "    for train_index, test_index in skf.split(X, y):\n",
    "        X_train, X_test = X[train_index], X[test_index]\n",
    "        y_train, y_test = y[train_index], y[test_index]\n",
    "        ypred = np.array([1 if i>best_thresh else 0 for i in X_test])\n",
    "        acc, mcc = accuracy_score(y_test, ypred), matthews_corrcoef(y_test, ypred)\n",
    "        acc_str.append(acc)\n",
    "        mcc_str.append(mcc)\n",
    "        for sets in list_sets:\n",
    "            X_test_, y_test_, aucs_, mccs_ = sets\n",
    "            y_pred = np.array([1 if i>best_thresh else 0 for i in X_test_])\n",
    "            acc, mcc = accuracy_score(y_test_, y_pred), matthews_corrcoef(y_test_, y_pred)\n",
    "            aucs_.append(acc)\n",
    "            mccs_.append(mcc)\n",
    "\n",
    "    for key, list_ in zip(['in_train_acc', 'in_dev_acc', 'out_dev_acc'], \n",
    "                          [acc_str, acc_in_domain, acc_out_domain]):\n",
    "        metrics_dict_rule[key].append(np.mean(list_))\n",
    "    for key, list_ in zip(['in_train_mcc', 'in_dev_mcc', 'out_dev_mcc'], \n",
    "                          [mcc_str, mcc_in_domain, mcc_out_domain]):\n",
    "        metrics_dict_rule[key].append(np.mean(list_))"
   ]
  },
  {
   "cell_type": "code",
   "execution_count": 43,
   "metadata": {
    "id": "EcLj7Bk97--1"
   },
   "outputs": [],
   "source": [
    "for i in metrics_dict_rule.keys():\n",
    "    features_metrics[i+'_rule'] = metrics_dict_rule[i]"
   ]
  },
  {
   "cell_type": "code",
   "execution_count": null,
   "metadata": {},
   "outputs": [],
   "source": [
    "max(metrics_dict_rule['in_train_mcc']), max(metrics_dict_rule['in_dev_mcc']), max(metrics_dict_rule['out_dev_mcc'])"
   ]
  },
  {
   "cell_type": "code",
   "execution_count": null,
   "metadata": {},
   "outputs": [],
   "source": [
    "max(metrics_dict_rule['in_dev_acc']), max(metrics_dict_rule['out_dev_acc']),  max(metrics_dict_rule['in_train_acc'])"
   ]
  },
  {
   "cell_type": "markdown",
   "metadata": {
    "id": "FW0xXyUmYRcn"
   },
   "source": [
    "# LogRegression Threshold best based on ROC curve (f1-score)\n",
    "\n",
    "Threshold selection based on roc f1-score best"
   ]
  },
  {
   "cell_type": "code",
   "execution_count": 45,
   "metadata": {
    "colab": {
     "base_uri": "https://localhost:8080/",
     "height": 49,
     "referenced_widgets": [
      "36919ba4a55544f283839a8fa1bc23af",
      "4ad1a06dbc6148478ef8bbd7aafe0c23",
      "28a1eab4c6964370aaf44bc461812727",
      "ea4a40665c3d4688b524c9d03e9ad961",
      "5df0ecdcfc1c49e2b43b7ad696b85ce3",
      "6b179545ce054fb6b00f5c59fe9b2e76",
      "d9ce54e51a634387bf71afa7d1241a5c",
      "fc40c94739bb475093d88f7c975e66c1",
      "af0ef71d5c3b41f8948b3749ed1735cf",
      "6f7a24b4d0b94190ac7c371a65beb3e1",
      "0c697060c23147e186ff32652dca8a84"
     ]
    },
    "executionInfo": {
     "elapsed": 6168834,
     "status": "ok",
     "timestamp": 1632927845343,
     "user": {
      "displayName": "Irina Proskurina",
      "photoUrl": "https://lh3.googleusercontent.com/a/default-user=s64",
      "userId": "01108725925562890305"
     },
     "user_tz": -120
    },
    "id": "nDLRG7DHXL-y",
    "outputId": "1d632a26-a840-41cf-d449-cd4f089bed50"
   },
   "outputs": [
    {
     "data": {
      "application/vnd.jupyter.widget-view+json": {
       "model_id": "1997f646041e4920ac6b3ddadf023c69",
       "version_major": 2,
       "version_minor": 0
      },
      "text/plain": [
       "HBox(children=(FloatProgress(value=0.0, max=8928.0), HTML(value='')))"
      ]
     },
     "metadata": {},
     "output_type": "display_data"
    },
    {
     "name": "stdout",
     "output_type": "stream",
     "text": [
      "\n"
     ]
    }
   ],
   "source": [
    "metrics_dict = defaultdict(list)\n",
    "def to_labels(pos_probs, threshold):\n",
    "    return (pos_probs >= threshold).astype('int')\n",
    "for i in tqdm(range(features_metrics.shape[0])):\n",
    "    \n",
    "    feature_ = features_metrics.feature.values[i]\n",
    "    X = features_values.loc[:, feature_].values\n",
    "    X_train, X_test, y_train, y_test = train_test_split(X, y, \n",
    "                                                        test_size=0.25, random_state=1)\n",
    "    model = LogisticRegression(max_iter=10000)\n",
    "    model.fit(X_train.reshape(-1, 1), y_train)\n",
    "    yhat = model.predict_proba(X_test.reshape(-1, 1))\n",
    "    yhat = yhat[:, 1]\n",
    "\n",
    "    threshold = np.arange(0, 1, 0.01)\n",
    "    scores = [f1_score(y_test, to_labels(yhat, t)) for t in threshold]\n",
    "    ix = np.argmax(scores)\n",
    "    best_thresh = threshold[ix]\n",
    "    \n",
    "    acc, mcc = 0, 0\n",
    "    skf = StratifiedKFold(n_splits=3, random_state = 1, shuffle=True, )\n",
    "    skf.get_n_splits(X, y)  \n",
    "    \n",
    "    acc_str, mcc_str = [], []\n",
    "    acc_in_domain, mcc_in_domain = [], []\n",
    "    acc_out_domain, mcc_out_domain = [], []\n",
    "    list_sets = [(X_in_domain.loc[:, feature_].values, y_in_domain, acc_in_domain, mcc_in_domain),\n",
    "                (X_out_domain.loc[:, feature_].values, y_out_domain, acc_out_domain, mcc_out_domain)]\n",
    "    for train_index, test_index in skf.split(X, y):\n",
    "        X_train, X_test = X[train_index], X[test_index]\n",
    "        y_train, y_test = y[train_index], y[test_index]\n",
    "        model_str = LogisticRegression(max_iter=10000)\n",
    "        model_str.fit(X_train.reshape(-1, 1), y_train)\n",
    "\n",
    "        yhat = model.predict_proba(X_test.reshape(-1, 1))\n",
    "        yhat = yhat[:, 1]\n",
    "        y_pred = np.array([1 if i>=best_thresh else 0 for i in yhat])\n",
    "        acc, mcc = accuracy_score(y_test, y_pred), matthews_corrcoef(y_test, y_pred)\n",
    "        acc_str.append(acc)\n",
    "        mcc_str.append(mcc)\n",
    "        for sets in list_sets:\n",
    "            X_test_, y_test_, aucs_, mccs_ = sets\n",
    "            yhat = model.predict_proba(X_test_.reshape(-1, 1))\n",
    "            yhat = yhat[:, 1]\n",
    "            y_pred = np.array([1 if i>=best_thresh else 0 for i in yhat])\n",
    "            acc, mcc = accuracy_score(y_test_, y_pred), matthews_corrcoef(y_test_, y_pred)\n",
    "            aucs_.append(acc)\n",
    "            mccs_.append(mcc)\n",
    "    for key, list_ in zip(['in_train_acc', 'in_dev_acc', 'out_dev_acc'], \n",
    "                          [acc_str, acc_in_domain, acc_out_domain]):\n",
    "        metrics_dict[key].append(np.mean(list_))\n",
    "    for key, list_ in zip(['in_train_mcc', 'in_dev_mcc', 'out_dev_mcc'], \n",
    "                          [mcc_str, mcc_in_domain, mcc_out_domain]):\n",
    "        metrics_dict[key].append(np.mean(list_))"
   ]
  },
  {
   "cell_type": "code",
   "execution_count": 46,
   "metadata": {},
   "outputs": [
    {
     "data": {
      "text/plain": [
       "(0.13504703569611196, 0.1863589434285585, 0.22734261691467486)"
      ]
     },
     "execution_count": 46,
     "metadata": {},
     "output_type": "execute_result"
    }
   ],
   "source": [
    "max(metrics_dict['in_train_mcc']), max(metrics_dict['in_dev_mcc']), max(metrics_dict['out_dev_mcc'])"
   ]
  },
  {
   "cell_type": "code",
   "execution_count": 47,
   "metadata": {},
   "outputs": [
    {
     "data": {
      "text/plain": [
       "(0.7077798861480075, 0.7131782945736435, 0.7134838089025909)"
      ]
     },
     "execution_count": 47,
     "metadata": {},
     "output_type": "execute_result"
    }
   ],
   "source": [
    "max(metrics_dict['in_dev_acc']), max(metrics_dict['out_dev_acc']),  max(metrics_dict['in_train_acc'])"
   ]
  },
  {
   "cell_type": "code",
   "execution_count": 48,
   "metadata": {
    "id": "RQqHhyNPju5w"
   },
   "outputs": [],
   "source": [
    "for i in metrics_dict.keys():\n",
    "    features_metrics[i+'_grid_log'] = metrics_dict[i]"
   ]
  },
  {
   "cell_type": "code",
   "execution_count": 49,
   "metadata": {
    "id": "4EgBg-CmY51H"
   },
   "outputs": [],
   "source": [
    "features_metrics[i+'thr_grid_log'] = thresholds"
   ]
  },
  {
   "cell_type": "code",
   "execution_count": null,
   "metadata": {
    "id": "UDpDTJN3YmGw"
   },
   "outputs": [],
   "source": [
    "# features_metrics.to_csv(f'{tables_dir}features_importances_2.csv')# with rule-based classes"
   ]
  },
  {
   "cell_type": "markdown",
   "metadata": {},
   "source": [
    "# LogRegression Threshold best based on ROC curve (mcc)\n",
    "\n",
    "Threshold selection based on roc-curve mcc-score best"
   ]
  },
  {
   "cell_type": "code",
   "execution_count": 51,
   "metadata": {
    "id": "YHbtQU3Hed9A"
   },
   "outputs": [
    {
     "data": {
      "application/vnd.jupyter.widget-view+json": {
       "model_id": "5fde0fdccb304a04bf60accf2c816ece",
       "version_major": 2,
       "version_minor": 0
      },
      "text/plain": [
       "HBox(children=(FloatProgress(value=0.0, max=8928.0), HTML(value='')))"
      ]
     },
     "metadata": {},
     "output_type": "display_data"
    },
    {
     "name": "stdout",
     "output_type": "stream",
     "text": [
      "\n"
     ]
    }
   ],
   "source": [
    "metrics_dict = log_reg_thr_search(defaultdict(list), scoring_funsction_name = 'matthews_corrcoef')"
   ]
  },
  {
   "cell_type": "code",
   "execution_count": 52,
   "metadata": {},
   "outputs": [
    {
     "data": {
      "text/plain": [
       "(0.21903088976325835, 0.25561809104304334, 0.26401546525398606)"
      ]
     },
     "execution_count": 52,
     "metadata": {},
     "output_type": "execute_result"
    }
   ],
   "source": [
    "max(metrics_dict['in_train_mcc']), max(metrics_dict['in_dev_mcc']), max(metrics_dict['out_dev_mcc'])"
   ]
  },
  {
   "cell_type": "code",
   "execution_count": 53,
   "metadata": {},
   "outputs": [
    {
     "data": {
      "text/plain": [
       "(0.7096774193548386, 0.7125322997416021, 0.7126650954522985)"
      ]
     },
     "execution_count": 53,
     "metadata": {},
     "output_type": "execute_result"
    }
   ],
   "source": [
    "max(metrics_dict['in_dev_acc']), max(metrics_dict['out_dev_acc']),  max(metrics_dict['in_train_acc'])"
   ]
  },
  {
   "cell_type": "code",
   "execution_count": 54,
   "metadata": {
    "id": "AiEYXNhabqyo"
   },
   "outputs": [],
   "source": [
    "for i in metrics_dict.keys():\n",
    "    features_metrics[i+'_roc_mcc'] = metrics_dict[i]"
   ]
  },
  {
   "cell_type": "code",
   "execution_count": 58,
   "metadata": {
    "id": "k50kMjLPb16S"
   },
   "outputs": [],
   "source": [
    "features_metrics = features_metrics[['feature', 'type', 'p_value', 'corr',\n",
    "          'in_train_acc_roc_mcc', 'in_dev_acc_roc_mcc', 'out_dev_acc_roc_mcc',\n",
    "       'in_train_mcc_roc_mcc', 'in_dev_mcc_roc_mcc', 'out_dev_mcc_roc_mcc']]"
   ]
  },
  {
   "cell_type": "code",
   "execution_count": 59,
   "metadata": {
    "colab": {
     "base_uri": "https://localhost:8080/",
     "height": 612
    },
    "executionInfo": {
     "elapsed": 201,
     "status": "ok",
     "timestamp": 1633521109524,
     "user": {
      "displayName": "Irina Proskurina",
      "photoUrl": "https://lh3.googleusercontent.com/a/default-user=s64",
      "userId": "01108725925562890305"
     },
     "user_tz": -120
    },
    "id": "oJu2qzECcBcz",
    "outputId": "5add7076-e2c5-42d7-8d13-f29f64bf08f6"
   },
   "outputs": [
    {
     "data": {
      "text/html": [
       "<div>\n",
       "<style scoped>\n",
       "    .dataframe tbody tr th:only-of-type {\n",
       "        vertical-align: middle;\n",
       "    }\n",
       "\n",
       "    .dataframe tbody tr th {\n",
       "        vertical-align: top;\n",
       "    }\n",
       "\n",
       "    .dataframe thead th {\n",
       "        text-align: right;\n",
       "    }\n",
       "</style>\n",
       "<table border=\"1\" class=\"dataframe\">\n",
       "  <thead>\n",
       "    <tr style=\"text-align: right;\">\n",
       "      <th></th>\n",
       "      <th>feature</th>\n",
       "      <th>type</th>\n",
       "      <th>p_value</th>\n",
       "      <th>corr</th>\n",
       "      <th>in_train_acc_roc_mcc</th>\n",
       "      <th>in_dev_acc_roc_mcc</th>\n",
       "      <th>out_dev_acc_roc_mcc</th>\n",
       "      <th>in_train_mcc_roc_mcc</th>\n",
       "      <th>in_dev_mcc_roc_mcc</th>\n",
       "      <th>out_dev_mcc_roc_mcc</th>\n",
       "    </tr>\n",
       "  </thead>\n",
       "  <tbody>\n",
       "    <tr>\n",
       "      <th>0</th>\n",
       "      <td>v_t0.75_8_6</td>\n",
       "      <td>topological</td>\n",
       "      <td>1.684520e-120</td>\n",
       "      <td>0.254270</td>\n",
       "      <td>0.680038</td>\n",
       "      <td>0.675522</td>\n",
       "      <td>0.673127</td>\n",
       "      <td>0.219031</td>\n",
       "      <td>0.200834</td>\n",
       "      <td>0.232840</td>\n",
       "    </tr>\n",
       "    <tr>\n",
       "      <th>1</th>\n",
       "      <td>v_t0.1_8_6</td>\n",
       "      <td>topological</td>\n",
       "      <td>4.047799e-118</td>\n",
       "      <td>-0.253402</td>\n",
       "      <td>0.691966</td>\n",
       "      <td>0.676154</td>\n",
       "      <td>0.698320</td>\n",
       "      <td>0.202288</td>\n",
       "      <td>0.164001</td>\n",
       "      <td>0.242049</td>\n",
       "    </tr>\n",
       "    <tr>\n",
       "      <th>2</th>\n",
       "      <td>h0_t_d_8_6</td>\n",
       "      <td>barcode</td>\n",
       "      <td>4.543650e-107</td>\n",
       "      <td>-0.236393</td>\n",
       "      <td>0.563562</td>\n",
       "      <td>0.574320</td>\n",
       "      <td>0.558786</td>\n",
       "      <td>0.208765</td>\n",
       "      <td>0.226206</td>\n",
       "      <td>0.240258</td>\n",
       "    </tr>\n",
       "    <tr>\n",
       "      <th>3</th>\n",
       "      <td>b1_t0.1_8_6</td>\n",
       "      <td>topological</td>\n",
       "      <td>4.863425e-95</td>\n",
       "      <td>-0.200544</td>\n",
       "      <td>0.582738</td>\n",
       "      <td>0.577483</td>\n",
       "      <td>0.569121</td>\n",
       "      <td>0.195701</td>\n",
       "      <td>0.183921</td>\n",
       "      <td>0.217593</td>\n",
       "    </tr>\n",
       "    <tr>\n",
       "      <th>4</th>\n",
       "      <td>v_t0.25_8_6</td>\n",
       "      <td>topological</td>\n",
       "      <td>2.697872e-93</td>\n",
       "      <td>-0.228246</td>\n",
       "      <td>0.638523</td>\n",
       "      <td>0.641366</td>\n",
       "      <td>0.653101</td>\n",
       "      <td>0.203697</td>\n",
       "      <td>0.193526</td>\n",
       "      <td>0.264015</td>\n",
       "    </tr>\n",
       "    <tr>\n",
       "      <th>...</th>\n",
       "      <td>...</td>\n",
       "      <td>...</td>\n",
       "      <td>...</td>\n",
       "      <td>...</td>\n",
       "      <td>...</td>\n",
       "      <td>...</td>\n",
       "      <td>...</td>\n",
       "      <td>...</td>\n",
       "      <td>...</td>\n",
       "      <td>...</td>\n",
       "    </tr>\n",
       "    <tr>\n",
       "      <th>8923</th>\n",
       "      <td>h1_n_b_l_t0.70_4_4</td>\n",
       "      <td>barcode</td>\n",
       "      <td>9.992989e-01</td>\n",
       "      <td>-0.002067</td>\n",
       "      <td>0.295638</td>\n",
       "      <td>0.307400</td>\n",
       "      <td>0.313953</td>\n",
       "      <td>0.000000</td>\n",
       "      <td>0.000000</td>\n",
       "      <td>0.000000</td>\n",
       "    </tr>\n",
       "    <tr>\n",
       "      <th>8924</th>\n",
       "      <td>h1_nb_0_2</td>\n",
       "      <td>barcode</td>\n",
       "      <td>9.996988e-01</td>\n",
       "      <td>-0.009926</td>\n",
       "      <td>0.659691</td>\n",
       "      <td>0.653384</td>\n",
       "      <td>0.639535</td>\n",
       "      <td>-0.005526</td>\n",
       "      <td>-0.002186</td>\n",
       "      <td>0.006828</td>\n",
       "    </tr>\n",
       "    <tr>\n",
       "      <th>8925</th>\n",
       "      <td>h1_n_b_m_t0.25_0_2</td>\n",
       "      <td>barcode</td>\n",
       "      <td>9.996988e-01</td>\n",
       "      <td>-0.009926</td>\n",
       "      <td>0.659691</td>\n",
       "      <td>0.653384</td>\n",
       "      <td>0.639535</td>\n",
       "      <td>-0.005526</td>\n",
       "      <td>-0.002186</td>\n",
       "      <td>0.006828</td>\n",
       "    </tr>\n",
       "    <tr>\n",
       "      <th>8926</th>\n",
       "      <td>h0_e_5_2</td>\n",
       "      <td>barcode</td>\n",
       "      <td>9.997128e-01</td>\n",
       "      <td>-0.004767</td>\n",
       "      <td>0.683200</td>\n",
       "      <td>0.674889</td>\n",
       "      <td>0.654393</td>\n",
       "      <td>0.012305</td>\n",
       "      <td>0.010772</td>\n",
       "      <td>0.001864</td>\n",
       "    </tr>\n",
       "    <tr>\n",
       "      <th>8927</th>\n",
       "      <td>e_t0.025_1_0</td>\n",
       "      <td>topological</td>\n",
       "      <td>9.999962e-01</td>\n",
       "      <td>-0.011843</td>\n",
       "      <td>0.686003</td>\n",
       "      <td>0.686275</td>\n",
       "      <td>0.653747</td>\n",
       "      <td>0.004545</td>\n",
       "      <td>0.040458</td>\n",
       "      <td>-0.013370</td>\n",
       "    </tr>\n",
       "  </tbody>\n",
       "</table>\n",
       "<p>8928 rows × 10 columns</p>\n",
       "</div>"
      ],
      "text/plain": [
       "                 feature         type        p_value      corr  \\\n",
       "0            v_t0.75_8_6  topological  1.684520e-120  0.254270   \n",
       "1             v_t0.1_8_6  topological  4.047799e-118 -0.253402   \n",
       "2             h0_t_d_8_6      barcode  4.543650e-107 -0.236393   \n",
       "3            b1_t0.1_8_6  topological   4.863425e-95 -0.200544   \n",
       "4            v_t0.25_8_6  topological   2.697872e-93 -0.228246   \n",
       "...                  ...          ...            ...       ...   \n",
       "8923  h1_n_b_l_t0.70_4_4      barcode   9.992989e-01 -0.002067   \n",
       "8924           h1_nb_0_2      barcode   9.996988e-01 -0.009926   \n",
       "8925  h1_n_b_m_t0.25_0_2      barcode   9.996988e-01 -0.009926   \n",
       "8926            h0_e_5_2      barcode   9.997128e-01 -0.004767   \n",
       "8927        e_t0.025_1_0  topological   9.999962e-01 -0.011843   \n",
       "\n",
       "      in_train_acc_roc_mcc  in_dev_acc_roc_mcc  out_dev_acc_roc_mcc  \\\n",
       "0                 0.680038            0.675522             0.673127   \n",
       "1                 0.691966            0.676154             0.698320   \n",
       "2                 0.563562            0.574320             0.558786   \n",
       "3                 0.582738            0.577483             0.569121   \n",
       "4                 0.638523            0.641366             0.653101   \n",
       "...                    ...                 ...                  ...   \n",
       "8923              0.295638            0.307400             0.313953   \n",
       "8924              0.659691            0.653384             0.639535   \n",
       "8925              0.659691            0.653384             0.639535   \n",
       "8926              0.683200            0.674889             0.654393   \n",
       "8927              0.686003            0.686275             0.653747   \n",
       "\n",
       "      in_train_mcc_roc_mcc  in_dev_mcc_roc_mcc  out_dev_mcc_roc_mcc  \n",
       "0                 0.219031            0.200834             0.232840  \n",
       "1                 0.202288            0.164001             0.242049  \n",
       "2                 0.208765            0.226206             0.240258  \n",
       "3                 0.195701            0.183921             0.217593  \n",
       "4                 0.203697            0.193526             0.264015  \n",
       "...                    ...                 ...                  ...  \n",
       "8923              0.000000            0.000000             0.000000  \n",
       "8924             -0.005526           -0.002186             0.006828  \n",
       "8925             -0.005526           -0.002186             0.006828  \n",
       "8926              0.012305            0.010772             0.001864  \n",
       "8927              0.004545            0.040458            -0.013370  \n",
       "\n",
       "[8928 rows x 10 columns]"
      ]
     },
     "execution_count": 59,
     "metadata": {},
     "output_type": "execute_result"
    }
   ],
   "source": [
    "features_metrics.to_csv(f'{tables_dir}features_importances.csv')# without rule-based classes\n",
    "features_metrics"
   ]
  }
 ],
 "metadata": {
  "colab": {
   "collapsed_sections": [],
   "name": "6_Features_importances.ipynb",
   "provenance": [],
   "toc_visible": true
  },
  "kernelspec": {
   "display_name": "Python 3",
   "language": "python",
   "name": "python3"
  },
  "language_info": {
   "codemirror_mode": {
    "name": "ipython",
    "version": 3
   },
   "file_extension": ".py",
   "mimetype": "text/x-python",
   "name": "python",
   "nbconvert_exporter": "python",
   "pygments_lexer": "ipython3",
   "version": "3.8.8"
  },
  "widgets": {
   "application/vnd.jupyter.widget-state+json": {
    "0644d919cca64203b190c32d172b3618": {
     "model_module": "@jupyter-widgets/controls",
     "model_module_version": "1.5.0",
     "model_name": "HTMLModel",
     "state": {
      "_dom_classes": [],
      "_model_module": "@jupyter-widgets/controls",
      "_model_module_version": "1.5.0",
      "_model_name": "HTMLModel",
      "_view_count": null,
      "_view_module": "@jupyter-widgets/controls",
      "_view_module_version": "1.5.0",
      "_view_name": "HTMLView",
      "description": "",
      "description_tooltip": null,
      "layout": "IPY_MODEL_3cf98b16434a4ff2ae6ca89f8d637e34",
      "placeholder": "​",
      "style": "IPY_MODEL_4fa668d10b1749aabc2d2759505ebe83",
      "value": "100%"
     }
    },
    "0c697060c23147e186ff32652dca8a84": {
     "model_module": "@jupyter-widgets/controls",
     "model_module_version": "1.5.0",
     "model_name": "DescriptionStyleModel",
     "state": {
      "_model_module": "@jupyter-widgets/controls",
      "_model_module_version": "1.5.0",
      "_model_name": "DescriptionStyleModel",
      "_view_count": null,
      "_view_module": "@jupyter-widgets/base",
      "_view_module_version": "1.2.0",
      "_view_name": "StyleView",
      "description_width": ""
     }
    },
    "119a9251a55a4320a301bd223a2963d9": {
     "model_module": "@jupyter-widgets/base",
     "model_module_version": "1.2.0",
     "model_name": "LayoutModel",
     "state": {
      "_model_module": "@jupyter-widgets/base",
      "_model_module_version": "1.2.0",
      "_model_name": "LayoutModel",
      "_view_count": null,
      "_view_module": "@jupyter-widgets/base",
      "_view_module_version": "1.2.0",
      "_view_name": "LayoutView",
      "align_content": null,
      "align_items": null,
      "align_self": null,
      "border": null,
      "bottom": null,
      "display": null,
      "flex": null,
      "flex_flow": null,
      "grid_area": null,
      "grid_auto_columns": null,
      "grid_auto_flow": null,
      "grid_auto_rows": null,
      "grid_column": null,
      "grid_gap": null,
      "grid_row": null,
      "grid_template_areas": null,
      "grid_template_columns": null,
      "grid_template_rows": null,
      "height": null,
      "justify_content": null,
      "justify_items": null,
      "left": null,
      "margin": null,
      "max_height": null,
      "max_width": null,
      "min_height": null,
      "min_width": null,
      "object_fit": null,
      "object_position": null,
      "order": null,
      "overflow": null,
      "overflow_x": null,
      "overflow_y": null,
      "padding": null,
      "right": null,
      "top": null,
      "visibility": null,
      "width": null
     }
    },
    "1247ade11bff4fb79393b2bdd6913ee4": {
     "model_module": "@jupyter-widgets/controls",
     "model_module_version": "1.5.0",
     "model_name": "HBoxModel",
     "state": {
      "_dom_classes": [],
      "_model_module": "@jupyter-widgets/controls",
      "_model_module_version": "1.5.0",
      "_model_name": "HBoxModel",
      "_view_count": null,
      "_view_module": "@jupyter-widgets/controls",
      "_view_module_version": "1.5.0",
      "_view_name": "HBoxView",
      "box_style": "",
      "children": [
       "IPY_MODEL_8c586c9c65964a349c096ff4482d0514",
       "IPY_MODEL_260637206c6d433f9d2458c7cf7c681e",
       "IPY_MODEL_d8c71d3b31704bfb82567a3db66bae57"
      ],
      "layout": "IPY_MODEL_c71b3943e2444bce9f4183c861907041"
     }
    },
    "1f2df4a5240d48589ca95004df0c0e4e": {
     "model_module": "@jupyter-widgets/controls",
     "model_module_version": "1.5.0",
     "model_name": "DescriptionStyleModel",
     "state": {
      "_model_module": "@jupyter-widgets/controls",
      "_model_module_version": "1.5.0",
      "_model_name": "DescriptionStyleModel",
      "_view_count": null,
      "_view_module": "@jupyter-widgets/base",
      "_view_module_version": "1.2.0",
      "_view_name": "StyleView",
      "description_width": ""
     }
    },
    "25211da1df984596b9ee535d3ae00983": {
     "model_module": "@jupyter-widgets/base",
     "model_module_version": "1.2.0",
     "model_name": "LayoutModel",
     "state": {
      "_model_module": "@jupyter-widgets/base",
      "_model_module_version": "1.2.0",
      "_model_name": "LayoutModel",
      "_view_count": null,
      "_view_module": "@jupyter-widgets/base",
      "_view_module_version": "1.2.0",
      "_view_name": "LayoutView",
      "align_content": null,
      "align_items": null,
      "align_self": null,
      "border": null,
      "bottom": null,
      "display": null,
      "flex": null,
      "flex_flow": null,
      "grid_area": null,
      "grid_auto_columns": null,
      "grid_auto_flow": null,
      "grid_auto_rows": null,
      "grid_column": null,
      "grid_gap": null,
      "grid_row": null,
      "grid_template_areas": null,
      "grid_template_columns": null,
      "grid_template_rows": null,
      "height": null,
      "justify_content": null,
      "justify_items": null,
      "left": null,
      "margin": null,
      "max_height": null,
      "max_width": null,
      "min_height": null,
      "min_width": null,
      "object_fit": null,
      "object_position": null,
      "order": null,
      "overflow": null,
      "overflow_x": null,
      "overflow_y": null,
      "padding": null,
      "right": null,
      "top": null,
      "visibility": null,
      "width": null
     }
    },
    "260637206c6d433f9d2458c7cf7c681e": {
     "model_module": "@jupyter-widgets/controls",
     "model_module_version": "1.5.0",
     "model_name": "FloatProgressModel",
     "state": {
      "_dom_classes": [],
      "_model_module": "@jupyter-widgets/controls",
      "_model_module_version": "1.5.0",
      "_model_name": "FloatProgressModel",
      "_view_count": null,
      "_view_module": "@jupyter-widgets/controls",
      "_view_module_version": "1.5.0",
      "_view_name": "ProgressView",
      "bar_style": "success",
      "description": "",
      "description_tooltip": null,
      "layout": "IPY_MODEL_25211da1df984596b9ee535d3ae00983",
      "max": 8928,
      "min": 0,
      "orientation": "horizontal",
      "style": "IPY_MODEL_997173025dc04dbf90f841f0616026b2",
      "value": 8928
     }
    },
    "28a1eab4c6964370aaf44bc461812727": {
     "model_module": "@jupyter-widgets/controls",
     "model_module_version": "1.5.0",
     "model_name": "FloatProgressModel",
     "state": {
      "_dom_classes": [],
      "_model_module": "@jupyter-widgets/controls",
      "_model_module_version": "1.5.0",
      "_model_name": "FloatProgressModel",
      "_view_count": null,
      "_view_module": "@jupyter-widgets/controls",
      "_view_module_version": "1.5.0",
      "_view_name": "ProgressView",
      "bar_style": "success",
      "description": "",
      "description_tooltip": null,
      "layout": "IPY_MODEL_fc40c94739bb475093d88f7c975e66c1",
      "max": 8928,
      "min": 0,
      "orientation": "horizontal",
      "style": "IPY_MODEL_af0ef71d5c3b41f8948b3749ed1735cf",
      "value": 8928
     }
    },
    "2964bf090bbb49a3a796d0ddc4b49d96": {
     "model_module": "@jupyter-widgets/controls",
     "model_module_version": "1.5.0",
     "model_name": "HTMLModel",
     "state": {
      "_dom_classes": [],
      "_model_module": "@jupyter-widgets/controls",
      "_model_module_version": "1.5.0",
      "_model_name": "HTMLModel",
      "_view_count": null,
      "_view_module": "@jupyter-widgets/controls",
      "_view_module_version": "1.5.0",
      "_view_name": "HTMLView",
      "description": "",
      "description_tooltip": null,
      "layout": "IPY_MODEL_119a9251a55a4320a301bd223a2963d9",
      "placeholder": "​",
      "style": "IPY_MODEL_dd75b4021087417fa2341e442031fdae",
      "value": " 8928/8928 [1:01:37&lt;00:00,  2.42it/s]"
     }
    },
    "2e5ce53c37df484294a7344c523e2913": {
     "model_module": "@jupyter-widgets/controls",
     "model_module_version": "1.5.0",
     "model_name": "ProgressStyleModel",
     "state": {
      "_model_module": "@jupyter-widgets/controls",
      "_model_module_version": "1.5.0",
      "_model_name": "ProgressStyleModel",
      "_view_count": null,
      "_view_module": "@jupyter-widgets/base",
      "_view_module_version": "1.2.0",
      "_view_name": "StyleView",
      "bar_color": null,
      "description_width": ""
     }
    },
    "36919ba4a55544f283839a8fa1bc23af": {
     "model_module": "@jupyter-widgets/controls",
     "model_module_version": "1.5.0",
     "model_name": "HBoxModel",
     "state": {
      "_dom_classes": [],
      "_model_module": "@jupyter-widgets/controls",
      "_model_module_version": "1.5.0",
      "_model_name": "HBoxModel",
      "_view_count": null,
      "_view_module": "@jupyter-widgets/controls",
      "_view_module_version": "1.5.0",
      "_view_name": "HBoxView",
      "box_style": "",
      "children": [
       "IPY_MODEL_4ad1a06dbc6148478ef8bbd7aafe0c23",
       "IPY_MODEL_28a1eab4c6964370aaf44bc461812727",
       "IPY_MODEL_ea4a40665c3d4688b524c9d03e9ad961"
      ],
      "layout": "IPY_MODEL_5df0ecdcfc1c49e2b43b7ad696b85ce3"
     }
    },
    "39ac2a3c1c8f4b788ea27fbbcf0ca846": {
     "model_module": "@jupyter-widgets/controls",
     "model_module_version": "1.5.0",
     "model_name": "FloatProgressModel",
     "state": {
      "_dom_classes": [],
      "_model_module": "@jupyter-widgets/controls",
      "_model_module_version": "1.5.0",
      "_model_name": "FloatProgressModel",
      "_view_count": null,
      "_view_module": "@jupyter-widgets/controls",
      "_view_module_version": "1.5.0",
      "_view_name": "ProgressView",
      "bar_style": "success",
      "description": "",
      "description_tooltip": null,
      "layout": "IPY_MODEL_c7b3f8ab1f1640caa9379c6891903fb0",
      "max": 8928,
      "min": 0,
      "orientation": "horizontal",
      "style": "IPY_MODEL_2e5ce53c37df484294a7344c523e2913",
      "value": 8928
     }
    },
    "3cf98b16434a4ff2ae6ca89f8d637e34": {
     "model_module": "@jupyter-widgets/base",
     "model_module_version": "1.2.0",
     "model_name": "LayoutModel",
     "state": {
      "_model_module": "@jupyter-widgets/base",
      "_model_module_version": "1.2.0",
      "_model_name": "LayoutModel",
      "_view_count": null,
      "_view_module": "@jupyter-widgets/base",
      "_view_module_version": "1.2.0",
      "_view_name": "LayoutView",
      "align_content": null,
      "align_items": null,
      "align_self": null,
      "border": null,
      "bottom": null,
      "display": null,
      "flex": null,
      "flex_flow": null,
      "grid_area": null,
      "grid_auto_columns": null,
      "grid_auto_flow": null,
      "grid_auto_rows": null,
      "grid_column": null,
      "grid_gap": null,
      "grid_row": null,
      "grid_template_areas": null,
      "grid_template_columns": null,
      "grid_template_rows": null,
      "height": null,
      "justify_content": null,
      "justify_items": null,
      "left": null,
      "margin": null,
      "max_height": null,
      "max_width": null,
      "min_height": null,
      "min_width": null,
      "object_fit": null,
      "object_position": null,
      "order": null,
      "overflow": null,
      "overflow_x": null,
      "overflow_y": null,
      "padding": null,
      "right": null,
      "top": null,
      "visibility": null,
      "width": null
     }
    },
    "42c4fbeabfa044098e589407f192da29": {
     "model_module": "@jupyter-widgets/base",
     "model_module_version": "1.2.0",
     "model_name": "LayoutModel",
     "state": {
      "_model_module": "@jupyter-widgets/base",
      "_model_module_version": "1.2.0",
      "_model_name": "LayoutModel",
      "_view_count": null,
      "_view_module": "@jupyter-widgets/base",
      "_view_module_version": "1.2.0",
      "_view_name": "LayoutView",
      "align_content": null,
      "align_items": null,
      "align_self": null,
      "border": null,
      "bottom": null,
      "display": null,
      "flex": null,
      "flex_flow": null,
      "grid_area": null,
      "grid_auto_columns": null,
      "grid_auto_flow": null,
      "grid_auto_rows": null,
      "grid_column": null,
      "grid_gap": null,
      "grid_row": null,
      "grid_template_areas": null,
      "grid_template_columns": null,
      "grid_template_rows": null,
      "height": null,
      "justify_content": null,
      "justify_items": null,
      "left": null,
      "margin": null,
      "max_height": null,
      "max_width": null,
      "min_height": null,
      "min_width": null,
      "object_fit": null,
      "object_position": null,
      "order": null,
      "overflow": null,
      "overflow_x": null,
      "overflow_y": null,
      "padding": null,
      "right": null,
      "top": null,
      "visibility": null,
      "width": null
     }
    },
    "4ad1a06dbc6148478ef8bbd7aafe0c23": {
     "model_module": "@jupyter-widgets/controls",
     "model_module_version": "1.5.0",
     "model_name": "HTMLModel",
     "state": {
      "_dom_classes": [],
      "_model_module": "@jupyter-widgets/controls",
      "_model_module_version": "1.5.0",
      "_model_name": "HTMLModel",
      "_view_count": null,
      "_view_module": "@jupyter-widgets/controls",
      "_view_module_version": "1.5.0",
      "_view_name": "HTMLView",
      "description": "",
      "description_tooltip": null,
      "layout": "IPY_MODEL_6b179545ce054fb6b00f5c59fe9b2e76",
      "placeholder": "​",
      "style": "IPY_MODEL_d9ce54e51a634387bf71afa7d1241a5c",
      "value": "100%"
     }
    },
    "4fa668d10b1749aabc2d2759505ebe83": {
     "model_module": "@jupyter-widgets/controls",
     "model_module_version": "1.5.0",
     "model_name": "DescriptionStyleModel",
     "state": {
      "_model_module": "@jupyter-widgets/controls",
      "_model_module_version": "1.5.0",
      "_model_name": "DescriptionStyleModel",
      "_view_count": null,
      "_view_module": "@jupyter-widgets/base",
      "_view_module_version": "1.2.0",
      "_view_name": "StyleView",
      "description_width": ""
     }
    },
    "57b73a00dccd48dba87148ac09b2ffc9": {
     "model_module": "@jupyter-widgets/controls",
     "model_module_version": "1.5.0",
     "model_name": "HBoxModel",
     "state": {
      "_dom_classes": [],
      "_model_module": "@jupyter-widgets/controls",
      "_model_module_version": "1.5.0",
      "_model_name": "HBoxModel",
      "_view_count": null,
      "_view_module": "@jupyter-widgets/controls",
      "_view_module_version": "1.5.0",
      "_view_name": "HBoxView",
      "box_style": "",
      "children": [
       "IPY_MODEL_0644d919cca64203b190c32d172b3618",
       "IPY_MODEL_39ac2a3c1c8f4b788ea27fbbcf0ca846",
       "IPY_MODEL_2964bf090bbb49a3a796d0ddc4b49d96"
      ],
      "layout": "IPY_MODEL_42c4fbeabfa044098e589407f192da29"
     }
    },
    "5df0ecdcfc1c49e2b43b7ad696b85ce3": {
     "model_module": "@jupyter-widgets/base",
     "model_module_version": "1.2.0",
     "model_name": "LayoutModel",
     "state": {
      "_model_module": "@jupyter-widgets/base",
      "_model_module_version": "1.2.0",
      "_model_name": "LayoutModel",
      "_view_count": null,
      "_view_module": "@jupyter-widgets/base",
      "_view_module_version": "1.2.0",
      "_view_name": "LayoutView",
      "align_content": null,
      "align_items": null,
      "align_self": null,
      "border": null,
      "bottom": null,
      "display": null,
      "flex": null,
      "flex_flow": null,
      "grid_area": null,
      "grid_auto_columns": null,
      "grid_auto_flow": null,
      "grid_auto_rows": null,
      "grid_column": null,
      "grid_gap": null,
      "grid_row": null,
      "grid_template_areas": null,
      "grid_template_columns": null,
      "grid_template_rows": null,
      "height": null,
      "justify_content": null,
      "justify_items": null,
      "left": null,
      "margin": null,
      "max_height": null,
      "max_width": null,
      "min_height": null,
      "min_width": null,
      "object_fit": null,
      "object_position": null,
      "order": null,
      "overflow": null,
      "overflow_x": null,
      "overflow_y": null,
      "padding": null,
      "right": null,
      "top": null,
      "visibility": null,
      "width": null
     }
    },
    "6b179545ce054fb6b00f5c59fe9b2e76": {
     "model_module": "@jupyter-widgets/base",
     "model_module_version": "1.2.0",
     "model_name": "LayoutModel",
     "state": {
      "_model_module": "@jupyter-widgets/base",
      "_model_module_version": "1.2.0",
      "_model_name": "LayoutModel",
      "_view_count": null,
      "_view_module": "@jupyter-widgets/base",
      "_view_module_version": "1.2.0",
      "_view_name": "LayoutView",
      "align_content": null,
      "align_items": null,
      "align_self": null,
      "border": null,
      "bottom": null,
      "display": null,
      "flex": null,
      "flex_flow": null,
      "grid_area": null,
      "grid_auto_columns": null,
      "grid_auto_flow": null,
      "grid_auto_rows": null,
      "grid_column": null,
      "grid_gap": null,
      "grid_row": null,
      "grid_template_areas": null,
      "grid_template_columns": null,
      "grid_template_rows": null,
      "height": null,
      "justify_content": null,
      "justify_items": null,
      "left": null,
      "margin": null,
      "max_height": null,
      "max_width": null,
      "min_height": null,
      "min_width": null,
      "object_fit": null,
      "object_position": null,
      "order": null,
      "overflow": null,
      "overflow_x": null,
      "overflow_y": null,
      "padding": null,
      "right": null,
      "top": null,
      "visibility": null,
      "width": null
     }
    },
    "6f7a24b4d0b94190ac7c371a65beb3e1": {
     "model_module": "@jupyter-widgets/base",
     "model_module_version": "1.2.0",
     "model_name": "LayoutModel",
     "state": {
      "_model_module": "@jupyter-widgets/base",
      "_model_module_version": "1.2.0",
      "_model_name": "LayoutModel",
      "_view_count": null,
      "_view_module": "@jupyter-widgets/base",
      "_view_module_version": "1.2.0",
      "_view_name": "LayoutView",
      "align_content": null,
      "align_items": null,
      "align_self": null,
      "border": null,
      "bottom": null,
      "display": null,
      "flex": null,
      "flex_flow": null,
      "grid_area": null,
      "grid_auto_columns": null,
      "grid_auto_flow": null,
      "grid_auto_rows": null,
      "grid_column": null,
      "grid_gap": null,
      "grid_row": null,
      "grid_template_areas": null,
      "grid_template_columns": null,
      "grid_template_rows": null,
      "height": null,
      "justify_content": null,
      "justify_items": null,
      "left": null,
      "margin": null,
      "max_height": null,
      "max_width": null,
      "min_height": null,
      "min_width": null,
      "object_fit": null,
      "object_position": null,
      "order": null,
      "overflow": null,
      "overflow_x": null,
      "overflow_y": null,
      "padding": null,
      "right": null,
      "top": null,
      "visibility": null,
      "width": null
     }
    },
    "85857866e2e049bc8621fe9630839792": {
     "model_module": "@jupyter-widgets/base",
     "model_module_version": "1.2.0",
     "model_name": "LayoutModel",
     "state": {
      "_model_module": "@jupyter-widgets/base",
      "_model_module_version": "1.2.0",
      "_model_name": "LayoutModel",
      "_view_count": null,
      "_view_module": "@jupyter-widgets/base",
      "_view_module_version": "1.2.0",
      "_view_name": "LayoutView",
      "align_content": null,
      "align_items": null,
      "align_self": null,
      "border": null,
      "bottom": null,
      "display": null,
      "flex": null,
      "flex_flow": null,
      "grid_area": null,
      "grid_auto_columns": null,
      "grid_auto_flow": null,
      "grid_auto_rows": null,
      "grid_column": null,
      "grid_gap": null,
      "grid_row": null,
      "grid_template_areas": null,
      "grid_template_columns": null,
      "grid_template_rows": null,
      "height": null,
      "justify_content": null,
      "justify_items": null,
      "left": null,
      "margin": null,
      "max_height": null,
      "max_width": null,
      "min_height": null,
      "min_width": null,
      "object_fit": null,
      "object_position": null,
      "order": null,
      "overflow": null,
      "overflow_x": null,
      "overflow_y": null,
      "padding": null,
      "right": null,
      "top": null,
      "visibility": null,
      "width": null
     }
    },
    "8c586c9c65964a349c096ff4482d0514": {
     "model_module": "@jupyter-widgets/controls",
     "model_module_version": "1.5.0",
     "model_name": "HTMLModel",
     "state": {
      "_dom_classes": [],
      "_model_module": "@jupyter-widgets/controls",
      "_model_module_version": "1.5.0",
      "_model_name": "HTMLModel",
      "_view_count": null,
      "_view_module": "@jupyter-widgets/controls",
      "_view_module_version": "1.5.0",
      "_view_name": "HTMLView",
      "description": "",
      "description_tooltip": null,
      "layout": "IPY_MODEL_ee974812ef9445a8b071fb1c4ae35c8b",
      "placeholder": "​",
      "style": "IPY_MODEL_1f2df4a5240d48589ca95004df0c0e4e",
      "value": "100%"
     }
    },
    "997173025dc04dbf90f841f0616026b2": {
     "model_module": "@jupyter-widgets/controls",
     "model_module_version": "1.5.0",
     "model_name": "ProgressStyleModel",
     "state": {
      "_model_module": "@jupyter-widgets/controls",
      "_model_module_version": "1.5.0",
      "_model_name": "ProgressStyleModel",
      "_view_count": null,
      "_view_module": "@jupyter-widgets/base",
      "_view_module_version": "1.2.0",
      "_view_name": "StyleView",
      "bar_color": null,
      "description_width": ""
     }
    },
    "a6492fcde3884076bee8bb6efcbe8954": {
     "model_module": "@jupyter-widgets/controls",
     "model_module_version": "1.5.0",
     "model_name": "DescriptionStyleModel",
     "state": {
      "_model_module": "@jupyter-widgets/controls",
      "_model_module_version": "1.5.0",
      "_model_name": "DescriptionStyleModel",
      "_view_count": null,
      "_view_module": "@jupyter-widgets/base",
      "_view_module_version": "1.2.0",
      "_view_name": "StyleView",
      "description_width": ""
     }
    },
    "af0ef71d5c3b41f8948b3749ed1735cf": {
     "model_module": "@jupyter-widgets/controls",
     "model_module_version": "1.5.0",
     "model_name": "ProgressStyleModel",
     "state": {
      "_model_module": "@jupyter-widgets/controls",
      "_model_module_version": "1.5.0",
      "_model_name": "ProgressStyleModel",
      "_view_count": null,
      "_view_module": "@jupyter-widgets/base",
      "_view_module_version": "1.2.0",
      "_view_name": "StyleView",
      "bar_color": null,
      "description_width": ""
     }
    },
    "c71b3943e2444bce9f4183c861907041": {
     "model_module": "@jupyter-widgets/base",
     "model_module_version": "1.2.0",
     "model_name": "LayoutModel",
     "state": {
      "_model_module": "@jupyter-widgets/base",
      "_model_module_version": "1.2.0",
      "_model_name": "LayoutModel",
      "_view_count": null,
      "_view_module": "@jupyter-widgets/base",
      "_view_module_version": "1.2.0",
      "_view_name": "LayoutView",
      "align_content": null,
      "align_items": null,
      "align_self": null,
      "border": null,
      "bottom": null,
      "display": null,
      "flex": null,
      "flex_flow": null,
      "grid_area": null,
      "grid_auto_columns": null,
      "grid_auto_flow": null,
      "grid_auto_rows": null,
      "grid_column": null,
      "grid_gap": null,
      "grid_row": null,
      "grid_template_areas": null,
      "grid_template_columns": null,
      "grid_template_rows": null,
      "height": null,
      "justify_content": null,
      "justify_items": null,
      "left": null,
      "margin": null,
      "max_height": null,
      "max_width": null,
      "min_height": null,
      "min_width": null,
      "object_fit": null,
      "object_position": null,
      "order": null,
      "overflow": null,
      "overflow_x": null,
      "overflow_y": null,
      "padding": null,
      "right": null,
      "top": null,
      "visibility": null,
      "width": null
     }
    },
    "c7b3f8ab1f1640caa9379c6891903fb0": {
     "model_module": "@jupyter-widgets/base",
     "model_module_version": "1.2.0",
     "model_name": "LayoutModel",
     "state": {
      "_model_module": "@jupyter-widgets/base",
      "_model_module_version": "1.2.0",
      "_model_name": "LayoutModel",
      "_view_count": null,
      "_view_module": "@jupyter-widgets/base",
      "_view_module_version": "1.2.0",
      "_view_name": "LayoutView",
      "align_content": null,
      "align_items": null,
      "align_self": null,
      "border": null,
      "bottom": null,
      "display": null,
      "flex": null,
      "flex_flow": null,
      "grid_area": null,
      "grid_auto_columns": null,
      "grid_auto_flow": null,
      "grid_auto_rows": null,
      "grid_column": null,
      "grid_gap": null,
      "grid_row": null,
      "grid_template_areas": null,
      "grid_template_columns": null,
      "grid_template_rows": null,
      "height": null,
      "justify_content": null,
      "justify_items": null,
      "left": null,
      "margin": null,
      "max_height": null,
      "max_width": null,
      "min_height": null,
      "min_width": null,
      "object_fit": null,
      "object_position": null,
      "order": null,
      "overflow": null,
      "overflow_x": null,
      "overflow_y": null,
      "padding": null,
      "right": null,
      "top": null,
      "visibility": null,
      "width": null
     }
    },
    "d8c71d3b31704bfb82567a3db66bae57": {
     "model_module": "@jupyter-widgets/controls",
     "model_module_version": "1.5.0",
     "model_name": "HTMLModel",
     "state": {
      "_dom_classes": [],
      "_model_module": "@jupyter-widgets/controls",
      "_model_module_version": "1.5.0",
      "_model_name": "HTMLModel",
      "_view_count": null,
      "_view_module": "@jupyter-widgets/controls",
      "_view_module_version": "1.5.0",
      "_view_name": "HTMLView",
      "description": "",
      "description_tooltip": null,
      "layout": "IPY_MODEL_85857866e2e049bc8621fe9630839792",
      "placeholder": "​",
      "style": "IPY_MODEL_a6492fcde3884076bee8bb6efcbe8954",
      "value": " 8928/8928 [08:18&lt;00:00, 21.06it/s]"
     }
    },
    "d9ce54e51a634387bf71afa7d1241a5c": {
     "model_module": "@jupyter-widgets/controls",
     "model_module_version": "1.5.0",
     "model_name": "DescriptionStyleModel",
     "state": {
      "_model_module": "@jupyter-widgets/controls",
      "_model_module_version": "1.5.0",
      "_model_name": "DescriptionStyleModel",
      "_view_count": null,
      "_view_module": "@jupyter-widgets/base",
      "_view_module_version": "1.2.0",
      "_view_name": "StyleView",
      "description_width": ""
     }
    },
    "dd75b4021087417fa2341e442031fdae": {
     "model_module": "@jupyter-widgets/controls",
     "model_module_version": "1.5.0",
     "model_name": "DescriptionStyleModel",
     "state": {
      "_model_module": "@jupyter-widgets/controls",
      "_model_module_version": "1.5.0",
      "_model_name": "DescriptionStyleModel",
      "_view_count": null,
      "_view_module": "@jupyter-widgets/base",
      "_view_module_version": "1.2.0",
      "_view_name": "StyleView",
      "description_width": ""
     }
    },
    "ea4a40665c3d4688b524c9d03e9ad961": {
     "model_module": "@jupyter-widgets/controls",
     "model_module_version": "1.5.0",
     "model_name": "HTMLModel",
     "state": {
      "_dom_classes": [],
      "_model_module": "@jupyter-widgets/controls",
      "_model_module_version": "1.5.0",
      "_model_name": "HTMLModel",
      "_view_count": null,
      "_view_module": "@jupyter-widgets/controls",
      "_view_module_version": "1.5.0",
      "_view_name": "HTMLView",
      "description": "",
      "description_tooltip": null,
      "layout": "IPY_MODEL_6f7a24b4d0b94190ac7c371a65beb3e1",
      "placeholder": "​",
      "style": "IPY_MODEL_0c697060c23147e186ff32652dca8a84",
      "value": " 8928/8928 [3:15:53&lt;00:00,  1.33s/it]"
     }
    },
    "ee974812ef9445a8b071fb1c4ae35c8b": {
     "model_module": "@jupyter-widgets/base",
     "model_module_version": "1.2.0",
     "model_name": "LayoutModel",
     "state": {
      "_model_module": "@jupyter-widgets/base",
      "_model_module_version": "1.2.0",
      "_model_name": "LayoutModel",
      "_view_count": null,
      "_view_module": "@jupyter-widgets/base",
      "_view_module_version": "1.2.0",
      "_view_name": "LayoutView",
      "align_content": null,
      "align_items": null,
      "align_self": null,
      "border": null,
      "bottom": null,
      "display": null,
      "flex": null,
      "flex_flow": null,
      "grid_area": null,
      "grid_auto_columns": null,
      "grid_auto_flow": null,
      "grid_auto_rows": null,
      "grid_column": null,
      "grid_gap": null,
      "grid_row": null,
      "grid_template_areas": null,
      "grid_template_columns": null,
      "grid_template_rows": null,
      "height": null,
      "justify_content": null,
      "justify_items": null,
      "left": null,
      "margin": null,
      "max_height": null,
      "max_width": null,
      "min_height": null,
      "min_width": null,
      "object_fit": null,
      "object_position": null,
      "order": null,
      "overflow": null,
      "overflow_x": null,
      "overflow_y": null,
      "padding": null,
      "right": null,
      "top": null,
      "visibility": null,
      "width": null
     }
    },
    "fc40c94739bb475093d88f7c975e66c1": {
     "model_module": "@jupyter-widgets/base",
     "model_module_version": "1.2.0",
     "model_name": "LayoutModel",
     "state": {
      "_model_module": "@jupyter-widgets/base",
      "_model_module_version": "1.2.0",
      "_model_name": "LayoutModel",
      "_view_count": null,
      "_view_module": "@jupyter-widgets/base",
      "_view_module_version": "1.2.0",
      "_view_name": "LayoutView",
      "align_content": null,
      "align_items": null,
      "align_self": null,
      "border": null,
      "bottom": null,
      "display": null,
      "flex": null,
      "flex_flow": null,
      "grid_area": null,
      "grid_auto_columns": null,
      "grid_auto_flow": null,
      "grid_auto_rows": null,
      "grid_column": null,
      "grid_gap": null,
      "grid_row": null,
      "grid_template_areas": null,
      "grid_template_columns": null,
      "grid_template_rows": null,
      "height": null,
      "justify_content": null,
      "justify_items": null,
      "left": null,
      "margin": null,
      "max_height": null,
      "max_width": null,
      "min_height": null,
      "min_width": null,
      "object_fit": null,
      "object_position": null,
      "order": null,
      "overflow": null,
      "overflow_x": null,
      "overflow_y": null,
      "padding": null,
      "right": null,
      "top": null,
      "visibility": null,
      "width": null
     }
    }
   }
  }
 },
 "nbformat": 4,
 "nbformat_minor": 1
}
