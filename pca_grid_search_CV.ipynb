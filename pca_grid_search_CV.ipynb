{
 "cells": [
  {
   "cell_type": "markdown",
   "id": "4ed3f6ee",
   "metadata": {
    "id": "4ed3f6ee"
   },
   "source": [
    "# Read Features"
   ]
  },
  {
   "cell_type": "code",
   "execution_count": 26,
   "id": "c240d317",
   "metadata": {
    "id": "c240d317"
   },
   "outputs": [],
   "source": [
    "from read_features import *\n",
    "from scores import *\n",
    "import matplotlib.pyplot as plt\n",
    "from transformers import BertTokenizer, BertForSequenceClassification\n",
    "import torch\n",
    "from gph.python import ripser_parallel\n",
    "from sklearn import set_config\n",
    "from sklearn.metrics import make_scorer\n",
    "from sklearn.linear_model import LogisticRegression\n",
    "from sklearn.decomposition import PCA\n",
    "from sklearn.model_selection import StratifiedKFold\n",
    "from sklearn.model_selection import GridSearchCV\n",
    "from sklearn.pipeline import Pipeline\n",
    "from sklearn.preprocessing import StandardScaler\n",
    "from time import time"
   ]
  },
  {
   "cell_type": "code",
   "execution_count": 27,
   "id": "92d7ab86",
   "metadata": {
    "id": "92d7ab86"
   },
   "outputs": [],
   "source": [
    "# textual data args\n",
    "train_set_name, valid_set_name, test_set_name = (\"in_domain_train\", \"in_domain_dev\",\"out_of_domain_dev\")\n",
    "data_dir = \"./data/\";\n",
    "file_type = \".csv\" \n",
    "# features args\n",
    "model_name = \"bert-base-cased_finetuned\"\n",
    "heads=\"all\";\n",
    "layers=12\n",
    "MAX_LEN=64\n",
    "topological_thr=6\n",
    "topological_features=\"s_e_v_c_b0b1\"\n",
    "feature_dir = \"./features/bert-base-cased_finetuned/\""
   ]
  },
  {
   "cell_type": "code",
   "execution_count": 28,
   "id": "e96c300f",
   "metadata": {
    "colab": {
     "base_uri": "https://localhost:8080/"
    },
    "id": "e96c300f",
    "outputId": "c80bde0f-c8e6-422f-ab6b-22ca3e2756fe"
   },
   "outputs": [
    {
     "name": "stderr",
     "output_type": "stream",
     "text": [
      "Loading in_domain_train features...: 100%|██████████| 432/432 [00:22<00:00, 19.02it/s]\n",
      "Loading in_domain_dev features...: 100%|██████████| 432/432 [00:01<00:00, 251.70it/s]\n",
      "Loading out_of_domain_dev features...: 100%|██████████| 432/432 [00:01<00:00, 255.77it/s]\n"
     ]
    }
   ],
   "source": [
    "kwargs = dict(((k, eval(k)) for k in (\"feature_dir\", \"model_name\", \"heads\", \"layers\", \"MAX_LEN\", \"topological_thr\",  \"topological_features\" )))\n",
    "X_train, X_valid, X_test = list(map(lambda x_: load_data(x_, **kwargs), [x_ for x_ in (train_set_name, valid_set_name, test_set_name)]))"
   ]
  },
  {
   "cell_type": "code",
   "execution_count": 29,
   "id": "362d2955",
   "metadata": {
    "id": "362d2955"
   },
   "outputs": [],
   "source": [
    "def read_labels(set_name, data_dir = \"./data\", file_type = \".csv\"):\n",
    "    header = 'infer'\n",
    "    names = None\n",
    "    delimeter = \",\"\n",
    "    if \"tsv\" in file_type:\n",
    "        header = None\n",
    "        names = [\"Source\", \"label\", \"code\", \"sentence\"]\n",
    "        delimeter = \"\\t\"\n",
    "    df = pd.read_csv(os.path.join(data_dir, set_name+file_type), header=header, names=names, delimiter=delimeter)\n",
    "    return df[\"sentence\"], df[\"label\"].values"
   ]
  },
  {
   "cell_type": "code",
   "execution_count": 30,
   "id": "4a7397cb",
   "metadata": {
    "id": "4a7397cb"
   },
   "outputs": [],
   "source": [
    "data_args = dict(((k, eval(k)) for k in (\"data_dir\", \"file_type\")))\n",
    "(sents_train, y_train), (sents_valid, y_valid), (sents_test, y_test) = list(map(lambda x_: read_labels(x_, **data_args), \n",
    "                                                [x_ for x_ in (train_set_name, valid_set_name, test_set_name)]))"
   ]
  },
  {
   "cell_type": "markdown",
   "id": "79629b64",
   "metadata": {
    "id": "79629b64"
   },
   "source": [
    "# Compute H0_S features"
   ]
  },
  {
   "cell_type": "code",
   "execution_count": 31,
   "id": "a54ee2cc",
   "metadata": {
    "id": "a54ee2cc"
   },
   "outputs": [],
   "source": [
    "def compute_h0_s(data_in):\n",
    "    X = np.zeros((len(data_in), 144))\n",
    "\n",
    "    for num in tqdm.tqdm(range(len(data_in))):\n",
    "        inputs = tokenizer(data_in[num], max_length=MAX_LEN, truncation=True, return_tensors=\"pt\").to(device)\n",
    "        n_len = inputs['input_ids'].shape[1]\n",
    "\n",
    "        tmp = model(**inputs)\n",
    "        goods_list = tmp[1]\n",
    "        goods_list = torch.stack(goods_list, dim=0)[:12, 0, :12, :, :]\n",
    "\n",
    "        for i in range(12):\n",
    "            for j in range(12):\n",
    "                d_good_tmp = 1.0 - torch.max(goods_list[i][j], torch.transpose(goods_list[i][j], 0, 1))\n",
    "\n",
    "                d_good = d_good_tmp\n",
    "                s = torch.sum(torch.diag(d_good))\n",
    "\n",
    "                d_good -= torch.diag(torch.diag(d_good))\n",
    "                results = ripser_parallel(d_good.cpu().detach().numpy(), maxdim=0, metric=\"precomputed\", collapse_edges=False)['dgms']\n",
    "                X[num, i * 12 + j] = (np.sum(results[0][:-1])) / n_len\n",
    "    columns_new = ['h0_S_w_'+str(i[0]) + '_' + str(i[-1]) for i in itertools.product(range(12), range(layers))]\n",
    "    X = pd.DataFrame(data=X,columns=columns_new)\n",
    "    return X"
   ]
  },
  {
   "cell_type": "code",
   "execution_count": 32,
   "id": "19d181b2",
   "metadata": {
    "colab": {
     "base_uri": "https://localhost:8080/"
    },
    "id": "19d181b2",
    "outputId": "5da1eee8-c3bf-40e2-dda7-99f110136a15"
   },
   "outputs": [
    {
     "name": "stderr",
     "output_type": "stream",
     "text": [
      "100%|██████████| 8551/8551 [11:57<00:00, 11.92it/s]\n",
      "100%|██████████| 527/527 [00:43<00:00, 12.03it/s]\n",
      "100%|██████████| 516/516 [00:43<00:00, 11.75it/s]\n"
     ]
    }
   ],
   "source": [
    "device='cpu'\n",
    "tokenizer = BertTokenizer.from_pretrained('bert-base-cased', do_lower_case=False)\n",
    "model = BertForSequenceClassification.from_pretrained(\"./eng-bert-trained/\", num_labels=2, \n",
    "                                                      output_attentions=True, output_hidden_states=False)\n",
    "model = model.to(device)\n",
    "X_h0_train, X_h0_valid, X_h0_test = list(map(compute_h0_s, (sents_train, sents_valid, sents_test)))"
   ]
  },
  {
   "cell_type": "code",
   "execution_count": 33,
   "id": "af0606c9",
   "metadata": {
    "id": "af0606c9"
   },
   "outputs": [],
   "source": [
    "X_train = pd.concat([X_train, X_h0_train], axis = 1)\n",
    "X_valid = pd.concat([X_valid, X_h0_valid], axis = 1)\n",
    "X_test = pd.concat([X_test, X_h0_test], axis = 1)"
   ]
  },
  {
   "cell_type": "markdown",
   "id": "d3b0eba6",
   "metadata": {
    "id": "d3b0eba6"
   },
   "source": [
    "# Run Grid Search CV"
   ]
  },
  {
   "cell_type": "code",
   "execution_count": 34,
   "id": "438fc27f",
   "metadata": {
    "id": "438fc27f"
   },
   "outputs": [],
   "source": [
    "# for reproducability\n",
    "STATE = 42"
   ]
  },
  {
   "cell_type": "code",
   "execution_count": 35,
   "id": "550270e5",
   "metadata": {
    "id": "550270e5"
   },
   "outputs": [],
   "source": [
    "# scoring metric for the pipeline\n",
    "def score_mcc(y_true, y_pred):\n",
    "    return matthews_corrcoef(y_true, y_pred)\n",
    "score_mcc_ = make_scorer(score_mcc, greater_is_better=True)"
   ]
  },
  {
   "cell_type": "code",
   "execution_count": 36,
   "id": "1e07a9fd",
   "metadata": {
    "id": "1e07a9fd"
   },
   "outputs": [],
   "source": [
    "def report(results, n_top=3):\n",
    "    for i in range(1, n_top + 1):\n",
    "        candidates = np.flatnonzero(results['rank_test_score'] == i)\n",
    "        for candidate in candidates:\n",
    "            print(\"Model with rank: {0}\".format(i))\n",
    "            print(\"Mean validation score: {0:.3f} (std: {1:.3f})\"\n",
    "                  .format(results['mean_test_score'][candidate],\n",
    "                          results['std_test_score'][candidate]))\n",
    "            print(\"Parameters: {0}\".format(results['params'][candidate]))\n",
    "            print(\"\")"
   ]
  },
  {
   "cell_type": "code",
   "execution_count": 37,
   "id": "dc23db9b",
   "metadata": {
    "colab": {
     "base_uri": "https://localhost:8080/"
    },
    "id": "dc23db9b",
    "outputId": "7006f4f0-bf0f-4214-c841-69210547434b"
   },
   "outputs": [
    {
     "name": "stdout",
     "output_type": "stream",
     "text": [
      "Fitting 3 folds for each of 200 candidates, totalling 600 fits\n",
      "[CV 1/3] END clf__C=0.01, clf__class_weight=None, reduce_dim__n_components=10;, score=0.914 total time=   3.3s\n",
      "[CV 2/3] END clf__C=0.01, clf__class_weight=None, reduce_dim__n_components=10;, score=0.909 total time=   3.1s\n",
      "[CV 3/3] END clf__C=0.01, clf__class_weight=None, reduce_dim__n_components=10;, score=0.897 total time=   3.2s\n",
      "[CV 1/3] END clf__C=0.01, clf__class_weight=None, reduce_dim__n_components=20;, score=0.914 total time=   4.4s\n",
      "[CV 2/3] END clf__C=0.01, clf__class_weight=None, reduce_dim__n_components=20;, score=0.909 total time=   4.3s\n",
      "[CV 3/3] END clf__C=0.01, clf__class_weight=None, reduce_dim__n_components=20;, score=0.897 total time=   4.2s\n",
      "[CV 1/3] END clf__C=0.01, clf__class_weight=None, reduce_dim__n_components=30;, score=0.914 total time=   4.1s\n",
      "[CV 2/3] END clf__C=0.01, clf__class_weight=None, reduce_dim__n_components=30;, score=0.910 total time=   4.3s\n",
      "[CV 3/3] END clf__C=0.01, clf__class_weight=None, reduce_dim__n_components=30;, score=0.897 total time=   4.4s\n",
      "[CV 1/3] END clf__C=0.01, clf__class_weight=None, reduce_dim__n_components=40;, score=0.914 total time=   4.3s\n",
      "[CV 2/3] END clf__C=0.01, clf__class_weight=None, reduce_dim__n_components=40;, score=0.910 total time=   4.5s\n",
      "[CV 3/3] END clf__C=0.01, clf__class_weight=None, reduce_dim__n_components=40;, score=0.897 total time=   4.3s\n",
      "[CV 1/3] END clf__C=0.01, clf__class_weight=None, reduce_dim__n_components=50;, score=0.914 total time=   4.8s\n",
      "[CV 2/3] END clf__C=0.01, clf__class_weight=None, reduce_dim__n_components=50;, score=0.910 total time=   4.9s\n",
      "[CV 3/3] END clf__C=0.01, clf__class_weight=None, reduce_dim__n_components=50;, score=0.897 total time=   4.9s\n",
      "[CV 1/3] END clf__C=0.01, clf__class_weight=None, reduce_dim__n_components=60;, score=0.914 total time=   5.0s\n",
      "[CV 2/3] END clf__C=0.01, clf__class_weight=None, reduce_dim__n_components=60;, score=0.910 total time=   4.4s\n",
      "[CV 3/3] END clf__C=0.01, clf__class_weight=None, reduce_dim__n_components=60;, score=0.897 total time=   5.0s\n",
      "[CV 1/3] END clf__C=0.01, clf__class_weight=None, reduce_dim__n_components=70;, score=0.914 total time=   5.3s\n",
      "[CV 2/3] END clf__C=0.01, clf__class_weight=None, reduce_dim__n_components=70;, score=0.910 total time=   5.0s\n",
      "[CV 3/3] END clf__C=0.01, clf__class_weight=None, reduce_dim__n_components=70;, score=0.897 total time=   4.9s\n",
      "[CV 1/3] END clf__C=0.01, clf__class_weight=None, reduce_dim__n_components=80;, score=0.914 total time=   5.4s\n",
      "[CV 2/3] END clf__C=0.01, clf__class_weight=None, reduce_dim__n_components=80;, score=0.910 total time=   5.0s\n",
      "[CV 3/3] END clf__C=0.01, clf__class_weight=None, reduce_dim__n_components=80;, score=0.897 total time=   4.8s\n",
      "[CV 1/3] END clf__C=0.01, clf__class_weight=None, reduce_dim__n_components=90;, score=0.914 total time=   5.4s\n",
      "[CV 2/3] END clf__C=0.01, clf__class_weight=None, reduce_dim__n_components=90;, score=0.910 total time=   5.3s\n",
      "[CV 3/3] END clf__C=0.01, clf__class_weight=None, reduce_dim__n_components=90;, score=0.897 total time=   4.7s\n",
      "[CV 1/3] END clf__C=0.01, clf__class_weight=None, reduce_dim__n_components=100;, score=0.914 total time=   5.7s\n",
      "[CV 2/3] END clf__C=0.01, clf__class_weight=None, reduce_dim__n_components=100;, score=0.910 total time=   5.3s\n",
      "[CV 3/3] END clf__C=0.01, clf__class_weight=None, reduce_dim__n_components=100;, score=0.897 total time=   5.5s\n",
      "[CV 1/3] END clf__C=0.01, clf__class_weight=balanced, reduce_dim__n_components=10;, score=0.914 total time=   3.1s\n",
      "[CV 2/3] END clf__C=0.01, clf__class_weight=balanced, reduce_dim__n_components=10;, score=0.902 total time=   3.1s\n",
      "[CV 3/3] END clf__C=0.01, clf__class_weight=balanced, reduce_dim__n_components=10;, score=0.909 total time=   3.2s\n",
      "[CV 1/3] END clf__C=0.01, clf__class_weight=balanced, reduce_dim__n_components=20;, score=0.915 total time=   4.1s\n",
      "[CV 2/3] END clf__C=0.01, clf__class_weight=balanced, reduce_dim__n_components=20;, score=0.902 total time=   4.3s\n",
      "[CV 3/3] END clf__C=0.01, clf__class_weight=balanced, reduce_dim__n_components=20;, score=0.910 total time=   4.3s\n",
      "[CV 1/3] END clf__C=0.01, clf__class_weight=balanced, reduce_dim__n_components=30;, score=0.915 total time=   4.0s\n",
      "[CV 2/3] END clf__C=0.01, clf__class_weight=balanced, reduce_dim__n_components=30;, score=0.901 total time=   4.0s\n",
      "[CV 3/3] END clf__C=0.01, clf__class_weight=balanced, reduce_dim__n_components=30;, score=0.910 total time=   4.3s\n",
      "[CV 1/3] END clf__C=0.01, clf__class_weight=balanced, reduce_dim__n_components=40;, score=0.915 total time=   4.5s\n",
      "[CV 2/3] END clf__C=0.01, clf__class_weight=balanced, reduce_dim__n_components=40;, score=0.901 total time=   4.0s\n",
      "[CV 3/3] END clf__C=0.01, clf__class_weight=balanced, reduce_dim__n_components=40;, score=0.910 total time=   4.2s\n",
      "[CV 1/3] END clf__C=0.01, clf__class_weight=balanced, reduce_dim__n_components=50;, score=0.915 total time=   4.9s\n",
      "[CV 2/3] END clf__C=0.01, clf__class_weight=balanced, reduce_dim__n_components=50;, score=0.900 total time=   4.8s\n",
      "[CV 3/3] END clf__C=0.01, clf__class_weight=balanced, reduce_dim__n_components=50;, score=0.910 total time=   4.8s\n",
      "[CV 1/3] END clf__C=0.01, clf__class_weight=balanced, reduce_dim__n_components=60;, score=0.915 total time=   5.1s\n",
      "[CV 2/3] END clf__C=0.01, clf__class_weight=balanced, reduce_dim__n_components=60;, score=0.902 total time=   5.4s\n",
      "[CV 3/3] END clf__C=0.01, clf__class_weight=balanced, reduce_dim__n_components=60;, score=0.910 total time=   5.2s\n",
      "[CV 1/3] END clf__C=0.01, clf__class_weight=balanced, reduce_dim__n_components=70;, score=0.915 total time=   5.2s\n",
      "[CV 2/3] END clf__C=0.01, clf__class_weight=balanced, reduce_dim__n_components=70;, score=0.901 total time=   5.5s\n",
      "[CV 3/3] END clf__C=0.01, clf__class_weight=balanced, reduce_dim__n_components=70;, score=0.910 total time=   5.3s\n",
      "[CV 1/3] END clf__C=0.01, clf__class_weight=balanced, reduce_dim__n_components=80;, score=0.915 total time=   5.4s\n",
      "[CV 2/3] END clf__C=0.01, clf__class_weight=balanced, reduce_dim__n_components=80;, score=0.901 total time=   5.3s\n",
      "[CV 3/3] END clf__C=0.01, clf__class_weight=balanced, reduce_dim__n_components=80;, score=0.910 total time=   5.5s\n",
      "[CV 1/3] END clf__C=0.01, clf__class_weight=balanced, reduce_dim__n_components=90;, score=0.915 total time=   5.6s\n",
      "[CV 2/3] END clf__C=0.01, clf__class_weight=balanced, reduce_dim__n_components=90;, score=0.901 total time=   4.9s\n",
      "[CV 3/3] END clf__C=0.01, clf__class_weight=balanced, reduce_dim__n_components=90;, score=0.910 total time=   4.9s\n",
      "[CV 1/3] END clf__C=0.01, clf__class_weight=balanced, reduce_dim__n_components=100;, score=0.915 total time=   5.2s\n",
      "[CV 2/3] END clf__C=0.01, clf__class_weight=balanced, reduce_dim__n_components=100;, score=0.901 total time=   5.4s\n",
      "[CV 3/3] END clf__C=0.01, clf__class_weight=balanced, reduce_dim__n_components=100;, score=0.910 total time=   5.3s\n",
      "[CV 1/3] END clf__C=0.02, clf__class_weight=None, reduce_dim__n_components=10;, score=0.918 total time=   3.1s\n",
      "[CV 2/3] END clf__C=0.02, clf__class_weight=None, reduce_dim__n_components=10;, score=0.917 total time=   3.0s\n",
      "[CV 3/3] END clf__C=0.02, clf__class_weight=None, reduce_dim__n_components=10;, score=0.909 total time=   3.0s\n",
      "[CV 1/3] END clf__C=0.02, clf__class_weight=None, reduce_dim__n_components=20;, score=0.920 total time=   4.0s\n",
      "[CV 2/3] END clf__C=0.02, clf__class_weight=None, reduce_dim__n_components=20;, score=0.918 total time=   4.1s\n",
      "[CV 3/3] END clf__C=0.02, clf__class_weight=None, reduce_dim__n_components=20;, score=0.911 total time=   3.8s\n",
      "[CV 1/3] END clf__C=0.02, clf__class_weight=None, reduce_dim__n_components=30;, score=0.920 total time=   3.9s\n",
      "[CV 2/3] END clf__C=0.02, clf__class_weight=None, reduce_dim__n_components=30;, score=0.920 total time=   4.5s\n",
      "[CV 3/3] END clf__C=0.02, clf__class_weight=None, reduce_dim__n_components=30;, score=0.908 total time=   4.6s\n",
      "[CV 1/3] END clf__C=0.02, clf__class_weight=None, reduce_dim__n_components=40;, score=0.920 total time=   4.4s\n",
      "[CV 2/3] END clf__C=0.02, clf__class_weight=None, reduce_dim__n_components=40;, score=0.920 total time=   4.6s\n",
      "[CV 3/3] END clf__C=0.02, clf__class_weight=None, reduce_dim__n_components=40;, score=0.909 total time=   4.5s\n",
      "[CV 1/3] END clf__C=0.02, clf__class_weight=None, reduce_dim__n_components=50;, score=0.921 total time=   5.0s\n",
      "[CV 2/3] END clf__C=0.02, clf__class_weight=None, reduce_dim__n_components=50;, score=0.920 total time=   5.0s\n",
      "[CV 3/3] END clf__C=0.02, clf__class_weight=None, reduce_dim__n_components=50;, score=0.908 total time=   5.2s\n",
      "[CV 1/3] END clf__C=0.02, clf__class_weight=None, reduce_dim__n_components=60;, score=0.921 total time=   5.3s\n",
      "[CV 2/3] END clf__C=0.02, clf__class_weight=None, reduce_dim__n_components=60;, score=0.920 total time=   4.9s\n",
      "[CV 3/3] END clf__C=0.02, clf__class_weight=None, reduce_dim__n_components=60;, score=0.908 total time=   4.6s\n",
      "[CV 1/3] END clf__C=0.02, clf__class_weight=None, reduce_dim__n_components=70;, score=0.922 total time=   5.3s\n",
      "[CV 2/3] END clf__C=0.02, clf__class_weight=None, reduce_dim__n_components=70;, score=0.920 total time=   4.9s\n",
      "[CV 3/3] END clf__C=0.02, clf__class_weight=None, reduce_dim__n_components=70;, score=0.907 total time=   5.2s\n",
      "[CV 1/3] END clf__C=0.02, clf__class_weight=None, reduce_dim__n_components=80;, score=0.923 total time=   5.3s\n",
      "[CV 2/3] END clf__C=0.02, clf__class_weight=None, reduce_dim__n_components=80;, score=0.920 total time=   5.1s\n",
      "[CV 3/3] END clf__C=0.02, clf__class_weight=None, reduce_dim__n_components=80;, score=0.909 total time=   5.4s\n",
      "[CV 1/3] END clf__C=0.02, clf__class_weight=None, reduce_dim__n_components=90;, score=0.922 total time=   5.3s\n",
      "[CV 2/3] END clf__C=0.02, clf__class_weight=None, reduce_dim__n_components=90;, score=0.920 total time=   5.0s\n",
      "[CV 3/3] END clf__C=0.02, clf__class_weight=None, reduce_dim__n_components=90;, score=0.908 total time=   5.4s\n",
      "[CV 1/3] END clf__C=0.02, clf__class_weight=None, reduce_dim__n_components=100;, score=0.922 total time=   5.7s\n",
      "[CV 2/3] END clf__C=0.02, clf__class_weight=None, reduce_dim__n_components=100;, score=0.920 total time=   6.1s\n",
      "[CV 3/3] END clf__C=0.02, clf__class_weight=None, reduce_dim__n_components=100;, score=0.911 total time=   5.5s\n",
      "[CV 1/3] END clf__C=0.02, clf__class_weight=balanced, reduce_dim__n_components=10;, score=0.923 total time=   3.1s\n",
      "[CV 2/3] END clf__C=0.02, clf__class_weight=balanced, reduce_dim__n_components=10;, score=0.916 total time=   3.1s\n",
      "[CV 3/3] END clf__C=0.02, clf__class_weight=balanced, reduce_dim__n_components=10;, score=0.917 total time=   3.1s\n",
      "[CV 1/3] END clf__C=0.02, clf__class_weight=balanced, reduce_dim__n_components=20;, score=0.921 total time=   3.8s\n",
      "[CV 2/3] END clf__C=0.02, clf__class_weight=balanced, reduce_dim__n_components=20;, score=0.916 total time=   3.9s\n",
      "[CV 3/3] END clf__C=0.02, clf__class_weight=balanced, reduce_dim__n_components=20;, score=0.921 total time=   4.0s\n",
      "[CV 1/3] END clf__C=0.02, clf__class_weight=balanced, reduce_dim__n_components=30;, score=0.922 total time=   4.1s\n",
      "[CV 2/3] END clf__C=0.02, clf__class_weight=balanced, reduce_dim__n_components=30;, score=0.920 total time=   4.1s\n",
      "[CV 3/3] END clf__C=0.02, clf__class_weight=balanced, reduce_dim__n_components=30;, score=0.924 total time=   4.3s\n",
      "[CV 1/3] END clf__C=0.02, clf__class_weight=balanced, reduce_dim__n_components=40;, score=0.922 total time=   4.5s\n",
      "[CV 2/3] END clf__C=0.02, clf__class_weight=balanced, reduce_dim__n_components=40;, score=0.920 total time=   4.5s\n",
      "[CV 3/3] END clf__C=0.02, clf__class_weight=balanced, reduce_dim__n_components=40;, score=0.922 total time=   4.8s\n",
      "[CV 1/3] END clf__C=0.02, clf__class_weight=balanced, reduce_dim__n_components=50;, score=0.924 total time=   4.9s\n",
      "[CV 2/3] END clf__C=0.02, clf__class_weight=balanced, reduce_dim__n_components=50;, score=0.921 total time=   4.6s\n",
      "[CV 3/3] END clf__C=0.02, clf__class_weight=balanced, reduce_dim__n_components=50;, score=0.925 total time=   4.5s\n",
      "[CV 1/3] END clf__C=0.02, clf__class_weight=balanced, reduce_dim__n_components=60;, score=0.922 total time=   5.2s\n",
      "[CV 2/3] END clf__C=0.02, clf__class_weight=balanced, reduce_dim__n_components=60;, score=0.921 total time=   5.1s\n",
      "[CV 3/3] END clf__C=0.02, clf__class_weight=balanced, reduce_dim__n_components=60;, score=0.925 total time=   5.1s\n",
      "[CV 1/3] END clf__C=0.02, clf__class_weight=balanced, reduce_dim__n_components=70;, score=0.924 total time=   5.2s\n",
      "[CV 2/3] END clf__C=0.02, clf__class_weight=balanced, reduce_dim__n_components=70;, score=0.920 total time=   5.2s\n",
      "[CV 3/3] END clf__C=0.02, clf__class_weight=balanced, reduce_dim__n_components=70;, score=0.924 total time=   5.6s\n",
      "[CV 1/3] END clf__C=0.02, clf__class_weight=balanced, reduce_dim__n_components=80;, score=0.924 total time=   4.5s\n",
      "[CV 2/3] END clf__C=0.02, clf__class_weight=balanced, reduce_dim__n_components=80;, score=0.920 total time=   5.0s\n",
      "[CV 3/3] END clf__C=0.02, clf__class_weight=balanced, reduce_dim__n_components=80;, score=0.926 total time=   5.1s\n",
      "[CV 1/3] END clf__C=0.02, clf__class_weight=balanced, reduce_dim__n_components=90;, score=0.923 total time=   5.2s\n",
      "[CV 2/3] END clf__C=0.02, clf__class_weight=balanced, reduce_dim__n_components=90;, score=0.921 total time=   4.8s\n",
      "[CV 3/3] END clf__C=0.02, clf__class_weight=balanced, reduce_dim__n_components=90;, score=0.927 total time=   5.1s\n",
      "[CV 1/3] END clf__C=0.02, clf__class_weight=balanced, reduce_dim__n_components=100;, score=0.925 total time=   5.7s\n",
      "[CV 2/3] END clf__C=0.02, clf__class_weight=balanced, reduce_dim__n_components=100;, score=0.920 total time=   5.4s\n",
      "[CV 3/3] END clf__C=0.02, clf__class_weight=balanced, reduce_dim__n_components=100;, score=0.926 total time=   5.3s\n",
      "[CV 1/3] END clf__C=0.03, clf__class_weight=None, reduce_dim__n_components=10;, score=0.921 total time=   3.1s\n",
      "[CV 2/3] END clf__C=0.03, clf__class_weight=None, reduce_dim__n_components=10;, score=0.918 total time=   3.1s\n",
      "[CV 3/3] END clf__C=0.03, clf__class_weight=None, reduce_dim__n_components=10;, score=0.911 total time=   3.1s\n",
      "[CV 1/3] END clf__C=0.03, clf__class_weight=None, reduce_dim__n_components=20;, score=0.920 total time=   4.0s\n",
      "[CV 2/3] END clf__C=0.03, clf__class_weight=None, reduce_dim__n_components=20;, score=0.921 total time=   3.7s\n",
      "[CV 3/3] END clf__C=0.03, clf__class_weight=None, reduce_dim__n_components=20;, score=0.919 total time=   4.2s\n",
      "[CV 1/3] END clf__C=0.03, clf__class_weight=None, reduce_dim__n_components=30;, score=0.920 total time=   4.0s\n",
      "[CV 2/3] END clf__C=0.03, clf__class_weight=None, reduce_dim__n_components=30;, score=0.926 total time=   4.3s\n",
      "[CV 3/3] END clf__C=0.03, clf__class_weight=None, reduce_dim__n_components=30;, score=0.917 total time=   4.3s\n",
      "[CV 1/3] END clf__C=0.03, clf__class_weight=None, reduce_dim__n_components=40;, score=0.921 total time=   4.3s\n",
      "[CV 2/3] END clf__C=0.03, clf__class_weight=None, reduce_dim__n_components=40;, score=0.925 total time=   4.5s\n",
      "[CV 3/3] END clf__C=0.03, clf__class_weight=None, reduce_dim__n_components=40;, score=0.919 total time=   4.5s\n",
      "[CV 1/3] END clf__C=0.03, clf__class_weight=None, reduce_dim__n_components=50;, score=0.922 total time=   4.8s\n",
      "[CV 2/3] END clf__C=0.03, clf__class_weight=None, reduce_dim__n_components=50;, score=0.924 total time=   5.0s\n",
      "[CV 3/3] END clf__C=0.03, clf__class_weight=None, reduce_dim__n_components=50;, score=0.918 total time=   5.1s\n",
      "[CV 1/3] END clf__C=0.03, clf__class_weight=None, reduce_dim__n_components=60;, score=0.926 total time=   5.2s\n",
      "[CV 2/3] END clf__C=0.03, clf__class_weight=None, reduce_dim__n_components=60;, score=0.925 total time=   5.3s\n",
      "[CV 3/3] END clf__C=0.03, clf__class_weight=None, reduce_dim__n_components=60;, score=0.917 total time=   5.4s\n",
      "[CV 1/3] END clf__C=0.03, clf__class_weight=None, reduce_dim__n_components=70;, score=0.925 total time=   5.4s\n",
      "[CV 2/3] END clf__C=0.03, clf__class_weight=None, reduce_dim__n_components=70;, score=0.925 total time=   5.4s\n",
      "[CV 3/3] END clf__C=0.03, clf__class_weight=None, reduce_dim__n_components=70;, score=0.916 total time=   5.5s\n",
      "[CV 1/3] END clf__C=0.03, clf__class_weight=None, reduce_dim__n_components=80;, score=0.926 total time=   5.6s\n",
      "[CV 2/3] END clf__C=0.03, clf__class_weight=None, reduce_dim__n_components=80;, score=0.925 total time=   5.4s\n",
      "[CV 3/3] END clf__C=0.03, clf__class_weight=None, reduce_dim__n_components=80;, score=0.919 total time=   5.4s\n",
      "[CV 1/3] END clf__C=0.03, clf__class_weight=None, reduce_dim__n_components=90;, score=0.926 total time=   5.2s\n",
      "[CV 2/3] END clf__C=0.03, clf__class_weight=None, reduce_dim__n_components=90;, score=0.924 total time=   4.9s\n",
      "[CV 3/3] END clf__C=0.03, clf__class_weight=None, reduce_dim__n_components=90;, score=0.917 total time=   5.1s\n",
      "[CV 1/3] END clf__C=0.03, clf__class_weight=None, reduce_dim__n_components=100;, score=0.930 total time=   5.4s\n",
      "[CV 2/3] END clf__C=0.03, clf__class_weight=None, reduce_dim__n_components=100;, score=0.923 total time=   5.5s\n",
      "[CV 3/3] END clf__C=0.03, clf__class_weight=None, reduce_dim__n_components=100;, score=0.920 total time=   5.1s\n",
      "[CV 1/3] END clf__C=0.03, clf__class_weight=balanced, reduce_dim__n_components=10;, score=0.924 total time=   3.1s\n",
      "[CV 2/3] END clf__C=0.03, clf__class_weight=balanced, reduce_dim__n_components=10;, score=0.917 total time=   3.3s\n",
      "[CV 3/3] END clf__C=0.03, clf__class_weight=balanced, reduce_dim__n_components=10;, score=0.919 total time=   3.5s\n",
      "[CV 1/3] END clf__C=0.03, clf__class_weight=balanced, reduce_dim__n_components=20;, score=0.926 total time=   3.9s\n",
      "[CV 2/3] END clf__C=0.03, clf__class_weight=balanced, reduce_dim__n_components=20;, score=0.917 total time=   4.1s\n",
      "[CV 3/3] END clf__C=0.03, clf__class_weight=balanced, reduce_dim__n_components=20;, score=0.923 total time=   3.9s\n",
      "[CV 1/3] END clf__C=0.03, clf__class_weight=balanced, reduce_dim__n_components=30;, score=0.927 total time=   4.3s\n",
      "[CV 2/3] END clf__C=0.03, clf__class_weight=balanced, reduce_dim__n_components=30;, score=0.923 total time=   4.3s\n",
      "[CV 3/3] END clf__C=0.03, clf__class_weight=balanced, reduce_dim__n_components=30;, score=0.927 total time=   4.0s\n",
      "[CV 1/3] END clf__C=0.03, clf__class_weight=balanced, reduce_dim__n_components=40;, score=0.928 total time=   4.7s\n",
      "[CV 2/3] END clf__C=0.03, clf__class_weight=balanced, reduce_dim__n_components=40;, score=0.927 total time=   4.3s\n",
      "[CV 3/3] END clf__C=0.03, clf__class_weight=balanced, reduce_dim__n_components=40;, score=0.929 total time=   4.4s\n",
      "[CV 1/3] END clf__C=0.03, clf__class_weight=balanced, reduce_dim__n_components=50;, score=0.927 total time=   5.0s\n",
      "[CV 2/3] END clf__C=0.03, clf__class_weight=balanced, reduce_dim__n_components=50;, score=0.927 total time=   4.9s\n",
      "[CV 3/3] END clf__C=0.03, clf__class_weight=balanced, reduce_dim__n_components=50;, score=0.930 total time=   4.9s\n",
      "[CV 1/3] END clf__C=0.03, clf__class_weight=balanced, reduce_dim__n_components=60;, score=0.930 total time=   5.2s\n",
      "[CV 2/3] END clf__C=0.03, clf__class_weight=balanced, reduce_dim__n_components=60;, score=0.924 total time=   5.3s\n",
      "[CV 3/3] END clf__C=0.03, clf__class_weight=balanced, reduce_dim__n_components=60;, score=0.928 total time=   5.0s\n",
      "[CV 1/3] END clf__C=0.03, clf__class_weight=balanced, reduce_dim__n_components=70;, score=0.928 total time=   5.3s\n",
      "[CV 2/3] END clf__C=0.03, clf__class_weight=balanced, reduce_dim__n_components=70;, score=0.923 total time=   5.4s\n",
      "[CV 3/3] END clf__C=0.03, clf__class_weight=balanced, reduce_dim__n_components=70;, score=0.931 total time=   5.4s\n",
      "[CV 1/3] END clf__C=0.03, clf__class_weight=balanced, reduce_dim__n_components=80;, score=0.931 total time=   5.6s\n",
      "[CV 2/3] END clf__C=0.03, clf__class_weight=balanced, reduce_dim__n_components=80;, score=0.924 total time=   5.3s\n",
      "[CV 3/3] END clf__C=0.03, clf__class_weight=balanced, reduce_dim__n_components=80;, score=0.932 total time=   5.3s\n",
      "[CV 1/3] END clf__C=0.03, clf__class_weight=balanced, reduce_dim__n_components=90;, score=0.929 total time=   4.8s\n",
      "[CV 2/3] END clf__C=0.03, clf__class_weight=balanced, reduce_dim__n_components=90;, score=0.924 total time=   5.0s\n",
      "[CV 3/3] END clf__C=0.03, clf__class_weight=balanced, reduce_dim__n_components=90;, score=0.932 total time=   5.0s\n",
      "[CV 1/3] END clf__C=0.03, clf__class_weight=balanced, reduce_dim__n_components=100;, score=0.929 total time=   5.3s\n",
      "[CV 2/3] END clf__C=0.03, clf__class_weight=balanced, reduce_dim__n_components=100;, score=0.927 total time=   5.4s\n",
      "[CV 3/3] END clf__C=0.03, clf__class_weight=balanced, reduce_dim__n_components=100;, score=0.932 total time=   5.3s\n",
      "[CV 1/3] END clf__C=0.04, clf__class_weight=None, reduce_dim__n_components=10;, score=0.920 total time=   3.1s\n",
      "[CV 2/3] END clf__C=0.04, clf__class_weight=None, reduce_dim__n_components=10;, score=0.918 total time=   3.1s\n",
      "[CV 3/3] END clf__C=0.04, clf__class_weight=None, reduce_dim__n_components=10;, score=0.911 total time=   3.0s\n",
      "[CV 1/3] END clf__C=0.04, clf__class_weight=None, reduce_dim__n_components=20;, score=0.922 total time=   4.0s\n",
      "[CV 2/3] END clf__C=0.04, clf__class_weight=None, reduce_dim__n_components=20;, score=0.922 total time=   4.4s\n",
      "[CV 3/3] END clf__C=0.04, clf__class_weight=None, reduce_dim__n_components=20;, score=0.922 total time=   4.2s\n",
      "[CV 1/3] END clf__C=0.04, clf__class_weight=None, reduce_dim__n_components=30;, score=0.924 total time=   4.5s\n",
      "[CV 2/3] END clf__C=0.04, clf__class_weight=None, reduce_dim__n_components=30;, score=0.927 total time=   4.2s\n",
      "[CV 3/3] END clf__C=0.04, clf__class_weight=None, reduce_dim__n_components=30;, score=0.919 total time=   4.3s\n",
      "[CV 1/3] END clf__C=0.04, clf__class_weight=None, reduce_dim__n_components=40;, score=0.921 total time=   4.4s\n",
      "[CV 2/3] END clf__C=0.04, clf__class_weight=None, reduce_dim__n_components=40;, score=0.927 total time=   4.6s\n",
      "[CV 3/3] END clf__C=0.04, clf__class_weight=None, reduce_dim__n_components=40;, score=0.922 total time=   4.2s\n",
      "[CV 1/3] END clf__C=0.04, clf__class_weight=None, reduce_dim__n_components=50;, score=0.925 total time=   5.1s\n",
      "[CV 2/3] END clf__C=0.04, clf__class_weight=None, reduce_dim__n_components=50;, score=0.925 total time=   5.0s\n",
      "[CV 3/3] END clf__C=0.04, clf__class_weight=None, reduce_dim__n_components=50;, score=0.925 total time=   4.5s\n",
      "[CV 1/3] END clf__C=0.04, clf__class_weight=None, reduce_dim__n_components=60;, score=0.928 total time=   5.3s\n",
      "[CV 2/3] END clf__C=0.04, clf__class_weight=None, reduce_dim__n_components=60;, score=0.928 total time=   4.5s\n",
      "[CV 3/3] END clf__C=0.04, clf__class_weight=None, reduce_dim__n_components=60;, score=0.923 total time=   4.5s\n",
      "[CV 1/3] END clf__C=0.04, clf__class_weight=None, reduce_dim__n_components=70;, score=0.925 total time=   5.2s\n",
      "[CV 2/3] END clf__C=0.04, clf__class_weight=None, reduce_dim__n_components=70;, score=0.929 total time=   5.1s\n",
      "[CV 3/3] END clf__C=0.04, clf__class_weight=None, reduce_dim__n_components=70;, score=0.925 total time=   5.5s\n",
      "[CV 1/3] END clf__C=0.04, clf__class_weight=None, reduce_dim__n_components=80;, score=0.932 total time=   4.9s\n",
      "[CV 2/3] END clf__C=0.04, clf__class_weight=None, reduce_dim__n_components=80;, score=0.927 total time=   5.8s\n",
      "[CV 3/3] END clf__C=0.04, clf__class_weight=None, reduce_dim__n_components=80;, score=0.925 total time=   5.3s\n",
      "[CV 1/3] END clf__C=0.04, clf__class_weight=None, reduce_dim__n_components=90;, score=0.929 total time=   5.4s\n",
      "[CV 2/3] END clf__C=0.04, clf__class_weight=None, reduce_dim__n_components=90;, score=0.927 total time=   4.7s\n",
      "[CV 3/3] END clf__C=0.04, clf__class_weight=None, reduce_dim__n_components=90;, score=0.926 total time=   4.8s\n",
      "[CV 1/3] END clf__C=0.04, clf__class_weight=None, reduce_dim__n_components=100;, score=0.932 total time=   5.3s\n",
      "[CV 2/3] END clf__C=0.04, clf__class_weight=None, reduce_dim__n_components=100;, score=0.927 total time=   5.4s\n",
      "[CV 3/3] END clf__C=0.04, clf__class_weight=None, reduce_dim__n_components=100;, score=0.926 total time=   5.3s\n",
      "[CV 1/3] END clf__C=0.04, clf__class_weight=balanced, reduce_dim__n_components=10;, score=0.924 total time=   3.0s\n",
      "[CV 2/3] END clf__C=0.04, clf__class_weight=balanced, reduce_dim__n_components=10;, score=0.919 total time=   3.0s\n",
      "[CV 3/3] END clf__C=0.04, clf__class_weight=balanced, reduce_dim__n_components=10;, score=0.920 total time=   3.1s\n",
      "[CV 1/3] END clf__C=0.04, clf__class_weight=balanced, reduce_dim__n_components=20;, score=0.926 total time=   4.1s\n",
      "[CV 2/3] END clf__C=0.04, clf__class_weight=balanced, reduce_dim__n_components=20;, score=0.918 total time=   3.7s\n",
      "[CV 3/3] END clf__C=0.04, clf__class_weight=balanced, reduce_dim__n_components=20;, score=0.925 total time=   3.8s\n",
      "[CV 1/3] END clf__C=0.04, clf__class_weight=balanced, reduce_dim__n_components=30;, score=0.929 total time=   3.9s\n",
      "[CV 2/3] END clf__C=0.04, clf__class_weight=balanced, reduce_dim__n_components=30;, score=0.925 total time=   3.7s\n",
      "[CV 3/3] END clf__C=0.04, clf__class_weight=balanced, reduce_dim__n_components=30;, score=0.930 total time=   4.4s\n",
      "[CV 1/3] END clf__C=0.04, clf__class_weight=balanced, reduce_dim__n_components=40;, score=0.930 total time=   4.5s\n",
      "[CV 2/3] END clf__C=0.04, clf__class_weight=balanced, reduce_dim__n_components=40;, score=0.928 total time=   4.5s\n",
      "[CV 3/3] END clf__C=0.04, clf__class_weight=balanced, reduce_dim__n_components=40;, score=0.929 total time=   4.4s\n",
      "[CV 1/3] END clf__C=0.04, clf__class_weight=balanced, reduce_dim__n_components=50;, score=0.932 total time=   4.9s\n",
      "[CV 2/3] END clf__C=0.04, clf__class_weight=balanced, reduce_dim__n_components=50;, score=0.927 total time=   4.8s\n",
      "[CV 3/3] END clf__C=0.04, clf__class_weight=balanced, reduce_dim__n_components=50;, score=0.933 total time=   4.8s\n",
      "[CV 1/3] END clf__C=0.04, clf__class_weight=balanced, reduce_dim__n_components=60;, score=0.933 total time=   5.2s\n",
      "[CV 2/3] END clf__C=0.04, clf__class_weight=balanced, reduce_dim__n_components=60;, score=0.925 total time=   4.9s\n",
      "[CV 3/3] END clf__C=0.04, clf__class_weight=balanced, reduce_dim__n_components=60;, score=0.931 total time=   5.2s\n",
      "[CV 1/3] END clf__C=0.04, clf__class_weight=balanced, reduce_dim__n_components=70;, score=0.933 total time=   5.1s\n",
      "[CV 2/3] END clf__C=0.04, clf__class_weight=balanced, reduce_dim__n_components=70;, score=0.930 total time=   5.6s\n",
      "[CV 3/3] END clf__C=0.04, clf__class_weight=balanced, reduce_dim__n_components=70;, score=0.932 total time=   5.2s\n",
      "[CV 1/3] END clf__C=0.04, clf__class_weight=balanced, reduce_dim__n_components=80;, score=0.933 total time=   5.7s\n",
      "[CV 2/3] END clf__C=0.04, clf__class_weight=balanced, reduce_dim__n_components=80;, score=0.930 total time=   5.4s\n",
      "[CV 3/3] END clf__C=0.04, clf__class_weight=balanced, reduce_dim__n_components=80;, score=0.935 total time=   5.3s\n",
      "[CV 1/3] END clf__C=0.04, clf__class_weight=balanced, reduce_dim__n_components=90;, score=0.932 total time=   4.7s\n",
      "[CV 2/3] END clf__C=0.04, clf__class_weight=balanced, reduce_dim__n_components=90;, score=0.930 total time=   5.4s\n",
      "[CV 3/3] END clf__C=0.04, clf__class_weight=balanced, reduce_dim__n_components=90;, score=0.934 total time=   5.1s\n",
      "[CV 1/3] END clf__C=0.04, clf__class_weight=balanced, reduce_dim__n_components=100;, score=0.935 total time=   5.5s\n",
      "[CV 2/3] END clf__C=0.04, clf__class_weight=balanced, reduce_dim__n_components=100;, score=0.929 total time=   5.5s\n",
      "[CV 3/3] END clf__C=0.04, clf__class_weight=balanced, reduce_dim__n_components=100;, score=0.934 total time=   5.4s\n",
      "[CV 1/3] END clf__C=0.05, clf__class_weight=None, reduce_dim__n_components=10;, score=0.922 total time=   3.3s\n",
      "[CV 2/3] END clf__C=0.05, clf__class_weight=None, reduce_dim__n_components=10;, score=0.921 total time=   3.1s\n",
      "[CV 3/3] END clf__C=0.05, clf__class_weight=None, reduce_dim__n_components=10;, score=0.912 total time=   3.2s\n",
      "[CV 1/3] END clf__C=0.05, clf__class_weight=None, reduce_dim__n_components=20;, score=0.924 total time=   3.7s\n",
      "[CV 2/3] END clf__C=0.05, clf__class_weight=None, reduce_dim__n_components=20;, score=0.924 total time=   3.9s\n",
      "[CV 3/3] END clf__C=0.05, clf__class_weight=None, reduce_dim__n_components=20;, score=0.922 total time=   3.7s\n",
      "[CV 1/3] END clf__C=0.05, clf__class_weight=None, reduce_dim__n_components=30;, score=0.926 total time=   3.9s\n",
      "[CV 2/3] END clf__C=0.05, clf__class_weight=None, reduce_dim__n_components=30;, score=0.925 total time=   3.9s\n",
      "[CV 3/3] END clf__C=0.05, clf__class_weight=None, reduce_dim__n_components=30;, score=0.923 total time=   4.1s\n",
      "[CV 1/3] END clf__C=0.05, clf__class_weight=None, reduce_dim__n_components=40;, score=0.925 total time=   4.7s\n",
      "[CV 2/3] END clf__C=0.05, clf__class_weight=None, reduce_dim__n_components=40;, score=0.930 total time=   4.3s\n",
      "[CV 3/3] END clf__C=0.05, clf__class_weight=None, reduce_dim__n_components=40;, score=0.927 total time=   4.6s\n",
      "[CV 1/3] END clf__C=0.05, clf__class_weight=None, reduce_dim__n_components=50;, score=0.925 total time=   4.9s\n",
      "[CV 2/3] END clf__C=0.05, clf__class_weight=None, reduce_dim__n_components=50;, score=0.928 total time=   5.1s\n",
      "[CV 3/3] END clf__C=0.05, clf__class_weight=None, reduce_dim__n_components=50;, score=0.928 total time=   4.9s\n",
      "[CV 1/3] END clf__C=0.05, clf__class_weight=None, reduce_dim__n_components=60;, score=0.929 total time=   5.2s\n",
      "[CV 2/3] END clf__C=0.05, clf__class_weight=None, reduce_dim__n_components=60;, score=0.930 total time=   5.2s\n",
      "[CV 3/3] END clf__C=0.05, clf__class_weight=None, reduce_dim__n_components=60;, score=0.928 total time=   5.2s\n",
      "[CV 1/3] END clf__C=0.05, clf__class_weight=None, reduce_dim__n_components=70;, score=0.930 total time=   5.5s\n",
      "[CV 2/3] END clf__C=0.05, clf__class_weight=None, reduce_dim__n_components=70;, score=0.930 total time=   4.8s\n",
      "[CV 3/3] END clf__C=0.05, clf__class_weight=None, reduce_dim__n_components=70;, score=0.928 total time=   5.5s\n",
      "[CV 1/3] END clf__C=0.05, clf__class_weight=None, reduce_dim__n_components=80;, score=0.931 total time=   5.2s\n",
      "[CV 2/3] END clf__C=0.05, clf__class_weight=None, reduce_dim__n_components=80;, score=0.930 total time=   5.3s\n",
      "[CV 3/3] END clf__C=0.05, clf__class_weight=None, reduce_dim__n_components=80;, score=0.930 total time=   5.2s\n",
      "[CV 1/3] END clf__C=0.05, clf__class_weight=None, reduce_dim__n_components=90;, score=0.933 total time=   4.6s\n",
      "[CV 2/3] END clf__C=0.05, clf__class_weight=None, reduce_dim__n_components=90;, score=0.929 total time=   5.0s\n",
      "[CV 3/3] END clf__C=0.05, clf__class_weight=None, reduce_dim__n_components=90;, score=0.929 total time=   5.2s\n",
      "[CV 1/3] END clf__C=0.05, clf__class_weight=None, reduce_dim__n_components=100;, score=0.935 total time=   5.1s\n",
      "[CV 2/3] END clf__C=0.05, clf__class_weight=None, reduce_dim__n_components=100;, score=0.930 total time=   5.3s\n",
      "[CV 3/3] END clf__C=0.05, clf__class_weight=None, reduce_dim__n_components=100;, score=0.930 total time=   5.4s\n",
      "[CV 1/3] END clf__C=0.05, clf__class_weight=balanced, reduce_dim__n_components=10;, score=0.924 total time=   3.1s\n",
      "[CV 2/3] END clf__C=0.05, clf__class_weight=balanced, reduce_dim__n_components=10;, score=0.920 total time=   3.1s\n",
      "[CV 3/3] END clf__C=0.05, clf__class_weight=balanced, reduce_dim__n_components=10;, score=0.919 total time=   3.1s\n",
      "[CV 1/3] END clf__C=0.05, clf__class_weight=balanced, reduce_dim__n_components=20;, score=0.925 total time=   4.1s\n",
      "[CV 2/3] END clf__C=0.05, clf__class_weight=balanced, reduce_dim__n_components=20;, score=0.917 total time=   4.2s\n",
      "[CV 3/3] END clf__C=0.05, clf__class_weight=balanced, reduce_dim__n_components=20;, score=0.926 total time=   3.9s\n",
      "[CV 1/3] END clf__C=0.05, clf__class_weight=balanced, reduce_dim__n_components=30;, score=0.929 total time=   4.0s\n",
      "[CV 2/3] END clf__C=0.05, clf__class_weight=balanced, reduce_dim__n_components=30;, score=0.924 total time=   4.5s\n",
      "[CV 3/3] END clf__C=0.05, clf__class_weight=balanced, reduce_dim__n_components=30;, score=0.927 total time=   4.6s\n",
      "[CV 1/3] END clf__C=0.05, clf__class_weight=balanced, reduce_dim__n_components=40;, score=0.934 total time=   4.3s\n",
      "[CV 2/3] END clf__C=0.05, clf__class_weight=balanced, reduce_dim__n_components=40;, score=0.927 total time=   4.6s\n",
      "[CV 3/3] END clf__C=0.05, clf__class_weight=balanced, reduce_dim__n_components=40;, score=0.932 total time=   4.1s\n",
      "[CV 1/3] END clf__C=0.05, clf__class_weight=balanced, reduce_dim__n_components=50;, score=0.935 total time=   4.6s\n",
      "[CV 2/3] END clf__C=0.05, clf__class_weight=balanced, reduce_dim__n_components=50;, score=0.929 total time=   4.7s\n",
      "[CV 3/3] END clf__C=0.05, clf__class_weight=balanced, reduce_dim__n_components=50;, score=0.934 total time=   4.9s\n",
      "[CV 1/3] END clf__C=0.05, clf__class_weight=balanced, reduce_dim__n_components=60;, score=0.937 total time=   5.3s\n",
      "[CV 2/3] END clf__C=0.05, clf__class_weight=balanced, reduce_dim__n_components=60;, score=0.929 total time=   5.1s\n",
      "[CV 3/3] END clf__C=0.05, clf__class_weight=balanced, reduce_dim__n_components=60;, score=0.935 total time=   5.0s\n",
      "[CV 1/3] END clf__C=0.05, clf__class_weight=balanced, reduce_dim__n_components=70;, score=0.936 total time=   5.5s\n",
      "[CV 2/3] END clf__C=0.05, clf__class_weight=balanced, reduce_dim__n_components=70;, score=0.929 total time=   5.0s\n",
      "[CV 3/3] END clf__C=0.05, clf__class_weight=balanced, reduce_dim__n_components=70;, score=0.936 total time=   5.1s\n",
      "[CV 1/3] END clf__C=0.05, clf__class_weight=balanced, reduce_dim__n_components=80;, score=0.937 total time=   5.1s\n",
      "[CV 2/3] END clf__C=0.05, clf__class_weight=balanced, reduce_dim__n_components=80;, score=0.930 total time=   5.3s\n",
      "[CV 3/3] END clf__C=0.05, clf__class_weight=balanced, reduce_dim__n_components=80;, score=0.937 total time=   5.3s\n",
      "[CV 1/3] END clf__C=0.05, clf__class_weight=balanced, reduce_dim__n_components=90;, score=0.935 total time=   5.2s\n",
      "[CV 2/3] END clf__C=0.05, clf__class_weight=balanced, reduce_dim__n_components=90;, score=0.932 total time=   5.1s\n",
      "[CV 3/3] END clf__C=0.05, clf__class_weight=balanced, reduce_dim__n_components=90;, score=0.937 total time=   5.5s\n",
      "[CV 1/3] END clf__C=0.05, clf__class_weight=balanced, reduce_dim__n_components=100;, score=0.938 total time=   5.6s\n",
      "[CV 2/3] END clf__C=0.05, clf__class_weight=balanced, reduce_dim__n_components=100;, score=0.933 total time=   5.7s\n",
      "[CV 3/3] END clf__C=0.05, clf__class_weight=balanced, reduce_dim__n_components=100;, score=0.937 total time=   5.4s\n",
      "[CV 1/3] END clf__C=0.06, clf__class_weight=None, reduce_dim__n_components=10;, score=0.920 total time=   3.1s\n",
      "[CV 2/3] END clf__C=0.06, clf__class_weight=None, reduce_dim__n_components=10;, score=0.919 total time=   3.2s\n",
      "[CV 3/3] END clf__C=0.06, clf__class_weight=None, reduce_dim__n_components=10;, score=0.912 total time=   3.1s\n",
      "[CV 1/3] END clf__C=0.06, clf__class_weight=None, reduce_dim__n_components=20;, score=0.925 total time=   3.9s\n",
      "[CV 2/3] END clf__C=0.06, clf__class_weight=None, reduce_dim__n_components=20;, score=0.924 total time=   3.8s\n",
      "[CV 3/3] END clf__C=0.06, clf__class_weight=None, reduce_dim__n_components=20;, score=0.924 total time=   3.8s\n",
      "[CV 1/3] END clf__C=0.06, clf__class_weight=None, reduce_dim__n_components=30;, score=0.926 total time=   4.3s\n",
      "[CV 2/3] END clf__C=0.06, clf__class_weight=None, reduce_dim__n_components=30;, score=0.926 total time=   4.5s\n",
      "[CV 3/3] END clf__C=0.06, clf__class_weight=None, reduce_dim__n_components=30;, score=0.925 total time=   4.4s\n",
      "[CV 1/3] END clf__C=0.06, clf__class_weight=None, reduce_dim__n_components=40;, score=0.925 total time=   4.1s\n",
      "[CV 2/3] END clf__C=0.06, clf__class_weight=None, reduce_dim__n_components=40;, score=0.930 total time=   4.5s\n",
      "[CV 3/3] END clf__C=0.06, clf__class_weight=None, reduce_dim__n_components=40;, score=0.927 total time=   4.5s\n",
      "[CV 1/3] END clf__C=0.06, clf__class_weight=None, reduce_dim__n_components=50;, score=0.927 total time=   4.9s\n",
      "[CV 2/3] END clf__C=0.06, clf__class_weight=None, reduce_dim__n_components=50;, score=0.928 total time=   4.4s\n",
      "[CV 3/3] END clf__C=0.06, clf__class_weight=None, reduce_dim__n_components=50;, score=0.929 total time=   5.0s\n",
      "[CV 1/3] END clf__C=0.06, clf__class_weight=None, reduce_dim__n_components=60;, score=0.930 total time=   4.7s\n",
      "[CV 2/3] END clf__C=0.06, clf__class_weight=None, reduce_dim__n_components=60;, score=0.931 total time=   4.8s\n",
      "[CV 3/3] END clf__C=0.06, clf__class_weight=None, reduce_dim__n_components=60;, score=0.931 total time=   4.9s\n",
      "[CV 1/3] END clf__C=0.06, clf__class_weight=None, reduce_dim__n_components=70;, score=0.930 total time=   5.0s\n",
      "[CV 2/3] END clf__C=0.06, clf__class_weight=None, reduce_dim__n_components=70;, score=0.929 total time=   5.5s\n",
      "[CV 3/3] END clf__C=0.06, clf__class_weight=None, reduce_dim__n_components=70;, score=0.930 total time=   5.5s\n",
      "[CV 1/3] END clf__C=0.06, clf__class_weight=None, reduce_dim__n_components=80;, score=0.932 total time=   5.4s\n",
      "[CV 2/3] END clf__C=0.06, clf__class_weight=None, reduce_dim__n_components=80;, score=0.930 total time=   5.4s\n",
      "[CV 3/3] END clf__C=0.06, clf__class_weight=None, reduce_dim__n_components=80;, score=0.931 total time=   5.2s\n",
      "[CV 1/3] END clf__C=0.06, clf__class_weight=None, reduce_dim__n_components=90;, score=0.936 total time=   4.6s\n",
      "[CV 2/3] END clf__C=0.06, clf__class_weight=None, reduce_dim__n_components=90;, score=0.930 total time=   5.3s\n",
      "[CV 3/3] END clf__C=0.06, clf__class_weight=None, reduce_dim__n_components=90;, score=0.931 total time=   4.8s\n",
      "[CV 1/3] END clf__C=0.06, clf__class_weight=None, reduce_dim__n_components=100;, score=0.937 total time=   5.4s\n",
      "[CV 2/3] END clf__C=0.06, clf__class_weight=None, reduce_dim__n_components=100;, score=0.930 total time=   5.5s\n",
      "[CV 3/3] END clf__C=0.06, clf__class_weight=None, reduce_dim__n_components=100;, score=0.931 total time=   5.1s\n",
      "[CV 1/3] END clf__C=0.06, clf__class_weight=balanced, reduce_dim__n_components=10;, score=0.923 total time=   3.0s\n",
      "[CV 2/3] END clf__C=0.06, clf__class_weight=balanced, reduce_dim__n_components=10;, score=0.919 total time=   3.1s\n",
      "[CV 3/3] END clf__C=0.06, clf__class_weight=balanced, reduce_dim__n_components=10;, score=0.918 total time=   3.1s\n",
      "[CV 1/3] END clf__C=0.06, clf__class_weight=balanced, reduce_dim__n_components=20;, score=0.924 total time=   3.9s\n",
      "[CV 2/3] END clf__C=0.06, clf__class_weight=balanced, reduce_dim__n_components=20;, score=0.920 total time=   3.9s\n",
      "[CV 3/3] END clf__C=0.06, clf__class_weight=balanced, reduce_dim__n_components=20;, score=0.927 total time=   4.1s\n",
      "[CV 1/3] END clf__C=0.06, clf__class_weight=balanced, reduce_dim__n_components=30;, score=0.929 total time=   4.4s\n",
      "[CV 2/3] END clf__C=0.06, clf__class_weight=balanced, reduce_dim__n_components=30;, score=0.926 total time=   4.1s\n",
      "[CV 3/3] END clf__C=0.06, clf__class_weight=balanced, reduce_dim__n_components=30;, score=0.929 total time=   3.8s\n",
      "[CV 1/3] END clf__C=0.06, clf__class_weight=balanced, reduce_dim__n_components=40;, score=0.934 total time=   4.5s\n",
      "[CV 2/3] END clf__C=0.06, clf__class_weight=balanced, reduce_dim__n_components=40;, score=0.930 total time=   4.2s\n",
      "[CV 3/3] END clf__C=0.06, clf__class_weight=balanced, reduce_dim__n_components=40;, score=0.932 total time=   4.3s\n",
      "[CV 1/3] END clf__C=0.06, clf__class_weight=balanced, reduce_dim__n_components=50;, score=0.934 total time=   4.9s\n",
      "[CV 2/3] END clf__C=0.06, clf__class_weight=balanced, reduce_dim__n_components=50;, score=0.928 total time=   4.8s\n",
      "[CV 3/3] END clf__C=0.06, clf__class_weight=balanced, reduce_dim__n_components=50;, score=0.933 total time=   4.7s\n",
      "[CV 1/3] END clf__C=0.06, clf__class_weight=balanced, reduce_dim__n_components=60;, score=0.937 total time=   5.3s\n",
      "[CV 2/3] END clf__C=0.06, clf__class_weight=balanced, reduce_dim__n_components=60;, score=0.927 total time=   5.4s\n",
      "[CV 3/3] END clf__C=0.06, clf__class_weight=balanced, reduce_dim__n_components=60;, score=0.938 total time=   5.2s\n",
      "[CV 1/3] END clf__C=0.06, clf__class_weight=balanced, reduce_dim__n_components=70;, score=0.934 total time=   5.6s\n",
      "[CV 2/3] END clf__C=0.06, clf__class_weight=balanced, reduce_dim__n_components=70;, score=0.932 total time=   5.1s\n",
      "[CV 3/3] END clf__C=0.06, clf__class_weight=balanced, reduce_dim__n_components=70;, score=0.936 total time=   5.4s\n",
      "[CV 1/3] END clf__C=0.06, clf__class_weight=balanced, reduce_dim__n_components=80;, score=0.938 total time=   5.0s\n",
      "[CV 2/3] END clf__C=0.06, clf__class_weight=balanced, reduce_dim__n_components=80;, score=0.932 total time=   5.3s\n",
      "[CV 3/3] END clf__C=0.06, clf__class_weight=balanced, reduce_dim__n_components=80;, score=0.937 total time=   5.4s\n",
      "[CV 1/3] END clf__C=0.06, clf__class_weight=balanced, reduce_dim__n_components=90;, score=0.937 total time=   5.3s\n",
      "[CV 2/3] END clf__C=0.06, clf__class_weight=balanced, reduce_dim__n_components=90;, score=0.929 total time=   5.1s\n",
      "[CV 3/3] END clf__C=0.06, clf__class_weight=balanced, reduce_dim__n_components=90;, score=0.937 total time=   4.9s\n",
      "[CV 1/3] END clf__C=0.06, clf__class_weight=balanced, reduce_dim__n_components=100;, score=0.938 total time=   4.8s\n",
      "[CV 2/3] END clf__C=0.06, clf__class_weight=balanced, reduce_dim__n_components=100;, score=0.935 total time=   5.2s\n",
      "[CV 3/3] END clf__C=0.06, clf__class_weight=balanced, reduce_dim__n_components=100;, score=0.937 total time=   5.7s\n",
      "[CV 1/3] END clf__C=0.07, clf__class_weight=None, reduce_dim__n_components=10;, score=0.920 total time=   3.1s\n",
      "[CV 2/3] END clf__C=0.07, clf__class_weight=None, reduce_dim__n_components=10;, score=0.919 total time=   3.1s\n",
      "[CV 3/3] END clf__C=0.07, clf__class_weight=None, reduce_dim__n_components=10;, score=0.913 total time=   3.2s\n",
      "[CV 1/3] END clf__C=0.07, clf__class_weight=None, reduce_dim__n_components=20;, score=0.923 total time=   3.7s\n",
      "[CV 2/3] END clf__C=0.07, clf__class_weight=None, reduce_dim__n_components=20;, score=0.924 total time=   3.8s\n",
      "[CV 3/3] END clf__C=0.07, clf__class_weight=None, reduce_dim__n_components=20;, score=0.927 total time=   3.8s\n",
      "[CV 1/3] END clf__C=0.07, clf__class_weight=None, reduce_dim__n_components=30;, score=0.928 total time=   4.4s\n",
      "[CV 2/3] END clf__C=0.07, clf__class_weight=None, reduce_dim__n_components=30;, score=0.927 total time=   4.5s\n",
      "[CV 3/3] END clf__C=0.07, clf__class_weight=None, reduce_dim__n_components=30;, score=0.925 total time=   4.5s\n",
      "[CV 1/3] END clf__C=0.07, clf__class_weight=None, reduce_dim__n_components=40;, score=0.927 total time=   4.5s\n",
      "[CV 2/3] END clf__C=0.07, clf__class_weight=None, reduce_dim__n_components=40;, score=0.930 total time=   4.6s\n",
      "[CV 3/3] END clf__C=0.07, clf__class_weight=None, reduce_dim__n_components=40;, score=0.930 total time=   4.3s\n",
      "[CV 1/3] END clf__C=0.07, clf__class_weight=None, reduce_dim__n_components=50;, score=0.927 total time=   5.2s\n",
      "[CV 2/3] END clf__C=0.07, clf__class_weight=None, reduce_dim__n_components=50;, score=0.929 total time=   5.2s\n",
      "[CV 3/3] END clf__C=0.07, clf__class_weight=None, reduce_dim__n_components=50;, score=0.930 total time=   4.9s\n",
      "[CV 1/3] END clf__C=0.07, clf__class_weight=None, reduce_dim__n_components=60;, score=0.933 total time=   5.0s\n",
      "[CV 2/3] END clf__C=0.07, clf__class_weight=None, reduce_dim__n_components=60;, score=0.935 total time=   4.5s\n",
      "[CV 3/3] END clf__C=0.07, clf__class_weight=None, reduce_dim__n_components=60;, score=0.931 total time=   4.5s\n",
      "[CV 1/3] END clf__C=0.07, clf__class_weight=None, reduce_dim__n_components=70;, score=0.933 total time=   5.0s\n",
      "[CV 2/3] END clf__C=0.07, clf__class_weight=None, reduce_dim__n_components=70;, score=0.930 total time=   4.9s\n",
      "[CV 3/3] END clf__C=0.07, clf__class_weight=None, reduce_dim__n_components=70;, score=0.930 total time=   5.8s\n",
      "[CV 1/3] END clf__C=0.07, clf__class_weight=None, reduce_dim__n_components=80;, score=0.936 total time=   5.5s\n",
      "[CV 2/3] END clf__C=0.07, clf__class_weight=None, reduce_dim__n_components=80;, score=0.932 total time=   5.5s\n",
      "[CV 3/3] END clf__C=0.07, clf__class_weight=None, reduce_dim__n_components=80;, score=0.931 total time=   5.1s\n",
      "[CV 1/3] END clf__C=0.07, clf__class_weight=None, reduce_dim__n_components=90;, score=0.936 total time=   5.4s\n",
      "[CV 2/3] END clf__C=0.07, clf__class_weight=None, reduce_dim__n_components=90;, score=0.930 total time=   4.5s\n",
      "[CV 3/3] END clf__C=0.07, clf__class_weight=None, reduce_dim__n_components=90;, score=0.932 total time=   4.4s\n",
      "[CV 1/3] END clf__C=0.07, clf__class_weight=None, reduce_dim__n_components=100;, score=0.937 total time=   5.4s\n",
      "[CV 2/3] END clf__C=0.07, clf__class_weight=None, reduce_dim__n_components=100;, score=0.930 total time=   5.4s\n",
      "[CV 3/3] END clf__C=0.07, clf__class_weight=None, reduce_dim__n_components=100;, score=0.931 total time=   5.5s\n",
      "[CV 1/3] END clf__C=0.07, clf__class_weight=balanced, reduce_dim__n_components=10;, score=0.923 total time=   3.3s\n",
      "[CV 2/3] END clf__C=0.07, clf__class_weight=balanced, reduce_dim__n_components=10;, score=0.919 total time=   3.1s\n",
      "[CV 3/3] END clf__C=0.07, clf__class_weight=balanced, reduce_dim__n_components=10;, score=0.917 total time=   3.1s\n",
      "[CV 1/3] END clf__C=0.07, clf__class_weight=balanced, reduce_dim__n_components=20;, score=0.926 total time=   4.0s\n",
      "[CV 2/3] END clf__C=0.07, clf__class_weight=balanced, reduce_dim__n_components=20;, score=0.919 total time=   3.8s\n",
      "[CV 3/3] END clf__C=0.07, clf__class_weight=balanced, reduce_dim__n_components=20;, score=0.929 total time=   3.9s\n",
      "[CV 1/3] END clf__C=0.07, clf__class_weight=balanced, reduce_dim__n_components=30;, score=0.930 total time=   4.1s\n",
      "[CV 2/3] END clf__C=0.07, clf__class_weight=balanced, reduce_dim__n_components=30;, score=0.927 total time=   4.4s\n",
      "[CV 3/3] END clf__C=0.07, clf__class_weight=balanced, reduce_dim__n_components=30;, score=0.929 total time=   4.4s\n",
      "[CV 1/3] END clf__C=0.07, clf__class_weight=balanced, reduce_dim__n_components=40;, score=0.933 total time=   4.1s\n",
      "[CV 2/3] END clf__C=0.07, clf__class_weight=balanced, reduce_dim__n_components=40;, score=0.929 total time=   4.2s\n",
      "[CV 3/3] END clf__C=0.07, clf__class_weight=balanced, reduce_dim__n_components=40;, score=0.934 total time=   4.4s\n",
      "[CV 1/3] END clf__C=0.07, clf__class_weight=balanced, reduce_dim__n_components=50;, score=0.935 total time=   4.9s\n",
      "[CV 2/3] END clf__C=0.07, clf__class_weight=balanced, reduce_dim__n_components=50;, score=0.930 total time=   5.1s\n",
      "[CV 3/3] END clf__C=0.07, clf__class_weight=balanced, reduce_dim__n_components=50;, score=0.936 total time=   4.6s\n",
      "[CV 1/3] END clf__C=0.07, clf__class_weight=balanced, reduce_dim__n_components=60;, score=0.938 total time=   5.1s\n",
      "[CV 2/3] END clf__C=0.07, clf__class_weight=balanced, reduce_dim__n_components=60;, score=0.927 total time=   5.3s\n",
      "[CV 3/3] END clf__C=0.07, clf__class_weight=balanced, reduce_dim__n_components=60;, score=0.939 total time=   5.3s\n",
      "[CV 1/3] END clf__C=0.07, clf__class_weight=balanced, reduce_dim__n_components=70;, score=0.935 total time=   5.5s\n",
      "[CV 2/3] END clf__C=0.07, clf__class_weight=balanced, reduce_dim__n_components=70;, score=0.932 total time=   5.2s\n",
      "[CV 3/3] END clf__C=0.07, clf__class_weight=balanced, reduce_dim__n_components=70;, score=0.940 total time=   5.4s\n",
      "[CV 1/3] END clf__C=0.07, clf__class_weight=balanced, reduce_dim__n_components=80;, score=0.940 total time=   5.3s\n",
      "[CV 2/3] END clf__C=0.07, clf__class_weight=balanced, reduce_dim__n_components=80;, score=0.933 total time=   5.0s\n",
      "[CV 3/3] END clf__C=0.07, clf__class_weight=balanced, reduce_dim__n_components=80;, score=0.938 total time=   5.3s\n",
      "[CV 1/3] END clf__C=0.07, clf__class_weight=balanced, reduce_dim__n_components=90;, score=0.937 total time=   4.4s\n",
      "[CV 2/3] END clf__C=0.07, clf__class_weight=balanced, reduce_dim__n_components=90;, score=0.930 total time=   5.2s\n",
      "[CV 3/3] END clf__C=0.07, clf__class_weight=balanced, reduce_dim__n_components=90;, score=0.939 total time=   5.6s\n",
      "[CV 1/3] END clf__C=0.07, clf__class_weight=balanced, reduce_dim__n_components=100;, score=0.937 total time=   5.7s\n",
      "[CV 2/3] END clf__C=0.07, clf__class_weight=balanced, reduce_dim__n_components=100;, score=0.935 total time=   5.5s\n",
      "[CV 3/3] END clf__C=0.07, clf__class_weight=balanced, reduce_dim__n_components=100;, score=0.939 total time=   5.5s\n",
      "[CV 1/3] END clf__C=0.08, clf__class_weight=None, reduce_dim__n_components=10;, score=0.920 total time=   3.1s\n",
      "[CV 2/3] END clf__C=0.08, clf__class_weight=None, reduce_dim__n_components=10;, score=0.921 total time=   3.0s\n",
      "[CV 3/3] END clf__C=0.08, clf__class_weight=None, reduce_dim__n_components=10;, score=0.913 total time=   3.0s\n",
      "[CV 1/3] END clf__C=0.08, clf__class_weight=None, reduce_dim__n_components=20;, score=0.924 total time=   3.8s\n",
      "[CV 2/3] END clf__C=0.08, clf__class_weight=None, reduce_dim__n_components=20;, score=0.924 total time=   4.1s\n",
      "[CV 3/3] END clf__C=0.08, clf__class_weight=None, reduce_dim__n_components=20;, score=0.926 total time=   4.0s\n",
      "[CV 1/3] END clf__C=0.08, clf__class_weight=None, reduce_dim__n_components=30;, score=0.928 total time=   4.1s\n",
      "[CV 2/3] END clf__C=0.08, clf__class_weight=None, reduce_dim__n_components=30;, score=0.929 total time=   4.1s\n",
      "[CV 3/3] END clf__C=0.08, clf__class_weight=None, reduce_dim__n_components=30;, score=0.926 total time=   4.2s\n",
      "[CV 1/3] END clf__C=0.08, clf__class_weight=None, reduce_dim__n_components=40;, score=0.928 total time=   4.6s\n",
      "[CV 2/3] END clf__C=0.08, clf__class_weight=None, reduce_dim__n_components=40;, score=0.931 total time=   4.5s\n",
      "[CV 3/3] END clf__C=0.08, clf__class_weight=None, reduce_dim__n_components=40;, score=0.931 total time=   4.0s\n",
      "[CV 1/3] END clf__C=0.08, clf__class_weight=None, reduce_dim__n_components=50;, score=0.928 total time=   5.1s\n",
      "[CV 2/3] END clf__C=0.08, clf__class_weight=None, reduce_dim__n_components=50;, score=0.930 total time=   4.6s\n",
      "[CV 3/3] END clf__C=0.08, clf__class_weight=None, reduce_dim__n_components=50;, score=0.931 total time=   5.0s\n",
      "[CV 1/3] END clf__C=0.08, clf__class_weight=None, reduce_dim__n_components=60;, score=0.933 total time=   5.3s\n",
      "[CV 2/3] END clf__C=0.08, clf__class_weight=None, reduce_dim__n_components=60;, score=0.934 total time=   5.3s\n",
      "[CV 3/3] END clf__C=0.08, clf__class_weight=None, reduce_dim__n_components=60;, score=0.931 total time=   5.1s\n",
      "[CV 1/3] END clf__C=0.08, clf__class_weight=None, reduce_dim__n_components=70;, score=0.935 total time=   5.2s\n",
      "[CV 2/3] END clf__C=0.08, clf__class_weight=None, reduce_dim__n_components=70;, score=0.931 total time=   5.2s\n",
      "[CV 3/3] END clf__C=0.08, clf__class_weight=None, reduce_dim__n_components=70;, score=0.931 total time=   5.1s\n",
      "[CV 1/3] END clf__C=0.08, clf__class_weight=None, reduce_dim__n_components=80;, score=0.937 total time=   5.7s\n",
      "[CV 2/3] END clf__C=0.08, clf__class_weight=None, reduce_dim__n_components=80;, score=0.932 total time=   4.9s\n",
      "[CV 3/3] END clf__C=0.08, clf__class_weight=None, reduce_dim__n_components=80;, score=0.932 total time=   5.0s\n",
      "[CV 1/3] END clf__C=0.08, clf__class_weight=None, reduce_dim__n_components=90;, score=0.937 total time=   5.3s\n",
      "[CV 2/3] END clf__C=0.08, clf__class_weight=None, reduce_dim__n_components=90;, score=0.929 total time=   5.5s\n",
      "[CV 3/3] END clf__C=0.08, clf__class_weight=None, reduce_dim__n_components=90;, score=0.933 total time=   5.3s\n",
      "[CV 1/3] END clf__C=0.08, clf__class_weight=None, reduce_dim__n_components=100;, score=0.939 total time=   5.5s\n",
      "[CV 2/3] END clf__C=0.08, clf__class_weight=None, reduce_dim__n_components=100;, score=0.930 total time=   4.7s\n",
      "[CV 3/3] END clf__C=0.08, clf__class_weight=None, reduce_dim__n_components=100;, score=0.934 total time=   5.5s\n",
      "[CV 1/3] END clf__C=0.08, clf__class_weight=balanced, reduce_dim__n_components=10;, score=0.923 total time=   3.2s\n",
      "[CV 2/3] END clf__C=0.08, clf__class_weight=balanced, reduce_dim__n_components=10;, score=0.920 total time=   3.3s\n",
      "[CV 3/3] END clf__C=0.08, clf__class_weight=balanced, reduce_dim__n_components=10;, score=0.918 total time=   3.2s\n",
      "[CV 1/3] END clf__C=0.08, clf__class_weight=balanced, reduce_dim__n_components=20;, score=0.926 total time=   3.9s\n",
      "[CV 2/3] END clf__C=0.08, clf__class_weight=balanced, reduce_dim__n_components=20;, score=0.919 total time=   4.2s\n",
      "[CV 3/3] END clf__C=0.08, clf__class_weight=balanced, reduce_dim__n_components=20;, score=0.929 total time=   4.7s\n",
      "[CV 1/3] END clf__C=0.08, clf__class_weight=balanced, reduce_dim__n_components=30;, score=0.930 total time=   4.6s\n",
      "[CV 2/3] END clf__C=0.08, clf__class_weight=balanced, reduce_dim__n_components=30;, score=0.927 total time=   3.9s\n",
      "[CV 3/3] END clf__C=0.08, clf__class_weight=balanced, reduce_dim__n_components=30;, score=0.929 total time=   4.3s\n",
      "[CV 1/3] END clf__C=0.08, clf__class_weight=balanced, reduce_dim__n_components=40;, score=0.934 total time=   4.1s\n",
      "[CV 2/3] END clf__C=0.08, clf__class_weight=balanced, reduce_dim__n_components=40;, score=0.928 total time=   4.4s\n",
      "[CV 3/3] END clf__C=0.08, clf__class_weight=balanced, reduce_dim__n_components=40;, score=0.933 total time=   4.7s\n",
      "[CV 1/3] END clf__C=0.08, clf__class_weight=balanced, reduce_dim__n_components=50;, score=0.934 total time=   5.0s\n",
      "[CV 2/3] END clf__C=0.08, clf__class_weight=balanced, reduce_dim__n_components=50;, score=0.932 total time=   4.6s\n",
      "[CV 3/3] END clf__C=0.08, clf__class_weight=balanced, reduce_dim__n_components=50;, score=0.939 total time=   5.1s\n",
      "[CV 1/3] END clf__C=0.08, clf__class_weight=balanced, reduce_dim__n_components=60;, score=0.938 total time=   5.0s\n",
      "[CV 2/3] END clf__C=0.08, clf__class_weight=balanced, reduce_dim__n_components=60;, score=0.927 total time=   5.2s\n",
      "[CV 3/3] END clf__C=0.08, clf__class_weight=balanced, reduce_dim__n_components=60;, score=0.941 total time=   5.0s\n",
      "[CV 1/3] END clf__C=0.08, clf__class_weight=balanced, reduce_dim__n_components=70;, score=0.936 total time=   5.3s\n",
      "[CV 2/3] END clf__C=0.08, clf__class_weight=balanced, reduce_dim__n_components=70;, score=0.931 total time=   5.3s\n",
      "[CV 3/3] END clf__C=0.08, clf__class_weight=balanced, reduce_dim__n_components=70;, score=0.940 total time=   5.1s\n",
      "[CV 1/3] END clf__C=0.08, clf__class_weight=balanced, reduce_dim__n_components=80;, score=0.938 total time=   5.1s\n",
      "[CV 2/3] END clf__C=0.08, clf__class_weight=balanced, reduce_dim__n_components=80;, score=0.932 total time=   5.3s\n",
      "[CV 3/3] END clf__C=0.08, clf__class_weight=balanced, reduce_dim__n_components=80;, score=0.940 total time=   4.8s\n",
      "[CV 1/3] END clf__C=0.08, clf__class_weight=balanced, reduce_dim__n_components=90;, score=0.937 total time=   5.1s\n",
      "[CV 2/3] END clf__C=0.08, clf__class_weight=balanced, reduce_dim__n_components=90;, score=0.932 total time=   5.3s\n",
      "[CV 3/3] END clf__C=0.08, clf__class_weight=balanced, reduce_dim__n_components=90;, score=0.941 total time=   4.9s\n",
      "[CV 1/3] END clf__C=0.08, clf__class_weight=balanced, reduce_dim__n_components=100;, score=0.937 total time=   5.4s\n",
      "[CV 2/3] END clf__C=0.08, clf__class_weight=balanced, reduce_dim__n_components=100;, score=0.935 total time=   5.5s\n",
      "[CV 3/3] END clf__C=0.08, clf__class_weight=balanced, reduce_dim__n_components=100;, score=0.941 total time=   4.7s\n",
      "[CV 1/3] END clf__C=0.09, clf__class_weight=None, reduce_dim__n_components=10;, score=0.920 total time=   3.1s\n",
      "[CV 2/3] END clf__C=0.09, clf__class_weight=None, reduce_dim__n_components=10;, score=0.920 total time=   3.1s\n",
      "[CV 3/3] END clf__C=0.09, clf__class_weight=None, reduce_dim__n_components=10;, score=0.913 total time=   3.2s\n",
      "[CV 1/3] END clf__C=0.09, clf__class_weight=None, reduce_dim__n_components=20;, score=0.924 total time=   4.3s\n",
      "[CV 2/3] END clf__C=0.09, clf__class_weight=None, reduce_dim__n_components=20;, score=0.924 total time=   4.1s\n",
      "[CV 3/3] END clf__C=0.09, clf__class_weight=None, reduce_dim__n_components=20;, score=0.927 total time=   4.0s\n",
      "[CV 1/3] END clf__C=0.09, clf__class_weight=None, reduce_dim__n_components=30;, score=0.926 total time=   3.8s\n",
      "[CV 2/3] END clf__C=0.09, clf__class_weight=None, reduce_dim__n_components=30;, score=0.930 total time=   3.8s\n",
      "[CV 3/3] END clf__C=0.09, clf__class_weight=None, reduce_dim__n_components=30;, score=0.928 total time=   4.0s\n",
      "[CV 1/3] END clf__C=0.09, clf__class_weight=None, reduce_dim__n_components=40;, score=0.928 total time=   4.4s\n",
      "[CV 2/3] END clf__C=0.09, clf__class_weight=None, reduce_dim__n_components=40;, score=0.933 total time=   4.4s\n",
      "[CV 3/3] END clf__C=0.09, clf__class_weight=None, reduce_dim__n_components=40;, score=0.931 total time=   4.9s\n",
      "[CV 1/3] END clf__C=0.09, clf__class_weight=None, reduce_dim__n_components=50;, score=0.929 total time=   5.2s\n",
      "[CV 2/3] END clf__C=0.09, clf__class_weight=None, reduce_dim__n_components=50;, score=0.931 total time=   5.0s\n",
      "[CV 3/3] END clf__C=0.09, clf__class_weight=None, reduce_dim__n_components=50;, score=0.930 total time=   5.0s\n",
      "[CV 1/3] END clf__C=0.09, clf__class_weight=None, reduce_dim__n_components=60;, score=0.934 total time=   5.0s\n",
      "[CV 2/3] END clf__C=0.09, clf__class_weight=None, reduce_dim__n_components=60;, score=0.934 total time=   5.3s\n",
      "[CV 3/3] END clf__C=0.09, clf__class_weight=None, reduce_dim__n_components=60;, score=0.931 total time=   4.9s\n",
      "[CV 1/3] END clf__C=0.09, clf__class_weight=None, reduce_dim__n_components=70;, score=0.935 total time=   5.6s\n",
      "[CV 2/3] END clf__C=0.09, clf__class_weight=None, reduce_dim__n_components=70;, score=0.932 total time=   5.1s\n",
      "[CV 3/3] END clf__C=0.09, clf__class_weight=None, reduce_dim__n_components=70;, score=0.931 total time=   5.6s\n",
      "[CV 1/3] END clf__C=0.09, clf__class_weight=None, reduce_dim__n_components=80;, score=0.937 total time=   5.0s\n",
      "[CV 2/3] END clf__C=0.09, clf__class_weight=None, reduce_dim__n_components=80;, score=0.934 total time=   5.5s\n",
      "[CV 3/3] END clf__C=0.09, clf__class_weight=None, reduce_dim__n_components=80;, score=0.933 total time=   5.6s\n",
      "[CV 1/3] END clf__C=0.09, clf__class_weight=None, reduce_dim__n_components=90;, score=0.936 total time=   4.9s\n",
      "[CV 2/3] END clf__C=0.09, clf__class_weight=None, reduce_dim__n_components=90;, score=0.930 total time=   5.5s\n",
      "[CV 3/3] END clf__C=0.09, clf__class_weight=None, reduce_dim__n_components=90;, score=0.934 total time=   5.1s\n",
      "[CV 1/3] END clf__C=0.09, clf__class_weight=None, reduce_dim__n_components=100;, score=0.939 total time=   5.2s\n",
      "[CV 2/3] END clf__C=0.09, clf__class_weight=None, reduce_dim__n_components=100;, score=0.931 total time=   5.8s\n",
      "[CV 3/3] END clf__C=0.09, clf__class_weight=None, reduce_dim__n_components=100;, score=0.934 total time=   5.3s\n",
      "[CV 1/3] END clf__C=0.09, clf__class_weight=balanced, reduce_dim__n_components=10;, score=0.922 total time=   3.0s\n",
      "[CV 2/3] END clf__C=0.09, clf__class_weight=balanced, reduce_dim__n_components=10;, score=0.921 total time=   3.1s\n",
      "[CV 3/3] END clf__C=0.09, clf__class_weight=balanced, reduce_dim__n_components=10;, score=0.918 total time=   3.0s\n",
      "[CV 1/3] END clf__C=0.09, clf__class_weight=balanced, reduce_dim__n_components=20;, score=0.924 total time=   3.8s\n",
      "[CV 2/3] END clf__C=0.09, clf__class_weight=balanced, reduce_dim__n_components=20;, score=0.919 total time=   3.8s\n",
      "[CV 3/3] END clf__C=0.09, clf__class_weight=balanced, reduce_dim__n_components=20;, score=0.928 total time=   3.8s\n",
      "[CV 1/3] END clf__C=0.09, clf__class_weight=balanced, reduce_dim__n_components=30;, score=0.930 total time=   4.3s\n",
      "[CV 2/3] END clf__C=0.09, clf__class_weight=balanced, reduce_dim__n_components=30;, score=0.925 total time=   4.5s\n",
      "[CV 3/3] END clf__C=0.09, clf__class_weight=balanced, reduce_dim__n_components=30;, score=0.930 total time=   4.0s\n",
      "[CV 1/3] END clf__C=0.09, clf__class_weight=balanced, reduce_dim__n_components=40;, score=0.934 total time=   4.4s\n",
      "[CV 2/3] END clf__C=0.09, clf__class_weight=balanced, reduce_dim__n_components=40;, score=0.928 total time=   4.5s\n",
      "[CV 3/3] END clf__C=0.09, clf__class_weight=balanced, reduce_dim__n_components=40;, score=0.932 total time=   4.8s\n",
      "[CV 1/3] END clf__C=0.09, clf__class_weight=balanced, reduce_dim__n_components=50;, score=0.934 total time=   5.0s\n",
      "[CV 2/3] END clf__C=0.09, clf__class_weight=balanced, reduce_dim__n_components=50;, score=0.932 total time=   5.0s\n",
      "[CV 3/3] END clf__C=0.09, clf__class_weight=balanced, reduce_dim__n_components=50;, score=0.941 total time=   4.7s\n",
      "[CV 1/3] END clf__C=0.09, clf__class_weight=balanced, reduce_dim__n_components=60;, score=0.937 total time=   5.1s\n",
      "[CV 2/3] END clf__C=0.09, clf__class_weight=balanced, reduce_dim__n_components=60;, score=0.927 total time=   5.1s\n",
      "[CV 3/3] END clf__C=0.09, clf__class_weight=balanced, reduce_dim__n_components=60;, score=0.942 total time=   5.2s\n",
      "[CV 1/3] END clf__C=0.09, clf__class_weight=balanced, reduce_dim__n_components=70;, score=0.937 total time=   5.3s\n",
      "[CV 2/3] END clf__C=0.09, clf__class_weight=balanced, reduce_dim__n_components=70;, score=0.932 total time=   5.2s\n",
      "[CV 3/3] END clf__C=0.09, clf__class_weight=balanced, reduce_dim__n_components=70;, score=0.941 total time=   5.4s\n",
      "[CV 1/3] END clf__C=0.09, clf__class_weight=balanced, reduce_dim__n_components=80;, score=0.939 total time=   5.4s\n",
      "[CV 2/3] END clf__C=0.09, clf__class_weight=balanced, reduce_dim__n_components=80;, score=0.932 total time=   5.1s\n",
      "[CV 3/3] END clf__C=0.09, clf__class_weight=balanced, reduce_dim__n_components=80;, score=0.940 total time=   5.4s\n",
      "[CV 1/3] END clf__C=0.09, clf__class_weight=balanced, reduce_dim__n_components=90;, score=0.937 total time=   5.1s\n",
      "[CV 2/3] END clf__C=0.09, clf__class_weight=balanced, reduce_dim__n_components=90;, score=0.933 total time=   4.9s\n",
      "[CV 3/3] END clf__C=0.09, clf__class_weight=balanced, reduce_dim__n_components=90;, score=0.943 total time=   4.4s\n",
      "[CV 1/3] END clf__C=0.09, clf__class_weight=balanced, reduce_dim__n_components=100;, score=0.936 total time=   5.5s\n",
      "[CV 2/3] END clf__C=0.09, clf__class_weight=balanced, reduce_dim__n_components=100;, score=0.934 total time=   4.8s\n",
      "[CV 3/3] END clf__C=0.09, clf__class_weight=balanced, reduce_dim__n_components=100;, score=0.943 total time=   5.5s\n",
      "[CV 1/3] END clf__C=0.1, clf__class_weight=None, reduce_dim__n_components=10;, score=0.920 total time=   3.1s\n",
      "[CV 2/3] END clf__C=0.1, clf__class_weight=None, reduce_dim__n_components=10;, score=0.919 total time=   3.3s\n",
      "[CV 3/3] END clf__C=0.1, clf__class_weight=None, reduce_dim__n_components=10;, score=0.913 total time=   3.2s\n",
      "[CV 1/3] END clf__C=0.1, clf__class_weight=None, reduce_dim__n_components=20;, score=0.923 total time=   3.9s\n",
      "[CV 2/3] END clf__C=0.1, clf__class_weight=None, reduce_dim__n_components=20;, score=0.924 total time=   3.9s\n",
      "[CV 3/3] END clf__C=0.1, clf__class_weight=None, reduce_dim__n_components=20;, score=0.927 total time=   3.9s\n",
      "[CV 1/3] END clf__C=0.1, clf__class_weight=None, reduce_dim__n_components=30;, score=0.926 total time=   4.2s\n",
      "[CV 2/3] END clf__C=0.1, clf__class_weight=None, reduce_dim__n_components=30;, score=0.930 total time=   4.2s\n",
      "[CV 3/3] END clf__C=0.1, clf__class_weight=None, reduce_dim__n_components=30;, score=0.929 total time=   4.2s\n",
      "[CV 1/3] END clf__C=0.1, clf__class_weight=None, reduce_dim__n_components=40;, score=0.927 total time=   4.4s\n",
      "[CV 2/3] END clf__C=0.1, clf__class_weight=None, reduce_dim__n_components=40;, score=0.934 total time=   4.4s\n",
      "[CV 3/3] END clf__C=0.1, clf__class_weight=None, reduce_dim__n_components=40;, score=0.931 total time=   4.4s\n",
      "[CV 1/3] END clf__C=0.1, clf__class_weight=None, reduce_dim__n_components=50;, score=0.930 total time=   4.7s\n",
      "[CV 2/3] END clf__C=0.1, clf__class_weight=None, reduce_dim__n_components=50;, score=0.932 total time=   4.9s\n",
      "[CV 3/3] END clf__C=0.1, clf__class_weight=None, reduce_dim__n_components=50;, score=0.930 total time=   5.2s\n",
      "[CV 1/3] END clf__C=0.1, clf__class_weight=None, reduce_dim__n_components=60;, score=0.935 total time=   5.0s\n",
      "[CV 2/3] END clf__C=0.1, clf__class_weight=None, reduce_dim__n_components=60;, score=0.934 total time=   5.1s\n",
      "[CV 3/3] END clf__C=0.1, clf__class_weight=None, reduce_dim__n_components=60;, score=0.931 total time=   5.1s\n",
      "[CV 1/3] END clf__C=0.1, clf__class_weight=None, reduce_dim__n_components=70;, score=0.935 total time=   5.2s\n",
      "[CV 2/3] END clf__C=0.1, clf__class_weight=None, reduce_dim__n_components=70;, score=0.932 total time=   5.2s\n",
      "[CV 3/3] END clf__C=0.1, clf__class_weight=None, reduce_dim__n_components=70;, score=0.932 total time=   5.5s\n",
      "[CV 1/3] END clf__C=0.1, clf__class_weight=None, reduce_dim__n_components=80;, score=0.937 total time=   5.4s\n",
      "[CV 2/3] END clf__C=0.1, clf__class_weight=None, reduce_dim__n_components=80;, score=0.934 total time=   5.2s\n",
      "[CV 3/3] END clf__C=0.1, clf__class_weight=None, reduce_dim__n_components=80;, score=0.934 total time=   5.2s\n",
      "[CV 1/3] END clf__C=0.1, clf__class_weight=None, reduce_dim__n_components=90;, score=0.937 total time=   5.4s\n",
      "[CV 2/3] END clf__C=0.1, clf__class_weight=None, reduce_dim__n_components=90;, score=0.931 total time=   5.0s\n",
      "[CV 3/3] END clf__C=0.1, clf__class_weight=None, reduce_dim__n_components=90;, score=0.935 total time=   5.1s\n",
      "[CV 1/3] END clf__C=0.1, clf__class_weight=None, reduce_dim__n_components=100;, score=0.938 total time=   5.2s\n",
      "[CV 2/3] END clf__C=0.1, clf__class_weight=None, reduce_dim__n_components=100;, score=0.932 total time=   5.4s\n",
      "[CV 3/3] END clf__C=0.1, clf__class_weight=None, reduce_dim__n_components=100;, score=0.936 total time=   5.7s\n",
      "[CV 1/3] END clf__C=0.1, clf__class_weight=balanced, reduce_dim__n_components=10;, score=0.923 total time=   3.1s\n",
      "[CV 2/3] END clf__C=0.1, clf__class_weight=balanced, reduce_dim__n_components=10;, score=0.921 total time=   3.1s\n",
      "[CV 3/3] END clf__C=0.1, clf__class_weight=balanced, reduce_dim__n_components=10;, score=0.918 total time=   3.1s\n",
      "[CV 1/3] END clf__C=0.1, clf__class_weight=balanced, reduce_dim__n_components=20;, score=0.924 total time=   3.8s\n",
      "[CV 2/3] END clf__C=0.1, clf__class_weight=balanced, reduce_dim__n_components=20;, score=0.919 total time=   3.8s\n",
      "[CV 3/3] END clf__C=0.1, clf__class_weight=balanced, reduce_dim__n_components=20;, score=0.928 total time=   3.9s\n",
      "[CV 1/3] END clf__C=0.1, clf__class_weight=balanced, reduce_dim__n_components=30;, score=0.930 total time=   4.2s\n",
      "[CV 2/3] END clf__C=0.1, clf__class_weight=balanced, reduce_dim__n_components=30;, score=0.925 total time=   4.2s\n",
      "[CV 3/3] END clf__C=0.1, clf__class_weight=balanced, reduce_dim__n_components=30;, score=0.932 total time=   4.4s\n",
      "[CV 1/3] END clf__C=0.1, clf__class_weight=balanced, reduce_dim__n_components=40;, score=0.935 total time=   4.2s\n",
      "[CV 2/3] END clf__C=0.1, clf__class_weight=balanced, reduce_dim__n_components=40;, score=0.928 total time=   4.2s\n",
      "[CV 3/3] END clf__C=0.1, clf__class_weight=balanced, reduce_dim__n_components=40;, score=0.932 total time=   4.7s\n",
      "[CV 1/3] END clf__C=0.1, clf__class_weight=balanced, reduce_dim__n_components=50;, score=0.934 total time=   4.8s\n",
      "[CV 2/3] END clf__C=0.1, clf__class_weight=balanced, reduce_dim__n_components=50;, score=0.931 total time=   5.0s\n",
      "[CV 3/3] END clf__C=0.1, clf__class_weight=balanced, reduce_dim__n_components=50;, score=0.941 total time=   4.8s\n",
      "[CV 1/3] END clf__C=0.1, clf__class_weight=balanced, reduce_dim__n_components=60;, score=0.933 total time=   5.4s\n",
      "[CV 2/3] END clf__C=0.1, clf__class_weight=balanced, reduce_dim__n_components=60;, score=0.927 total time=   4.7s\n",
      "[CV 3/3] END clf__C=0.1, clf__class_weight=balanced, reduce_dim__n_components=60;, score=0.942 total time=   4.9s\n",
      "[CV 1/3] END clf__C=0.1, clf__class_weight=balanced, reduce_dim__n_components=70;, score=0.938 total time=   5.4s\n",
      "[CV 2/3] END clf__C=0.1, clf__class_weight=balanced, reduce_dim__n_components=70;, score=0.931 total time=   5.2s\n",
      "[CV 3/3] END clf__C=0.1, clf__class_weight=balanced, reduce_dim__n_components=70;, score=0.942 total time=   5.3s\n",
      "[CV 1/3] END clf__C=0.1, clf__class_weight=balanced, reduce_dim__n_components=80;, score=0.937 total time=   5.4s\n",
      "[CV 2/3] END clf__C=0.1, clf__class_weight=balanced, reduce_dim__n_components=80;, score=0.932 total time=   5.2s\n",
      "[CV 3/3] END clf__C=0.1, clf__class_weight=balanced, reduce_dim__n_components=80;, score=0.942 total time=   5.4s\n",
      "[CV 1/3] END clf__C=0.1, clf__class_weight=balanced, reduce_dim__n_components=90;, score=0.937 total time=   5.2s\n",
      "[CV 2/3] END clf__C=0.1, clf__class_weight=balanced, reduce_dim__n_components=90;, score=0.933 total time=   4.8s\n",
      "[CV 3/3] END clf__C=0.1, clf__class_weight=balanced, reduce_dim__n_components=90;, score=0.943 total time=   5.5s\n",
      "[CV 1/3] END clf__C=0.1, clf__class_weight=balanced, reduce_dim__n_components=100;, score=0.937 total time=   5.2s\n",
      "[CV 2/3] END clf__C=0.1, clf__class_weight=balanced, reduce_dim__n_components=100;, score=0.933 total time=   5.2s\n",
      "[CV 3/3] END clf__C=0.1, clf__class_weight=balanced, reduce_dim__n_components=100;, score=0.943 total time=   5.4s\n",
      "GridSearchCV took 2809.88 seconds for 200 candidate parameter settings.\n"
     ]
    }
   ],
   "source": [
    "params = {'tol': 1e-6, 'max_iter': 10000, 'random_state': STATE, 'solver': 'liblinear', \"penalty\": 'l1'}\n",
    "pipeline = Pipeline([\n",
    "    ('scaler', StandardScaler()),\n",
    "    ('reduce_dim', PCA(whiten=True, random_state=STATE)),\n",
    "    ('clf', LogisticRegression(**params))])\n",
    "# parameters grid\n",
    "N_FEATURES_OPTIONS =  np.arange(10,110,10)\n",
    "C_OPTIONS = [0.01, 0.02, 0.03, 0.04, 0.05, 0.06, 0.07, 0.08, 0.09, 0.1 ]\n",
    "CLASS_WEIGHT = [None,'balanced']\n",
    "params_grid = {'reduce_dim__n_components': N_FEATURES_OPTIONS, 'clf__C': C_OPTIONS, 'clf__class_weight': CLASS_WEIGHT}\n",
    "# Strtified sampling from training dataset\n",
    "kfold = StratifiedKFold(n_splits=3, shuffle=True, random_state=STATE)\n",
    "clf_pca = GridSearchCV(pipeline, cv=kfold, verbose=4, param_grid=params_grid, scoring=score_mcc_)\n",
    "start = time()\n",
    "clf_pca.fit(X_train, y_train)\n",
    "print(\"GridSearchCV took %.2f seconds for %d candidate parameter settings.\"\n",
    "      % (time() - start, len(clf_pca.cv_results_['params'])))"
   ]
  },
  {
   "cell_type": "code",
   "execution_count": 38,
   "id": "76ece46b",
   "metadata": {
    "colab": {
     "base_uri": "https://localhost:8080/"
    },
    "id": "76ece46b",
    "outputId": "6a299fd6-d2ea-496e-ad05-c0074ba775dd"
   },
   "outputs": [
    {
     "name": "stdout",
     "output_type": "stream",
     "text": [
      "Model with rank: 1\n",
      "Mean validation score: 0.938 (std: 0.004)\n",
      "Parameters: {'clf__C': 0.1, 'clf__class_weight': 'balanced', 'reduce_dim__n_components': 100}\n",
      "\n",
      "Model with rank: 2\n",
      "Mean validation score: 0.937 (std: 0.004)\n",
      "Parameters: {'clf__C': 0.09, 'clf__class_weight': 'balanced', 'reduce_dim__n_components': 100}\n",
      "\n",
      "Model with rank: 3\n",
      "Mean validation score: 0.937 (std: 0.002)\n",
      "Parameters: {'clf__C': 0.08, 'clf__class_weight': 'balanced', 'reduce_dim__n_components': 100}\n",
      "\n",
      "Model with rank: 4\n",
      "Mean validation score: 0.937 (std: 0.004)\n",
      "Parameters: {'clf__C': 0.09, 'clf__class_weight': 'balanced', 'reduce_dim__n_components': 90}\n",
      "\n",
      "Model with rank: 4\n",
      "Mean validation score: 0.937 (std: 0.004)\n",
      "Parameters: {'clf__C': 0.1, 'clf__class_weight': 'balanced', 'reduce_dim__n_components': 90}\n",
      "\n"
     ]
    }
   ],
   "source": [
    "report(clf_pca.cv_results_, n_top=5)"
   ]
  },
  {
   "cell_type": "code",
   "execution_count": 39,
   "id": "95a1c980",
   "metadata": {
    "colab": {
     "base_uri": "https://localhost:8080/",
     "height": 161
    },
    "id": "95a1c980",
    "outputId": "8beb3449-4406-4528-da10-46d392c57ed9"
   },
   "outputs": [
    {
     "data": {
      "text/html": [
       "<style>#sk-51add22b-dd4b-49d6-8b5d-ceea2f9e2d15 {color: black;background-color: white;}#sk-51add22b-dd4b-49d6-8b5d-ceea2f9e2d15 pre{padding: 0;}#sk-51add22b-dd4b-49d6-8b5d-ceea2f9e2d15 div.sk-toggleable {background-color: white;}#sk-51add22b-dd4b-49d6-8b5d-ceea2f9e2d15 label.sk-toggleable__label {cursor: pointer;display: block;width: 100%;margin-bottom: 0;padding: 0.3em;box-sizing: border-box;text-align: center;}#sk-51add22b-dd4b-49d6-8b5d-ceea2f9e2d15 label.sk-toggleable__label-arrow:before {content: \"▸\";float: left;margin-right: 0.25em;color: #696969;}#sk-51add22b-dd4b-49d6-8b5d-ceea2f9e2d15 label.sk-toggleable__label-arrow:hover:before {color: black;}#sk-51add22b-dd4b-49d6-8b5d-ceea2f9e2d15 div.sk-estimator:hover label.sk-toggleable__label-arrow:before {color: black;}#sk-51add22b-dd4b-49d6-8b5d-ceea2f9e2d15 div.sk-toggleable__content {max-height: 0;max-width: 0;overflow: hidden;text-align: left;background-color: #f0f8ff;}#sk-51add22b-dd4b-49d6-8b5d-ceea2f9e2d15 div.sk-toggleable__content pre {margin: 0.2em;color: black;border-radius: 0.25em;background-color: #f0f8ff;}#sk-51add22b-dd4b-49d6-8b5d-ceea2f9e2d15 input.sk-toggleable__control:checked~div.sk-toggleable__content {max-height: 200px;max-width: 100%;overflow: auto;}#sk-51add22b-dd4b-49d6-8b5d-ceea2f9e2d15 input.sk-toggleable__control:checked~label.sk-toggleable__label-arrow:before {content: \"▾\";}#sk-51add22b-dd4b-49d6-8b5d-ceea2f9e2d15 div.sk-estimator input.sk-toggleable__control:checked~label.sk-toggleable__label {background-color: #d4ebff;}#sk-51add22b-dd4b-49d6-8b5d-ceea2f9e2d15 div.sk-label input.sk-toggleable__control:checked~label.sk-toggleable__label {background-color: #d4ebff;}#sk-51add22b-dd4b-49d6-8b5d-ceea2f9e2d15 input.sk-hidden--visually {border: 0;clip: rect(1px 1px 1px 1px);clip: rect(1px, 1px, 1px, 1px);height: 1px;margin: -1px;overflow: hidden;padding: 0;position: absolute;width: 1px;}#sk-51add22b-dd4b-49d6-8b5d-ceea2f9e2d15 div.sk-estimator {font-family: monospace;background-color: #f0f8ff;border: 1px dotted black;border-radius: 0.25em;box-sizing: border-box;margin-bottom: 0.5em;}#sk-51add22b-dd4b-49d6-8b5d-ceea2f9e2d15 div.sk-estimator:hover {background-color: #d4ebff;}#sk-51add22b-dd4b-49d6-8b5d-ceea2f9e2d15 div.sk-parallel-item::after {content: \"\";width: 100%;border-bottom: 1px solid gray;flex-grow: 1;}#sk-51add22b-dd4b-49d6-8b5d-ceea2f9e2d15 div.sk-label:hover label.sk-toggleable__label {background-color: #d4ebff;}#sk-51add22b-dd4b-49d6-8b5d-ceea2f9e2d15 div.sk-serial::before {content: \"\";position: absolute;border-left: 1px solid gray;box-sizing: border-box;top: 2em;bottom: 0;left: 50%;}#sk-51add22b-dd4b-49d6-8b5d-ceea2f9e2d15 div.sk-serial {display: flex;flex-direction: column;align-items: center;background-color: white;padding-right: 0.2em;padding-left: 0.2em;}#sk-51add22b-dd4b-49d6-8b5d-ceea2f9e2d15 div.sk-item {z-index: 1;}#sk-51add22b-dd4b-49d6-8b5d-ceea2f9e2d15 div.sk-parallel {display: flex;align-items: stretch;justify-content: center;background-color: white;}#sk-51add22b-dd4b-49d6-8b5d-ceea2f9e2d15 div.sk-parallel::before {content: \"\";position: absolute;border-left: 1px solid gray;box-sizing: border-box;top: 2em;bottom: 0;left: 50%;}#sk-51add22b-dd4b-49d6-8b5d-ceea2f9e2d15 div.sk-parallel-item {display: flex;flex-direction: column;position: relative;background-color: white;}#sk-51add22b-dd4b-49d6-8b5d-ceea2f9e2d15 div.sk-parallel-item:first-child::after {align-self: flex-end;width: 50%;}#sk-51add22b-dd4b-49d6-8b5d-ceea2f9e2d15 div.sk-parallel-item:last-child::after {align-self: flex-start;width: 50%;}#sk-51add22b-dd4b-49d6-8b5d-ceea2f9e2d15 div.sk-parallel-item:only-child::after {width: 0;}#sk-51add22b-dd4b-49d6-8b5d-ceea2f9e2d15 div.sk-dashed-wrapped {border: 1px dashed gray;margin: 0 0.4em 0.5em 0.4em;box-sizing: border-box;padding-bottom: 0.4em;background-color: white;position: relative;}#sk-51add22b-dd4b-49d6-8b5d-ceea2f9e2d15 div.sk-label label {font-family: monospace;font-weight: bold;background-color: white;display: inline-block;line-height: 1.2em;}#sk-51add22b-dd4b-49d6-8b5d-ceea2f9e2d15 div.sk-label-container {position: relative;z-index: 2;text-align: center;}#sk-51add22b-dd4b-49d6-8b5d-ceea2f9e2d15 div.sk-container {/* jupyter's `normalize.less` sets `[hidden] { display: none; }` but bootstrap.min.css set `[hidden] { display: none !important; }` so we also need the `!important` here to be able to override the default hidden behavior on the sphinx rendered scikit-learn.org. See: https://github.com/scikit-learn/scikit-learn/issues/21755 */display: inline-block !important;position: relative;}#sk-51add22b-dd4b-49d6-8b5d-ceea2f9e2d15 div.sk-text-repr-fallback {display: none;}</style><div id=\"sk-51add22b-dd4b-49d6-8b5d-ceea2f9e2d15\" class=\"sk-top-container\"><div class=\"sk-text-repr-fallback\"><pre>Pipeline(steps=[(&#x27;scaler&#x27;, StandardScaler()),\n",
       "                (&#x27;reduce_dim&#x27;,\n",
       "                 PCA(n_components=100, random_state=42, whiten=True)),\n",
       "                (&#x27;clf&#x27;,\n",
       "                 LogisticRegression(C=0.1, class_weight=&#x27;balanced&#x27;,\n",
       "                                    max_iter=10000, penalty=&#x27;l1&#x27;,\n",
       "                                    random_state=42, solver=&#x27;liblinear&#x27;,\n",
       "                                    tol=1e-06))])</pre><b>Please rerun this cell to show the HTML repr or trust the notebook.</b></div><div class=\"sk-container\" hidden><div class=\"sk-item sk-dashed-wrapped\"><div class=\"sk-label-container\"><div class=\"sk-label sk-toggleable\"><input class=\"sk-toggleable__control sk-hidden--visually\" id=\"def07655-1670-43c3-92c4-dc0ae5facc56\" type=\"checkbox\" ><label for=\"def07655-1670-43c3-92c4-dc0ae5facc56\" class=\"sk-toggleable__label sk-toggleable__label-arrow\">Pipeline</label><div class=\"sk-toggleable__content\"><pre>Pipeline(steps=[(&#x27;scaler&#x27;, StandardScaler()),\n",
       "                (&#x27;reduce_dim&#x27;,\n",
       "                 PCA(n_components=100, random_state=42, whiten=True)),\n",
       "                (&#x27;clf&#x27;,\n",
       "                 LogisticRegression(C=0.1, class_weight=&#x27;balanced&#x27;,\n",
       "                                    max_iter=10000, penalty=&#x27;l1&#x27;,\n",
       "                                    random_state=42, solver=&#x27;liblinear&#x27;,\n",
       "                                    tol=1e-06))])</pre></div></div></div><div class=\"sk-serial\"><div class=\"sk-item\"><div class=\"sk-estimator sk-toggleable\"><input class=\"sk-toggleable__control sk-hidden--visually\" id=\"d589f960-4bee-4449-a00a-893eabd133c5\" type=\"checkbox\" ><label for=\"d589f960-4bee-4449-a00a-893eabd133c5\" class=\"sk-toggleable__label sk-toggleable__label-arrow\">StandardScaler</label><div class=\"sk-toggleable__content\"><pre>StandardScaler()</pre></div></div></div><div class=\"sk-item\"><div class=\"sk-estimator sk-toggleable\"><input class=\"sk-toggleable__control sk-hidden--visually\" id=\"1a605165-b4b1-41c7-b3e1-0f5381370421\" type=\"checkbox\" ><label for=\"1a605165-b4b1-41c7-b3e1-0f5381370421\" class=\"sk-toggleable__label sk-toggleable__label-arrow\">PCA</label><div class=\"sk-toggleable__content\"><pre>PCA(n_components=100, random_state=42, whiten=True)</pre></div></div></div><div class=\"sk-item\"><div class=\"sk-estimator sk-toggleable\"><input class=\"sk-toggleable__control sk-hidden--visually\" id=\"ec37245f-9073-415e-8996-7b963987cb83\" type=\"checkbox\" ><label for=\"ec37245f-9073-415e-8996-7b963987cb83\" class=\"sk-toggleable__label sk-toggleable__label-arrow\">LogisticRegression</label><div class=\"sk-toggleable__content\"><pre>LogisticRegression(C=0.1, class_weight=&#x27;balanced&#x27;, max_iter=10000, penalty=&#x27;l1&#x27;,\n",
       "                   random_state=42, solver=&#x27;liblinear&#x27;, tol=1e-06)</pre></div></div></div></div></div></div></div>"
      ],
      "text/plain": [
       "Pipeline(steps=[('scaler', StandardScaler()),\n",
       "                ('reduce_dim',\n",
       "                 PCA(n_components=100, random_state=42, whiten=True)),\n",
       "                ('clf',\n",
       "                 LogisticRegression(C=0.1, class_weight='balanced',\n",
       "                                    max_iter=10000, penalty='l1',\n",
       "                                    random_state=42, solver='liblinear',\n",
       "                                    tol=1e-06))])"
      ]
     },
     "metadata": {},
     "output_type": "display_data"
    }
   ],
   "source": [
    "set_config(display='diagram')\n",
    "display(clf_pca.best_estimator_)\n",
    "pca = clf_pca.best_estimator_.named_steps['reduce_dim']"
   ]
  },
  {
   "cell_type": "markdown",
   "id": "a01bea49",
   "metadata": {
    "id": "a01bea49"
   },
   "source": [
    "# PCA statistics and scores"
   ]
  },
  {
   "cell_type": "code",
   "execution_count": 40,
   "id": "a977d5fc",
   "metadata": {
    "colab": {
     "base_uri": "https://localhost:8080/",
     "height": 279
    },
    "id": "a977d5fc",
    "outputId": "2eafd238-76ce-4c89-9e8a-994e2194fcc7"
   },
   "outputs": [
    {
     "data": {
      "image/png": "[encoded data removed]",
      "text/plain": [
       "<Figure size 432x288 with 1 Axes>"
      ]
     },
     "metadata": {
      "needs_background": "light"
     },
     "output_type": "display_data"
    }
   ],
   "source": [
    "plt.plot(np.cumsum(pca.explained_variance_ratio_ * 100))\n",
    "plt.xlabel(\"Number of components (Dimensions)\")\n",
    "plt.ylabel(\"Explained variance (%)\")\n",
    "plt.show()"
   ]
  },
  {
   "cell_type": "code",
   "execution_count": 41,
   "id": "674aa7c9",
   "metadata": {
    "colab": {
     "base_uri": "https://localhost:8080/",
     "height": 281
    },
    "id": "674aa7c9",
    "outputId": "cbe935d9-ac8e-4eaa-ee50-bd5b90fa3e0d"
   },
   "outputs": [
    {
     "data": {
      "image/png": "[encoded data removed]",
      "text/plain": [
       "<Figure size 432x288 with 1 Axes>"
      ]
     },
     "metadata": {
      "needs_background": "light"
     },
     "output_type": "display_data"
    }
   ],
   "source": [
    "plt.bar(range(pca.n_components), pca.explained_variance_)\n",
    "plt.title(\"Eigenvalues\")\n",
    "plt.show()"
   ]
  },
  {
   "cell_type": "markdown",
   "id": "699260cc-fa4f-4a91-b43d-56582f5662fc",
   "metadata": {
    "gradient": {
     "editing": false,
     "id": "699260cc-fa4f-4a91-b43d-56582f5662fc",
     "kernelId": ""
    },
    "id": "699260cc-fa4f-4a91-b43d-56582f5662fc"
   },
   "source": [
    "# Pipeline scores"
   ]
  },
  {
   "cell_type": "code",
   "execution_count": 42,
   "id": "16899274",
   "metadata": {
    "colab": {
     "base_uri": "https://localhost:8080/",
     "height": 129
    },
    "id": "16899274",
    "outputId": "8008f6ef-7ad9-4ec8-c299-1d096d3b8319"
   },
   "outputs": [
    {
     "name": "stderr",
     "output_type": "stream",
     "text": [
      "/usr/local/lib/python3.7/dist-packages/sklearn/base.py:451: UserWarning: X does not have valid feature names, but StandardScaler was fitted with feature names\n",
      "  \"X does not have valid feature names, but\"\n"
     ]
    },
    {
     "data": {
      "text/html": [
       "<style>#sk-999f70b5-7c34-4563-8b7e-1e20ffe203a1 {color: black;background-color: white;}#sk-999f70b5-7c34-4563-8b7e-1e20ffe203a1 pre{padding: 0;}#sk-999f70b5-7c34-4563-8b7e-1e20ffe203a1 div.sk-toggleable {background-color: white;}#sk-999f70b5-7c34-4563-8b7e-1e20ffe203a1 label.sk-toggleable__label {cursor: pointer;display: block;width: 100%;margin-bottom: 0;padding: 0.3em;box-sizing: border-box;text-align: center;}#sk-999f70b5-7c34-4563-8b7e-1e20ffe203a1 label.sk-toggleable__label-arrow:before {content: \"▸\";float: left;margin-right: 0.25em;color: #696969;}#sk-999f70b5-7c34-4563-8b7e-1e20ffe203a1 label.sk-toggleable__label-arrow:hover:before {color: black;}#sk-999f70b5-7c34-4563-8b7e-1e20ffe203a1 div.sk-estimator:hover label.sk-toggleable__label-arrow:before {color: black;}#sk-999f70b5-7c34-4563-8b7e-1e20ffe203a1 div.sk-toggleable__content {max-height: 0;max-width: 0;overflow: hidden;text-align: left;background-color: #f0f8ff;}#sk-999f70b5-7c34-4563-8b7e-1e20ffe203a1 div.sk-toggleable__content pre {margin: 0.2em;color: black;border-radius: 0.25em;background-color: #f0f8ff;}#sk-999f70b5-7c34-4563-8b7e-1e20ffe203a1 input.sk-toggleable__control:checked~div.sk-toggleable__content {max-height: 200px;max-width: 100%;overflow: auto;}#sk-999f70b5-7c34-4563-8b7e-1e20ffe203a1 input.sk-toggleable__control:checked~label.sk-toggleable__label-arrow:before {content: \"▾\";}#sk-999f70b5-7c34-4563-8b7e-1e20ffe203a1 div.sk-estimator input.sk-toggleable__control:checked~label.sk-toggleable__label {background-color: #d4ebff;}#sk-999f70b5-7c34-4563-8b7e-1e20ffe203a1 div.sk-label input.sk-toggleable__control:checked~label.sk-toggleable__label {background-color: #d4ebff;}#sk-999f70b5-7c34-4563-8b7e-1e20ffe203a1 input.sk-hidden--visually {border: 0;clip: rect(1px 1px 1px 1px);clip: rect(1px, 1px, 1px, 1px);height: 1px;margin: -1px;overflow: hidden;padding: 0;position: absolute;width: 1px;}#sk-999f70b5-7c34-4563-8b7e-1e20ffe203a1 div.sk-estimator {font-family: monospace;background-color: #f0f8ff;border: 1px dotted black;border-radius: 0.25em;box-sizing: border-box;margin-bottom: 0.5em;}#sk-999f70b5-7c34-4563-8b7e-1e20ffe203a1 div.sk-estimator:hover {background-color: #d4ebff;}#sk-999f70b5-7c34-4563-8b7e-1e20ffe203a1 div.sk-parallel-item::after {content: \"\";width: 100%;border-bottom: 1px solid gray;flex-grow: 1;}#sk-999f70b5-7c34-4563-8b7e-1e20ffe203a1 div.sk-label:hover label.sk-toggleable__label {background-color: #d4ebff;}#sk-999f70b5-7c34-4563-8b7e-1e20ffe203a1 div.sk-serial::before {content: \"\";position: absolute;border-left: 1px solid gray;box-sizing: border-box;top: 2em;bottom: 0;left: 50%;}#sk-999f70b5-7c34-4563-8b7e-1e20ffe203a1 div.sk-serial {display: flex;flex-direction: column;align-items: center;background-color: white;padding-right: 0.2em;padding-left: 0.2em;}#sk-999f70b5-7c34-4563-8b7e-1e20ffe203a1 div.sk-item {z-index: 1;}#sk-999f70b5-7c34-4563-8b7e-1e20ffe203a1 div.sk-parallel {display: flex;align-items: stretch;justify-content: center;background-color: white;}#sk-999f70b5-7c34-4563-8b7e-1e20ffe203a1 div.sk-parallel::before {content: \"\";position: absolute;border-left: 1px solid gray;box-sizing: border-box;top: 2em;bottom: 0;left: 50%;}#sk-999f70b5-7c34-4563-8b7e-1e20ffe203a1 div.sk-parallel-item {display: flex;flex-direction: column;position: relative;background-color: white;}#sk-999f70b5-7c34-4563-8b7e-1e20ffe203a1 div.sk-parallel-item:first-child::after {align-self: flex-end;width: 50%;}#sk-999f70b5-7c34-4563-8b7e-1e20ffe203a1 div.sk-parallel-item:last-child::after {align-self: flex-start;width: 50%;}#sk-999f70b5-7c34-4563-8b7e-1e20ffe203a1 div.sk-parallel-item:only-child::after {width: 0;}#sk-999f70b5-7c34-4563-8b7e-1e20ffe203a1 div.sk-dashed-wrapped {border: 1px dashed gray;margin: 0 0.4em 0.5em 0.4em;box-sizing: border-box;padding-bottom: 0.4em;background-color: white;position: relative;}#sk-999f70b5-7c34-4563-8b7e-1e20ffe203a1 div.sk-label label {font-family: monospace;font-weight: bold;background-color: white;display: inline-block;line-height: 1.2em;}#sk-999f70b5-7c34-4563-8b7e-1e20ffe203a1 div.sk-label-container {position: relative;z-index: 2;text-align: center;}#sk-999f70b5-7c34-4563-8b7e-1e20ffe203a1 div.sk-container {/* jupyter's `normalize.less` sets `[hidden] { display: none; }` but bootstrap.min.css set `[hidden] { display: none !important; }` so we also need the `!important` here to be able to override the default hidden behavior on the sphinx rendered scikit-learn.org. See: https://github.com/scikit-learn/scikit-learn/issues/21755 */display: inline-block !important;position: relative;}#sk-999f70b5-7c34-4563-8b7e-1e20ffe203a1 div.sk-text-repr-fallback {display: none;}</style><div id=\"sk-999f70b5-7c34-4563-8b7e-1e20ffe203a1\" class=\"sk-top-container\"><div class=\"sk-text-repr-fallback\"><pre>LogisticRegression(C=0.1, class_weight=&#x27;balanced&#x27;, max_iter=10000, penalty=&#x27;l1&#x27;,\n",
       "                   random_state=42, solver=&#x27;liblinear&#x27;, tol=1e-06)</pre><b>Please rerun this cell to show the HTML repr or trust the notebook.</b></div><div class=\"sk-container\" hidden><div class=\"sk-item\"><div class=\"sk-estimator sk-toggleable\"><input class=\"sk-toggleable__control sk-hidden--visually\" id=\"6493dbf3-655c-443c-9cd0-996caa21fc1f\" type=\"checkbox\" checked><label for=\"6493dbf3-655c-443c-9cd0-996caa21fc1f\" class=\"sk-toggleable__label sk-toggleable__label-arrow\">LogisticRegression</label><div class=\"sk-toggleable__content\"><pre>LogisticRegression(C=0.1, class_weight=&#x27;balanced&#x27;, max_iter=10000, penalty=&#x27;l1&#x27;,\n",
       "                   random_state=42, solver=&#x27;liblinear&#x27;, tol=1e-06)</pre></div></div></div></div></div>"
      ],
      "text/plain": [
       "LogisticRegression(C=0.1, class_weight='balanced', max_iter=10000, penalty='l1',\n",
       "                   random_state=42, solver='liblinear', tol=1e-06)"
      ]
     },
     "execution_count": 42,
     "metadata": {},
     "output_type": "execute_result"
    }
   ],
   "source": [
    "scl = clf_pca.best_estimator_.named_steps['scaler']\n",
    "model = clf_pca.best_estimator_.named_steps['clf']\n",
    "X_scaled_train = scl.transform(X_train.values)\n",
    "X_pca_train = pca.transform(X_scaled_train)\n",
    "model.fit(X_pca_train, y_train)"
   ]
  },
  {
   "cell_type": "code",
   "execution_count": 43,
   "id": "df5666b4",
   "metadata": {
    "colab": {
     "base_uri": "https://localhost:8080/"
    },
    "id": "df5666b4",
    "outputId": "dc1d519b-da46-45c3-e97c-824f18aa7584"
   },
   "outputs": [
    {
     "name": "stdout",
     "output_type": "stream",
     "text": [
      "Search for the best threshold by maximizing \"matthews_corrcoef\":\n",
      "Threshold =\t0.5693258807070398\n",
      "Bal. Acc. =\t0.9751213110817815\n",
      "Accuracy =\t0.9770787042451176\n",
      "MCC score =\t0.9453302897618892\t\n",
      "\n",
      "Search for the best threshold by maximizing \"balanced_accuracy\":\n",
      "Threshold =\t0.5693258807070398\n",
      "Bal. Acc. =\t0.9751213110817815\n",
      "Accuracy =\t0.9770787042451176\n",
      "MCC score =\t0.9453302897618892\t\n",
      "\n",
      "Bal. Acc. =\t0.801\n",
      "Accuracy =\t0.848\n",
      "MCC score =\t0.632\t\n",
      "\n",
      "Bal. Acc. =\t0.757\n",
      "Accuracy =\t0.818\n",
      "MCC score =\t0.558\t\n",
      "\n"
     ]
    },
    {
     "data": {
      "text/plain": [
       "(0.8178294573643411, 0.5577541239337019)"
      ]
     },
     "execution_count": 43,
     "metadata": {},
     "output_type": "execute_result"
    }
   ],
   "source": [
    "yhat_train = clf_pca.predict_proba(X_train)[:, 1]\n",
    "thr_mcc, _, _ = print_thresholds(y_train, yhat_train)\n",
    "yhat_valid = clf_pca.predict_proba(X_valid)[:, 1]\n",
    "y_pred_thr_mcc_valid = np.array([1 if i >= thr_mcc else 0 for i in yhat_valid])\n",
    "print_scores(y_valid, y_pred_thr_mcc_valid)\n",
    "yhat_test = clf_pca.predict_proba(X_test)[:, 1]\n",
    "y_pred_thr_mcc = np.array([1 if i >= thr_mcc else 0 for i in yhat_test])\n",
    "print_scores(y_test, y_pred_thr_mcc)"
   ]
  },
  {
   "cell_type": "code",
   "execution_count": null,
   "id": "5cfc3f88",
   "metadata": {
    "id": "5cfc3f88"
   },
   "outputs": [],
   "source": [
    "# saving results"
   ]
  },
  {
   "cell_type": "code",
   "execution_count": null,
   "id": "47155dfe",
   "metadata": {
    "id": "47155dfe"
   },
   "outputs": [],
   "source": [
    "# import joblib\n",
    "# joblib.dump(clf_pca, 'grid_search_CV_100.pkl')"
   ]
  },
  {
   "cell_type": "code",
   "execution_count": 45,
   "id": "a952f892-dbf1-4a88-8c12-23535cfe25c4",
   "metadata": {
    "gradient": {
     "execution_count": 51,
     "id": "a952f892-dbf1-4a88-8c12-23535cfe25c4",
     "kernelId": ""
    },
    "id": "a952f892-dbf1-4a88-8c12-23535cfe25c4"
   },
   "outputs": [],
   "source": [
    "# np.save('in_domain_dev.npy', X_h0_valid)\n",
    "# np.save('out_of_domain_dev.npy', X_h0_test)\n",
    "# np.save('in_domain_train.npy', X_h0_train)"
   ]
  }
 ],
 "metadata": {
  "accelerator": "GPU",
  "colab": {
   "collapsed_sections": [],
   "name": "pca_grid_search_CV.ipynb",
   "provenance": []
  },
  "kernelspec": {
   "display_name": "Python 3 (ipykernel)",
   "language": "python",
   "name": "python3"
  },
  "language_info": {
   "codemirror_mode": {
    "name": "ipython",
    "version": 3
   },
   "file_extension": ".py",
   "mimetype": "text/x-python",
   "name": "python",
   "nbconvert_exporter": "python",
   "pygments_lexer": "ipython3",
   "version": "3.9.7"
  }
 },
 "nbformat": 4,
 "nbformat_minor": 5
}
